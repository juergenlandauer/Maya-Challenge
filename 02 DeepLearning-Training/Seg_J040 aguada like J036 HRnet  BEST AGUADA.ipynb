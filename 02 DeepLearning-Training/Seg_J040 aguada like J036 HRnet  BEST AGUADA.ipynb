{
 "cells": [
  {
   "cell_type": "markdown",
   "metadata": {
    "id": "ksMN1dbJbiTZ"
   },
   "source": [
    "# Image Segmentation"
   ]
  },
  {
   "cell_type": "markdown",
   "metadata": {},
   "source": [
    "Some basic parameters:"
   ]
  },
  {
   "cell_type": "code",
   "execution_count": 1,
   "metadata": {
    "id": "654QopxlNw0u"
   },
   "outputs": [],
   "source": [
    "VERSION = \"J040\"\n",
    "\n",
    "# do we run on Jarvis cloud platform?\n",
    "#JARVIS = True\n",
    "JARVIS = False\n",
    "\n",
    "TESTRUN = False"
   ]
  },
  {
   "cell_type": "markdown",
   "metadata": {},
   "source": [
    "installing libraries"
   ]
  },
  {
   "cell_type": "code",
   "execution_count": 2,
   "metadata": {
    "colab": {
     "base_uri": "https://localhost:8080/"
    },
    "id": "4GqP0-3GbiTa",
    "outputId": "92b86015-8e2a-476a-fb66-e576a352f497"
   },
   "outputs": [
    {
     "name": "stdout",
     "output_type": "stream",
     "text": [
      "Collecting git+https://github.com/WaterKnight1998/SemTorch\n",
      "  Cloning https://github.com/WaterKnight1998/SemTorch to /tmp/pip-req-build-jhastqtu\n",
      "  Running command git clone -q https://github.com/WaterKnight1998/SemTorch /tmp/pip-req-build-jhastqtu\n",
      "Requirement already satisfied: numpy<2.0.0,>=1.18.5 in /home/ju/miniconda3/envs/fastai/lib/python3.7/site-packages (from SemTorch==0.1.1) (1.19.2)\n",
      "Requirement already satisfied: scikit-image<1.0.0,>=0.17.2 in /home/ju/miniconda3/envs/fastai/lib/python3.7/site-packages (from SemTorch==0.1.1) (0.18.1)\n",
      "Requirement already satisfied: matplotlib in /home/ju/miniconda3/envs/fastai/lib/python3.7/site-packages (from SemTorch==0.1.1) (3.3.4)\n",
      "Requirement already satisfied: ipython in /home/ju/miniconda3/envs/fastai/lib/python3.7/site-packages (from SemTorch==0.1.1) (7.24.1)\n",
      "Requirement already satisfied: torch<2.0.0,>=1.6.0 in /home/ju/miniconda3/envs/fastai/lib/python3.7/site-packages (from SemTorch==0.1.1) (1.9.0)\n",
      "Requirement already satisfied: torchvision<1.0.0,>=0.7.0 in /home/ju/miniconda3/envs/fastai/lib/python3.7/site-packages (from SemTorch==0.1.1) (0.10.0)\n",
      "Requirement already satisfied: fastai<3.0.0,>=2.0.0 in /home/ju/miniconda3/envs/fastai/lib/python3.7/site-packages (from SemTorch==0.1.1) (2.4)\n",
      "Requirement already satisfied: tqdm in /home/ju/miniconda3/envs/fastai/lib/python3.7/site-packages (from SemTorch==0.1.1) (4.61.1)\n",
      "Requirement already satisfied: pillow>6.0.0 in /home/ju/miniconda3/envs/fastai/lib/python3.7/site-packages (from fastai<3.0.0,>=2.0.0->SemTorch==0.1.1) (8.2.0)\n",
      "Requirement already satisfied: requests in /home/ju/miniconda3/envs/fastai/lib/python3.7/site-packages (from fastai<3.0.0,>=2.0.0->SemTorch==0.1.1) (2.25.1)\n",
      "Requirement already satisfied: scikit-learn in /home/ju/miniconda3/envs/fastai/lib/python3.7/site-packages (from fastai<3.0.0,>=2.0.0->SemTorch==0.1.1) (0.24.2)\n",
      "Requirement already satisfied: pandas in /home/ju/miniconda3/envs/fastai/lib/python3.7/site-packages (from fastai<3.0.0,>=2.0.0->SemTorch==0.1.1) (1.2.4)\n",
      "Requirement already satisfied: packaging in /home/ju/miniconda3/envs/fastai/lib/python3.7/site-packages (from fastai<3.0.0,>=2.0.0->SemTorch==0.1.1) (20.9)\n",
      "Requirement already satisfied: spacy<4 in /home/ju/miniconda3/envs/fastai/lib/python3.7/site-packages (from fastai<3.0.0,>=2.0.0->SemTorch==0.1.1) (2.3.5)\n",
      "Requirement already satisfied: fastprogress>=0.2.4 in /home/ju/miniconda3/envs/fastai/lib/python3.7/site-packages (from fastai<3.0.0,>=2.0.0->SemTorch==0.1.1) (1.0.0)\n",
      "Requirement already satisfied: fastcore<1.4,>=1.3.8 in /home/ju/miniconda3/envs/fastai/lib/python3.7/site-packages (from fastai<3.0.0,>=2.0.0->SemTorch==0.1.1) (1.3.20)\n",
      "Requirement already satisfied: pip in /home/ju/miniconda3/envs/fastai/lib/python3.7/site-packages (from fastai<3.0.0,>=2.0.0->SemTorch==0.1.1) (21.1.2)\n",
      "Requirement already satisfied: scipy in /home/ju/miniconda3/envs/fastai/lib/python3.7/site-packages (from fastai<3.0.0,>=2.0.0->SemTorch==0.1.1) (1.6.2)\n",
      "Requirement already satisfied: pyyaml in /home/ju/miniconda3/envs/fastai/lib/python3.7/site-packages (from fastai<3.0.0,>=2.0.0->SemTorch==0.1.1) (5.4.1)\n",
      "Requirement already satisfied: imageio>=2.3.0 in /home/ju/miniconda3/envs/fastai/lib/python3.7/site-packages (from scikit-image<1.0.0,>=0.17.2->SemTorch==0.1.1) (2.9.0)\n",
      "Requirement already satisfied: networkx>=2.0 in /home/ju/miniconda3/envs/fastai/lib/python3.7/site-packages (from scikit-image<1.0.0,>=0.17.2->SemTorch==0.1.1) (2.5.1)\n",
      "Requirement already satisfied: tifffile>=2019.7.26 in /home/ju/miniconda3/envs/fastai/lib/python3.7/site-packages (from scikit-image<1.0.0,>=0.17.2->SemTorch==0.1.1) (2021.6.14)\n",
      "Requirement already satisfied: PyWavelets>=1.1.1 in /home/ju/miniconda3/envs/fastai/lib/python3.7/site-packages (from scikit-image<1.0.0,>=0.17.2->SemTorch==0.1.1) (1.1.1)\n",
      "Requirement already satisfied: pyparsing!=2.0.4,!=2.1.2,!=2.1.6,>=2.0.3 in /home/ju/miniconda3/envs/fastai/lib/python3.7/site-packages (from matplotlib->SemTorch==0.1.1) (2.4.7)\n",
      "Requirement already satisfied: kiwisolver>=1.0.1 in /home/ju/miniconda3/envs/fastai/lib/python3.7/site-packages (from matplotlib->SemTorch==0.1.1) (1.3.1)\n",
      "Requirement already satisfied: python-dateutil>=2.1 in /home/ju/miniconda3/envs/fastai/lib/python3.7/site-packages (from matplotlib->SemTorch==0.1.1) (2.8.1)\n",
      "Requirement already satisfied: cycler>=0.10 in /home/ju/miniconda3/envs/fastai/lib/python3.7/site-packages (from matplotlib->SemTorch==0.1.1) (0.10.0)\n",
      "Requirement already satisfied: six in /home/ju/miniconda3/envs/fastai/lib/python3.7/site-packages (from cycler>=0.10->matplotlib->SemTorch==0.1.1) (1.16.0)\n",
      "Requirement already satisfied: decorator<5,>=4.3 in /home/ju/miniconda3/envs/fastai/lib/python3.7/site-packages (from networkx>=2.0->scikit-image<1.0.0,>=0.17.2->SemTorch==0.1.1) (4.4.2)\n",
      "Requirement already satisfied: preshed<3.1.0,>=3.0.2 in /home/ju/miniconda3/envs/fastai/lib/python3.7/site-packages (from spacy<4->fastai<3.0.0,>=2.0.0->SemTorch==0.1.1) (3.0.5)\n",
      "Requirement already satisfied: srsly<1.1.0,>=1.0.2 in /home/ju/miniconda3/envs/fastai/lib/python3.7/site-packages (from spacy<4->fastai<3.0.0,>=2.0.0->SemTorch==0.1.1) (1.0.5)\n",
      "Requirement already satisfied: thinc<7.5.0,>=7.4.1 in /home/ju/miniconda3/envs/fastai/lib/python3.7/site-packages (from spacy<4->fastai<3.0.0,>=2.0.0->SemTorch==0.1.1) (7.4.5)\n",
      "Requirement already satisfied: murmurhash<1.1.0,>=0.28.0 in /home/ju/miniconda3/envs/fastai/lib/python3.7/site-packages (from spacy<4->fastai<3.0.0,>=2.0.0->SemTorch==0.1.1) (1.0.5)\n",
      "Requirement already satisfied: blis<0.8.0,>=0.4.0 in /home/ju/miniconda3/envs/fastai/lib/python3.7/site-packages (from spacy<4->fastai<3.0.0,>=2.0.0->SemTorch==0.1.1) (0.7.4)\n",
      "Requirement already satisfied: cymem<2.1.0,>=2.0.2 in /home/ju/miniconda3/envs/fastai/lib/python3.7/site-packages (from spacy<4->fastai<3.0.0,>=2.0.0->SemTorch==0.1.1) (2.0.5)\n",
      "Requirement already satisfied: wasabi<1.1.0,>=0.4.0 in /home/ju/miniconda3/envs/fastai/lib/python3.7/site-packages (from spacy<4->fastai<3.0.0,>=2.0.0->SemTorch==0.1.1) (0.8.2)\n",
      "Requirement already satisfied: setuptools in /home/ju/miniconda3/envs/fastai/lib/python3.7/site-packages (from spacy<4->fastai<3.0.0,>=2.0.0->SemTorch==0.1.1) (52.0.0.post20210125)\n",
      "Requirement already satisfied: catalogue<1.1.0,>=0.0.7 in /home/ju/miniconda3/envs/fastai/lib/python3.7/site-packages (from spacy<4->fastai<3.0.0,>=2.0.0->SemTorch==0.1.1) (1.0.0)\n",
      "Requirement already satisfied: plac<1.2.0,>=0.9.6 in /home/ju/miniconda3/envs/fastai/lib/python3.7/site-packages (from spacy<4->fastai<3.0.0,>=2.0.0->SemTorch==0.1.1) (1.1.0)\n",
      "Requirement already satisfied: importlib-metadata>=0.20 in /home/ju/miniconda3/envs/fastai/lib/python3.7/site-packages (from catalogue<1.1.0,>=0.0.7->spacy<4->fastai<3.0.0,>=2.0.0->SemTorch==0.1.1) (3.10.0)\n",
      "Requirement already satisfied: zipp>=0.5 in /home/ju/miniconda3/envs/fastai/lib/python3.7/site-packages (from importlib-metadata>=0.20->catalogue<1.1.0,>=0.0.7->spacy<4->fastai<3.0.0,>=2.0.0->SemTorch==0.1.1) (3.4.1)\n",
      "Requirement already satisfied: typing-extensions>=3.6.4 in /home/ju/miniconda3/envs/fastai/lib/python3.7/site-packages (from importlib-metadata>=0.20->catalogue<1.1.0,>=0.0.7->spacy<4->fastai<3.0.0,>=2.0.0->SemTorch==0.1.1) (3.7.4.3)\n",
      "Requirement already satisfied: chardet<5,>=3.0.2 in /home/ju/miniconda3/envs/fastai/lib/python3.7/site-packages (from requests->fastai<3.0.0,>=2.0.0->SemTorch==0.1.1) (4.0.0)\n",
      "Requirement already satisfied: urllib3<1.27,>=1.21.1 in /home/ju/miniconda3/envs/fastai/lib/python3.7/site-packages (from requests->fastai<3.0.0,>=2.0.0->SemTorch==0.1.1) (1.26.4)\n",
      "Requirement already satisfied: idna<3,>=2.5 in /home/ju/miniconda3/envs/fastai/lib/python3.7/site-packages (from requests->fastai<3.0.0,>=2.0.0->SemTorch==0.1.1) (2.10)\n",
      "Requirement already satisfied: certifi>=2017.4.17 in /home/ju/miniconda3/envs/fastai/lib/python3.7/site-packages (from requests->fastai<3.0.0,>=2.0.0->SemTorch==0.1.1) (2021.5.30)\n",
      "Requirement already satisfied: traitlets>=4.2 in /home/ju/miniconda3/envs/fastai/lib/python3.7/site-packages (from ipython->SemTorch==0.1.1) (5.0.5)\n",
      "Requirement already satisfied: pickleshare in /home/ju/miniconda3/envs/fastai/lib/python3.7/site-packages (from ipython->SemTorch==0.1.1) (0.7.5)\n",
      "Requirement already satisfied: backcall in /home/ju/miniconda3/envs/fastai/lib/python3.7/site-packages (from ipython->SemTorch==0.1.1) (0.2.0)\n",
      "Requirement already satisfied: matplotlib-inline in /home/ju/miniconda3/envs/fastai/lib/python3.7/site-packages (from ipython->SemTorch==0.1.1) (0.1.2)\n",
      "Requirement already satisfied: pexpect>4.3 in /home/ju/miniconda3/envs/fastai/lib/python3.7/site-packages (from ipython->SemTorch==0.1.1) (4.8.0)\n",
      "Requirement already satisfied: prompt-toolkit!=3.0.0,!=3.0.1,<3.1.0,>=2.0.0 in /home/ju/miniconda3/envs/fastai/lib/python3.7/site-packages (from ipython->SemTorch==0.1.1) (3.0.17)\n",
      "Requirement already satisfied: pygments in /home/ju/miniconda3/envs/fastai/lib/python3.7/site-packages (from ipython->SemTorch==0.1.1) (2.9.0)\n",
      "Requirement already satisfied: jedi>=0.16 in /home/ju/miniconda3/envs/fastai/lib/python3.7/site-packages (from ipython->SemTorch==0.1.1) (0.18.0)\n",
      "Requirement already satisfied: parso<0.9.0,>=0.8.0 in /home/ju/miniconda3/envs/fastai/lib/python3.7/site-packages (from jedi>=0.16->ipython->SemTorch==0.1.1) (0.8.2)\n",
      "Requirement already satisfied: ptyprocess>=0.5 in /home/ju/miniconda3/envs/fastai/lib/python3.7/site-packages (from pexpect>4.3->ipython->SemTorch==0.1.1) (0.7.0)\n"
     ]
    },
    {
     "name": "stdout",
     "output_type": "stream",
     "text": [
      "Requirement already satisfied: wcwidth in /home/ju/miniconda3/envs/fastai/lib/python3.7/site-packages (from prompt-toolkit!=3.0.0,!=3.0.1,<3.1.0,>=2.0.0->ipython->SemTorch==0.1.1) (0.2.5)\n",
      "Requirement already satisfied: ipython-genutils in /home/ju/miniconda3/envs/fastai/lib/python3.7/site-packages (from traitlets>=4.2->ipython->SemTorch==0.1.1) (0.2.0)\n",
      "Requirement already satisfied: pytz>=2017.3 in /home/ju/miniconda3/envs/fastai/lib/python3.7/site-packages (from pandas->fastai<3.0.0,>=2.0.0->SemTorch==0.1.1) (2021.1)\n",
      "Requirement already satisfied: joblib>=0.11 in /home/ju/miniconda3/envs/fastai/lib/python3.7/site-packages (from scikit-learn->fastai<3.0.0,>=2.0.0->SemTorch==0.1.1) (1.0.1)\n",
      "Requirement already satisfied: threadpoolctl>=2.0.0 in /home/ju/miniconda3/envs/fastai/lib/python3.7/site-packages (from scikit-learn->fastai<3.0.0,>=2.0.0->SemTorch==0.1.1) (2.1.0)\n"
     ]
    }
   ],
   "source": [
    "#Run this once per session\n",
    "!pip install fastai -q --upgrade\n",
    "!pip install git+https://github.com/WaterKnight1998/SemTorch"
   ]
  },
  {
   "cell_type": "markdown",
   "metadata": {
    "id": "unyF_YP0biTc"
   },
   "source": [
    "# Libraries"
   ]
  },
  {
   "cell_type": "code",
   "execution_count": 3,
   "metadata": {
    "id": "43-zWMEYbiTc"
   },
   "outputs": [
    {
     "name": "stderr",
     "output_type": "stream",
     "text": [
      "/home/ju/miniconda3/envs/fastai/lib/python3.7/site-packages/torch/nn/_reduction.py:42: UserWarning: size_average and reduce args will be deprecated, please use reduction='mean' instead.\n",
      "  warnings.warn(warning.format(ret))\n"
     ]
    }
   ],
   "source": [
    "from fastai.vision.all import *\n",
    "import pandas as pd\n",
    "import gc # garbage collector\n",
    "\n",
    "# SemTorch\n",
    "from semtorch import get_segmentation_learner"
   ]
  },
  {
   "cell_type": "code",
   "execution_count": 4,
   "metadata": {},
   "outputs": [],
   "source": [
    "# fix randomness\n",
    "my_seed = 42\n",
    "np.random.seed(my_seed);random.seed(my_seed);set_seed(my_seed)\n",
    "torch.backends.cudnn.deterministic = True\n",
    "torch.backends.cudnn.benchmark = False"
   ]
  },
  {
   "cell_type": "markdown",
   "metadata": {
    "id": "5yv9X04iNw0w"
   },
   "source": [
    "# Choose class used in this notebook"
   ]
  },
  {
   "cell_type": "code",
   "execution_count": 5,
   "metadata": {
    "id": "ImyXnyUt47gZ"
   },
   "outputs": [],
   "source": [
    "# what class are we looking for?\n",
    "myclass = \"aguada\"\n",
    "#myclass = \"building\"\n",
    "#myclass = \"platform\"\n",
    "\n",
    "mymask = \"mask_\"+myclass"
   ]
  },
  {
   "cell_type": "markdown",
   "metadata": {
    "id": "CH9mEmgybiTc"
   },
   "source": [
    "# Dataset\n"
   ]
  },
  {
   "cell_type": "code",
   "execution_count": 6,
   "metadata": {},
   "outputs": [
    {
     "data": {
      "text/plain": [
       "Path('../Data')"
      ]
     },
     "execution_count": 6,
     "metadata": {},
     "output_type": "execute_result"
    }
   ],
   "source": [
    "root_dir = Path(\"../Data/\")\n",
    "root_dir"
   ]
  },
  {
   "cell_type": "code",
   "execution_count": 7,
   "metadata": {
    "id": "5zH5Yelner01"
   },
   "outputs": [],
   "source": [
    "path = root_dir"
   ]
  },
  {
   "cell_type": "markdown",
   "metadata": {
    "id": "Z7XTNYHpbiTe"
   },
   "source": [
    "Some paths we use:"
   ]
  },
  {
   "cell_type": "code",
   "execution_count": 8,
   "metadata": {
    "id": "xawJJEhfbiTe"
   },
   "outputs": [],
   "source": [
    "path_im = path/'lidar_train'\n",
    "# these are the original masks but 'normalized' for fastai (i.e. only 0 and 1 allowed)\n",
    "path_lbl = path/'train_masks_normalized'\n",
    "\n",
    "# this contains the pixel counts\n",
    "maya_csv = path/'maya_analysis.csv'\n",
    "\n",
    "if myclass == 'aguada':\n",
    "    # old synthetic images\n",
    "    synth_path_im = path/'03_generated/images'\n",
    "    synth_path_lbl = path/'03_generated/normalized_masks'\n",
    "else:\n",
    "    # new synthetic images (no padding)\n",
    "    synth_path_im = path/'03_generated_21-05-20/images'\n",
    "    synth_path_lbl = path/'03_generated_21-05-20/normalized_masks'\n",
    "    \n",
    "    # newest (rectangular cut) synthetic images\n",
    "    #synth_path_im = path/'03_generated_21-06-07/images'\n",
    "    #synth_path_lbl = path/'03_generated_21-06-07/normalized_masks'\n",
    "\n",
    "    # newest synthetic images (pad 8 px)\n",
    "    #synth_path_im = path/'03_generated_21-06-14_padded/images'\n",
    "    #synth_path_lbl = path/'03_generated_21-06-14_padded/normalized_masks'\n"
   ]
  },
  {
   "cell_type": "markdown",
   "metadata": {},
   "source": [
    "### Important note:\n",
    "\n",
    "The data collection below is much more complicated that it should be. This is because we tried some data filtering first, but that did not work out. However there was no time to remove this code. We will remove it before the ECML conference, however.\n",
    "\n",
    "In essence you will notice that we create a pandas dataframe containing all images and all masks (i.e  do *not* use the option to remove any) and add the synthetic images+masks.\n",
    "\n",
    "(It is based on a csv file named maya_analysis.csv which contains a pixel count for each mask. But we do not use that information, as it turned out to be not helping the training if we use Focal Loss as loss function.)"
   ]
  },
  {
   "cell_type": "markdown",
   "metadata": {
    "id": "2LKuzRnlbiTf"
   },
   "source": [
    "First we collect our filenames. Only these with nonzero data in their mask. "
   ]
  },
  {
   "cell_type": "code",
   "execution_count": 9,
   "metadata": {
    "colab": {
     "base_uri": "https://localhost:8080/",
     "height": 219
    },
    "id": "EWW19Fkl1M0W",
    "outputId": "60f15e00-5dd8-415a-bde6-af0bb08698e8"
   },
   "outputs": [
    {
     "name": "stdout",
     "output_type": "stream",
     "text": [
      "5295\n"
     ]
    },
    {
     "data": {
      "text/html": [
       "<div>\n",
       "<style scoped>\n",
       "    .dataframe tbody tr th:only-of-type {\n",
       "        vertical-align: middle;\n",
       "    }\n",
       "\n",
       "    .dataframe tbody tr th {\n",
       "        vertical-align: top;\n",
       "    }\n",
       "\n",
       "    .dataframe thead th {\n",
       "        text-align: right;\n",
       "    }\n",
       "</style>\n",
       "<table border=\"1\" class=\"dataframe\">\n",
       "  <thead>\n",
       "    <tr style=\"text-align: right;\">\n",
       "      <th></th>\n",
       "      <th>name</th>\n",
       "      <th>class</th>\n",
       "      <th>pixCount</th>\n",
       "      <th>fpath</th>\n",
       "    </tr>\n",
       "  </thead>\n",
       "  <tbody>\n",
       "    <tr>\n",
       "      <th>0</th>\n",
       "      <td>tile_0_lidar.tif</td>\n",
       "      <td>aguada</td>\n",
       "      <td>0</td>\n",
       "      <td>../Data/lidar_train/tile_0_lidar.tif</td>\n",
       "    </tr>\n",
       "    <tr>\n",
       "      <th>1</th>\n",
       "      <td>tile_0_lidar.tif</td>\n",
       "      <td>building</td>\n",
       "      <td>0</td>\n",
       "      <td>../Data/lidar_train/tile_0_lidar.tif</td>\n",
       "    </tr>\n",
       "    <tr>\n",
       "      <th>2</th>\n",
       "      <td>tile_0_lidar.tif</td>\n",
       "      <td>platform</td>\n",
       "      <td>0</td>\n",
       "      <td>../Data/lidar_train/tile_0_lidar.tif</td>\n",
       "    </tr>\n",
       "    <tr>\n",
       "      <th>3</th>\n",
       "      <td>tile_1000_lidar.tif</td>\n",
       "      <td>aguada</td>\n",
       "      <td>0</td>\n",
       "      <td>../Data/lidar_train/tile_1000_lidar.tif</td>\n",
       "    </tr>\n",
       "    <tr>\n",
       "      <th>4</th>\n",
       "      <td>tile_1000_lidar.tif</td>\n",
       "      <td>building</td>\n",
       "      <td>1466</td>\n",
       "      <td>../Data/lidar_train/tile_1000_lidar.tif</td>\n",
       "    </tr>\n",
       "  </tbody>\n",
       "</table>\n",
       "</div>"
      ],
      "text/plain": [
       "                  name     class  pixCount  \\\n",
       "0     tile_0_lidar.tif    aguada         0   \n",
       "1     tile_0_lidar.tif  building         0   \n",
       "2     tile_0_lidar.tif  platform         0   \n",
       "3  tile_1000_lidar.tif    aguada         0   \n",
       "4  tile_1000_lidar.tif  building      1466   \n",
       "\n",
       "                                     fpath  \n",
       "0     ../Data/lidar_train/tile_0_lidar.tif  \n",
       "1     ../Data/lidar_train/tile_0_lidar.tif  \n",
       "2     ../Data/lidar_train/tile_0_lidar.tif  \n",
       "3  ../Data/lidar_train/tile_1000_lidar.tif  \n",
       "4  ../Data/lidar_train/tile_1000_lidar.tif  "
      ]
     },
     "execution_count": 9,
     "metadata": {},
     "output_type": "execute_result"
    }
   ],
   "source": [
    "mymaskDF = pd.read_csv(maya_csv)\n",
    "mymaskDF['fpath'] = str(path_im) + '/' +mymaskDF['name']\n",
    "print (len(mymaskDF))\n",
    "mymaskDF.head()"
   ]
  },
  {
   "cell_type": "code",
   "execution_count": 10,
   "metadata": {
    "colab": {
     "base_uri": "https://localhost:8080/",
     "height": 202
    },
    "id": "ckdCYQQd1M2-",
    "outputId": "093b9b20-fe8b-4272-e8f5-04fab2997b09"
   },
   "outputs": [
    {
     "name": "stdout",
     "output_type": "stream",
     "text": [
      "64\n"
     ]
    },
    {
     "data": {
      "text/html": [
       "<div>\n",
       "<style scoped>\n",
       "    .dataframe tbody tr th:only-of-type {\n",
       "        vertical-align: middle;\n",
       "    }\n",
       "\n",
       "    .dataframe tbody tr th {\n",
       "        vertical-align: top;\n",
       "    }\n",
       "\n",
       "    .dataframe thead th {\n",
       "        text-align: right;\n",
       "    }\n",
       "</style>\n",
       "<table border=\"1\" class=\"dataframe\">\n",
       "  <thead>\n",
       "    <tr style=\"text-align: right;\">\n",
       "      <th></th>\n",
       "      <th>name</th>\n",
       "      <th>class</th>\n",
       "      <th>pixCount</th>\n",
       "      <th>fpath</th>\n",
       "    </tr>\n",
       "  </thead>\n",
       "  <tbody>\n",
       "    <tr>\n",
       "      <th>96</th>\n",
       "      <td>tile_1029_lidar.tif</td>\n",
       "      <td>aguada</td>\n",
       "      <td>18532</td>\n",
       "      <td>../Data/lidar_train/tile_1029_lidar.tif</td>\n",
       "    </tr>\n",
       "    <tr>\n",
       "      <th>240</th>\n",
       "      <td>tile_1072_lidar.tif</td>\n",
       "      <td>aguada</td>\n",
       "      <td>12418</td>\n",
       "      <td>../Data/lidar_train/tile_1072_lidar.tif</td>\n",
       "    </tr>\n",
       "    <tr>\n",
       "      <th>264</th>\n",
       "      <td>tile_107_lidar.tif</td>\n",
       "      <td>aguada</td>\n",
       "      <td>13</td>\n",
       "      <td>../Data/lidar_train/tile_107_lidar.tif</td>\n",
       "    </tr>\n",
       "    <tr>\n",
       "      <th>315</th>\n",
       "      <td>tile_1095_lidar.tif</td>\n",
       "      <td>aguada</td>\n",
       "      <td>22630</td>\n",
       "      <td>../Data/lidar_train/tile_1095_lidar.tif</td>\n",
       "    </tr>\n",
       "    <tr>\n",
       "      <th>402</th>\n",
       "      <td>tile_1120_lidar.tif</td>\n",
       "      <td>aguada</td>\n",
       "      <td>571</td>\n",
       "      <td>../Data/lidar_train/tile_1120_lidar.tif</td>\n",
       "    </tr>\n",
       "  </tbody>\n",
       "</table>\n",
       "</div>"
      ],
      "text/plain": [
       "                    name   class  pixCount  \\\n",
       "96   tile_1029_lidar.tif  aguada     18532   \n",
       "240  tile_1072_lidar.tif  aguada     12418   \n",
       "264   tile_107_lidar.tif  aguada        13   \n",
       "315  tile_1095_lidar.tif  aguada     22630   \n",
       "402  tile_1120_lidar.tif  aguada       571   \n",
       "\n",
       "                                       fpath  \n",
       "96   ../Data/lidar_train/tile_1029_lidar.tif  \n",
       "240  ../Data/lidar_train/tile_1072_lidar.tif  \n",
       "264   ../Data/lidar_train/tile_107_lidar.tif  \n",
       "315  ../Data/lidar_train/tile_1095_lidar.tif  \n",
       "402  ../Data/lidar_train/tile_1120_lidar.tif  "
      ]
     },
     "execution_count": 10,
     "metadata": {},
     "output_type": "execute_result"
    }
   ],
   "source": [
    "# get only these with nonzero pixCount of our class\n",
    "mydf = mymaskDF[(mymaskDF['class'] == myclass) & (mymaskDF['pixCount'] > 0)]\n",
    "print (len(mydf))\n",
    "mydf.head()"
   ]
  },
  {
   "cell_type": "markdown",
   "metadata": {},
   "source": [
    "#### Now we add the synthesized images"
   ]
  },
  {
   "cell_type": "code",
   "execution_count": 11,
   "metadata": {},
   "outputs": [],
   "source": [
    "import glob\n",
    "synthDF = pd.DataFrame(glob.glob(str(synth_path_im/myclass)+'/*.*'), columns = [\"name\"])\n",
    "synthDF['class'] = myclass\n",
    "synthDF['pixCount'] = -1 # dummy marker for 'generated'\n",
    "synthDF['fpath'] = synthDF['name']"
   ]
  },
  {
   "cell_type": "code",
   "execution_count": 12,
   "metadata": {},
   "outputs": [
    {
     "name": "stdout",
     "output_type": "stream",
     "text": [
      "528\n"
     ]
    },
    {
     "data": {
      "text/html": [
       "<div>\n",
       "<style scoped>\n",
       "    .dataframe tbody tr th:only-of-type {\n",
       "        vertical-align: middle;\n",
       "    }\n",
       "\n",
       "    .dataframe tbody tr th {\n",
       "        vertical-align: top;\n",
       "    }\n",
       "\n",
       "    .dataframe thead th {\n",
       "        text-align: right;\n",
       "    }\n",
       "</style>\n",
       "<table border=\"1\" class=\"dataframe\">\n",
       "  <thead>\n",
       "    <tr style=\"text-align: right;\">\n",
       "      <th></th>\n",
       "      <th>name</th>\n",
       "      <th>class</th>\n",
       "      <th>pixCount</th>\n",
       "      <th>fpath</th>\n",
       "    </tr>\n",
       "  </thead>\n",
       "  <tbody>\n",
       "    <tr>\n",
       "      <th>0</th>\n",
       "      <td>../Data/03_generated/images/aguada/tile_1574_lidar_generated.tif</td>\n",
       "      <td>aguada</td>\n",
       "      <td>-1</td>\n",
       "      <td>../Data/03_generated/images/aguada/tile_1574_lidar_generated.tif</td>\n",
       "    </tr>\n",
       "    <tr>\n",
       "      <th>1</th>\n",
       "      <td>../Data/03_generated/images/aguada/tile_0_lidar_generated.tif</td>\n",
       "      <td>aguada</td>\n",
       "      <td>-1</td>\n",
       "      <td>../Data/03_generated/images/aguada/tile_0_lidar_generated.tif</td>\n",
       "    </tr>\n",
       "    <tr>\n",
       "      <th>2</th>\n",
       "      <td>../Data/03_generated/images/aguada/tile_1006_lidar_generated.tif</td>\n",
       "      <td>aguada</td>\n",
       "      <td>-1</td>\n",
       "      <td>../Data/03_generated/images/aguada/tile_1006_lidar_generated.tif</td>\n",
       "    </tr>\n",
       "    <tr>\n",
       "      <th>3</th>\n",
       "      <td>../Data/03_generated/images/aguada/tile_1007_lidar_generated.tif</td>\n",
       "      <td>aguada</td>\n",
       "      <td>-1</td>\n",
       "      <td>../Data/03_generated/images/aguada/tile_1007_lidar_generated.tif</td>\n",
       "    </tr>\n",
       "    <tr>\n",
       "      <th>4</th>\n",
       "      <td>../Data/03_generated/images/aguada/tile_1008_lidar_generated.tif</td>\n",
       "      <td>aguada</td>\n",
       "      <td>-1</td>\n",
       "      <td>../Data/03_generated/images/aguada/tile_1008_lidar_generated.tif</td>\n",
       "    </tr>\n",
       "  </tbody>\n",
       "</table>\n",
       "</div>"
      ],
      "text/plain": [
       "                                                               name   class  \\\n",
       "0  ../Data/03_generated/images/aguada/tile_1574_lidar_generated.tif  aguada   \n",
       "1     ../Data/03_generated/images/aguada/tile_0_lidar_generated.tif  aguada   \n",
       "2  ../Data/03_generated/images/aguada/tile_1006_lidar_generated.tif  aguada   \n",
       "3  ../Data/03_generated/images/aguada/tile_1007_lidar_generated.tif  aguada   \n",
       "4  ../Data/03_generated/images/aguada/tile_1008_lidar_generated.tif  aguada   \n",
       "\n",
       "   pixCount                                                             fpath  \n",
       "0        -1  ../Data/03_generated/images/aguada/tile_1574_lidar_generated.tif  \n",
       "1        -1     ../Data/03_generated/images/aguada/tile_0_lidar_generated.tif  \n",
       "2        -1  ../Data/03_generated/images/aguada/tile_1006_lidar_generated.tif  \n",
       "3        -1  ../Data/03_generated/images/aguada/tile_1007_lidar_generated.tif  \n",
       "4        -1  ../Data/03_generated/images/aguada/tile_1008_lidar_generated.tif  "
      ]
     },
     "execution_count": 12,
     "metadata": {},
     "output_type": "execute_result"
    }
   ],
   "source": [
    "print(len(synthDF))\n",
    "synthDF.head()"
   ]
  },
  {
   "cell_type": "code",
   "execution_count": 13,
   "metadata": {
    "colab": {
     "base_uri": "https://localhost:8080/",
     "height": 202
    },
    "id": "ckdCYQQd1M2-",
    "outputId": "093b9b20-fe8b-4272-e8f5-04fab2997b09"
   },
   "outputs": [
    {
     "name": "stdout",
     "output_type": "stream",
     "text": [
      "1701\n"
     ]
    },
    {
     "data": {
      "text/html": [
       "<div>\n",
       "<style scoped>\n",
       "    .dataframe tbody tr th:only-of-type {\n",
       "        vertical-align: middle;\n",
       "    }\n",
       "\n",
       "    .dataframe tbody tr th {\n",
       "        vertical-align: top;\n",
       "    }\n",
       "\n",
       "    .dataframe thead th {\n",
       "        text-align: right;\n",
       "    }\n",
       "</style>\n",
       "<table border=\"1\" class=\"dataframe\">\n",
       "  <thead>\n",
       "    <tr style=\"text-align: right;\">\n",
       "      <th></th>\n",
       "      <th>name</th>\n",
       "      <th>class</th>\n",
       "      <th>pixCount</th>\n",
       "      <th>fpath</th>\n",
       "    </tr>\n",
       "  </thead>\n",
       "  <tbody>\n",
       "    <tr>\n",
       "      <th>4065</th>\n",
       "      <td>tile_631_lidar.tif</td>\n",
       "      <td>aguada</td>\n",
       "      <td>0</td>\n",
       "      <td>../Data/lidar_train/tile_631_lidar.tif</td>\n",
       "    </tr>\n",
       "    <tr>\n",
       "      <th>357</th>\n",
       "      <td>tile_1107_lidar.tif</td>\n",
       "      <td>aguada</td>\n",
       "      <td>0</td>\n",
       "      <td>../Data/lidar_train/tile_1107_lidar.tif</td>\n",
       "    </tr>\n",
       "    <tr>\n",
       "      <th>420</th>\n",
       "      <td>tile_1126_lidar.tif</td>\n",
       "      <td>aguada</td>\n",
       "      <td>0</td>\n",
       "      <td>../Data/lidar_train/tile_1126_lidar.tif</td>\n",
       "    </tr>\n",
       "    <tr>\n",
       "      <th>1092</th>\n",
       "      <td>tile_1328_lidar.tif</td>\n",
       "      <td>aguada</td>\n",
       "      <td>0</td>\n",
       "      <td>../Data/lidar_train/tile_1328_lidar.tif</td>\n",
       "    </tr>\n",
       "    <tr>\n",
       "      <th>5034</th>\n",
       "      <td>tile_922_lidar.tif</td>\n",
       "      <td>aguada</td>\n",
       "      <td>0</td>\n",
       "      <td>../Data/lidar_train/tile_922_lidar.tif</td>\n",
       "    </tr>\n",
       "  </tbody>\n",
       "</table>\n",
       "</div>"
      ],
      "text/plain": [
       "                     name   class  pixCount  \\\n",
       "4065   tile_631_lidar.tif  aguada         0   \n",
       "357   tile_1107_lidar.tif  aguada         0   \n",
       "420   tile_1126_lidar.tif  aguada         0   \n",
       "1092  tile_1328_lidar.tif  aguada         0   \n",
       "5034   tile_922_lidar.tif  aguada         0   \n",
       "\n",
       "                                        fpath  \n",
       "4065   ../Data/lidar_train/tile_631_lidar.tif  \n",
       "357   ../Data/lidar_train/tile_1107_lidar.tif  \n",
       "420   ../Data/lidar_train/tile_1126_lidar.tif  \n",
       "1092  ../Data/lidar_train/tile_1328_lidar.tif  \n",
       "5034   ../Data/lidar_train/tile_922_lidar.tif  "
      ]
     },
     "execution_count": 13,
     "metadata": {},
     "output_type": "execute_result"
    }
   ],
   "source": [
    "# get some more from the zero pixCount images\n",
    "keep = 1.  # we keep 100% so the filtering is not used as stated above :-)\n",
    "otherdf = mymaskDF[(mymaskDF['class'] == myclass) & (mymaskDF['pixCount'] == 0)].sample(frac=keep)\n",
    "print (len(otherdf))\n",
    "otherdf.head()"
   ]
  },
  {
   "cell_type": "code",
   "execution_count": 14,
   "metadata": {},
   "outputs": [
    {
     "name": "stdout",
     "output_type": "stream",
     "text": [
      "384\n"
     ]
    }
   ],
   "source": [
    "# and oversample \"good\" cases (only needed for Aguada which we oversample 6-fold)\n",
    "if (myclass == \"aguada\"):\n",
    "    mydf = mydf.sample(n=6*64, replace=True)\n",
    "print (len(mydf))"
   ]
  },
  {
   "cell_type": "code",
   "execution_count": 15,
   "metadata": {},
   "outputs": [
    {
     "name": "stdout",
     "output_type": "stream",
     "text": [
      "2085\n"
     ]
    }
   ],
   "source": [
    "### MERGE HERE\n",
    "mydf = mydf.append(otherdf, ignore_index=True, sort=False)\n",
    "print (len(mydf))"
   ]
  },
  {
   "cell_type": "code",
   "execution_count": 16,
   "metadata": {},
   "outputs": [
    {
     "name": "stdout",
     "output_type": "stream",
     "text": [
      "2613\n"
     ]
    }
   ],
   "source": [
    "# now add the synthesized images, too\n",
    "mydf = mydf.append(synthDF, ignore_index=True, sort=False)\n",
    "print (len(mydf))"
   ]
  },
  {
   "cell_type": "code",
   "execution_count": 17,
   "metadata": {
    "colab": {
     "base_uri": "https://localhost:8080/"
    },
    "id": "nEJECOGu5dws",
    "outputId": "e205c82e-8f75-4366-cded-16d4a2564464"
   },
   "outputs": [
    {
     "data": {
      "text/plain": [
       "0.014126630801654123"
      ]
     },
     "execution_count": 17,
     "metadata": {},
     "output_type": "execute_result"
    }
   ],
   "source": [
    "# compute weight for re-balancing:\n",
    "# average number of pixels of minority class vs. total number of pixels\n",
    "imgsize = 480\n",
    "minority_class_weight = mydf['pixCount'].sum()/ (len(mydf)*imgsize*imgsize)\n",
    "minority_class_weight"
   ]
  },
  {
   "cell_type": "markdown",
   "metadata": {
    "id": "BjuGEBtA6gna"
   },
   "source": [
    "resulting weights are:\n",
    "\n",
    "Aguada = 9.2 %    at   64 images\n",
    "\n",
    "Building = 2.7 %  at 1129 images\n",
    "\n",
    "Platform = 3.9 % at  952 images"
   ]
  },
  {
   "cell_type": "code",
   "execution_count": 18,
   "metadata": {
    "colab": {
     "base_uri": "https://localhost:8080/"
    },
    "id": "tsjrlWPIbiTf",
    "outputId": "db3cda1d-e591-48f3-c078-2033cc51a0a4"
   },
   "outputs": [
    {
     "data": {
      "text/plain": [
       "2613"
      ]
     },
     "execution_count": 18,
     "metadata": {},
     "output_type": "execute_result"
    }
   ],
   "source": [
    "#fnames = [path_im/f for f in mydf['name']]\n",
    "fnames = [Path(f) for f in mydf['fpath']]\n",
    "len(fnames)"
   ]
  },
  {
   "cell_type": "markdown",
   "metadata": {
    "id": "psMIjyZMbiTf"
   },
   "source": [
    "And now let's look at the data:"
   ]
  },
  {
   "cell_type": "code",
   "execution_count": 19,
   "metadata": {
    "colab": {
     "base_uri": "https://localhost:8080/",
     "height": 321
    },
    "id": "jQusOUXdbiTf",
    "outputId": "0ea6038b-bb1a-451f-9a37-43275af0d39d"
   },
   "outputs": [
    {
     "data": {
      "text/plain": [
       "<AxesSubplot:>"
      ]
     },
     "execution_count": 19,
     "metadata": {},
     "output_type": "execute_result"
    },
    {
     "data": {
      "image/png": "[encoded data removed]",
      "text/plain": [
       "<Figure size 360x360 with 1 Axes>"
      ]
     },
     "metadata": {
      "needs_background": "light"
     },
     "output_type": "display_data"
    }
   ],
   "source": [
    "# tile 44 contains all three classes\n",
    "img_fn = Path(root_dir/'lidar_train/tile_44_lidar.tif')\n",
    "img = PILImage.create(img_fn)\n",
    "img.show(figsize=(5,5))"
   ]
  },
  {
   "cell_type": "markdown",
   "metadata": {
    "id": "xONifkjobiTg"
   },
   "source": [
    "**Now** let's grab our y's. They live in the `train_masks` folder and follow this naming pattern:"
   ]
  },
  {
   "cell_type": "markdown",
   "metadata": {
    "id": "KT7-Nqk-iEM9"
   },
   "source": [
    "tile_(n)\\_lidar.tif\n",
    "\n",
    "tile_(n)\\_mask_aguada.tif"
   ]
  },
  {
   "cell_type": "code",
   "execution_count": 20,
   "metadata": {
    "id": "bAwQl3uNnzZv"
   },
   "outputs": [],
   "source": [
    "def get_msk(fn):\n",
    "    # modify for synthetic images\n",
    "    if str(fn)[-5] == \"d\": # as in \"generateD\", this is clumsy but we are short of time...!\n",
    "        return synth_path_lbl/fn.name.replace(\"lidar\", mymask)\n",
    "    else :\n",
    "        return path_lbl/fn.name.replace(\"lidar\", mymask)"
   ]
  },
  {
   "cell_type": "code",
   "execution_count": 21,
   "metadata": {},
   "outputs": [
    {
     "name": "stdout",
     "output_type": "stream",
     "text": [
      "../Data/lidar_train/tile_87_lidar.tif\n"
     ]
    },
    {
     "data": {
      "text/plain": [
       "Path('../Data/train_masks_normalized/tile_87_mask_aguada.tif')"
      ]
     },
     "execution_count": 21,
     "metadata": {},
     "output_type": "execute_result"
    }
   ],
   "source": [
    "# test mask path for \"normal\" images\n",
    "print(fnames[0])\n",
    "get_msk(fnames[0])"
   ]
  },
  {
   "cell_type": "code",
   "execution_count": 22,
   "metadata": {},
   "outputs": [
    {
     "name": "stdout",
     "output_type": "stream",
     "text": [
      "../Data/03_generated/images/aguada/tile_1574_lidar_generated.tif\n"
     ]
    },
    {
     "data": {
      "text/plain": [
       "Path('../Data/03_generated/normalized_masks/tile_1574_mask_aguada_generated.tif')"
      ]
     },
     "execution_count": 22,
     "metadata": {},
     "output_type": "execute_result"
    }
   ],
   "source": [
    "# test mask path for synthetic images\n",
    "print(synthDF['fpath'][0])\n",
    "get_msk(Path(synthDF['fpath'][0]))"
   ]
  },
  {
   "cell_type": "markdown",
   "metadata": {
    "id": "5whYfdwNbiTg"
   },
   "source": [
    "Our masks are of type `PILMask` and we will make our gradient percentage (alpha) equal to 1 as we are not overlaying this on anything yet"
   ]
  },
  {
   "cell_type": "code",
   "execution_count": 23,
   "metadata": {
    "colab": {
     "base_uri": "https://localhost:8080/",
     "height": 321
    },
    "id": "eQtQv65-biTg",
    "outputId": "06aace81-37b1-4f6f-f894-818c02a8d879"
   },
   "outputs": [
    {
     "data": {
      "text/plain": [
       "<AxesSubplot:>"
      ]
     },
     "execution_count": 23,
     "metadata": {},
     "output_type": "execute_result"
    },
    {
     "data": {
      "image/png": "[encoded data removed]",
      "text/plain": [
       "<Figure size 360x360 with 1 Axes>"
      ]
     },
     "metadata": {
      "needs_background": "light"
     },
     "output_type": "display_data"
    }
   ],
   "source": [
    "msk = PILMask.create(get_msk(img_fn))\n",
    "msk.show(figsize=(5,5), alpha=1)"
   ]
  },
  {
   "cell_type": "markdown",
   "metadata": {
    "id": "Z2u0BHpHNw02"
   },
   "source": [
    "We normalized the masks in advance for easier processing with fast.ai: They now contain only 0 (background) and 1 (class):"
   ]
  },
  {
   "cell_type": "code",
   "execution_count": 24,
   "metadata": {
    "colab": {
     "base_uri": "https://localhost:8080/"
    },
    "id": "K1HbvqRtbiTh",
    "outputId": "86d274bc-54fa-4eb4-f4b2-413e588a8cab"
   },
   "outputs": [
    {
     "data": {
      "text/plain": [
       "array([0, 1], dtype=uint8)"
      ]
     },
     "execution_count": 24,
     "metadata": {},
     "output_type": "execute_result"
    }
   ],
   "source": [
    "np.unique(tensor(msk))"
   ]
  },
  {
   "cell_type": "markdown",
   "metadata": {
    "id": "VzTFtui4biTh"
   },
   "source": [
    "Here we name them:"
   ]
  },
  {
   "cell_type": "code",
   "execution_count": 25,
   "metadata": {
    "colab": {
     "base_uri": "https://localhost:8080/"
    },
    "id": "14kXne1cqWpL",
    "outputId": "cf611080-d105-43d9-82e5-9cb4bcdddf17"
   },
   "outputs": [
    {
     "data": {
      "text/plain": [
       "array(['background', 'mask_aguada'], dtype='<U11')"
      ]
     },
     "execution_count": 25,
     "metadata": {},
     "output_type": "execute_result"
    }
   ],
   "source": [
    "codes = np.array(['background', mymask])\n",
    "codes"
   ]
  },
  {
   "cell_type": "markdown",
   "metadata": {
    "id": "Am5DDIRcbiTi"
   },
   "source": [
    "### Progressive resizing"
   ]
  },
  {
   "cell_type": "markdown",
   "metadata": {
    "id": "l1sKT3NGbiTi"
   },
   "source": [
    "This first round we will train at half the image size"
   ]
  },
  {
   "cell_type": "code",
   "execution_count": 26,
   "metadata": {
    "colab": {
     "base_uri": "https://localhost:8080/"
    },
    "id": "SkEPmMXubiTi",
    "outputId": "363f209f-7d5f-4aac-ede8-2b676db400f6"
   },
   "outputs": [
    {
     "data": {
      "text/plain": [
       "(480, 480)"
      ]
     },
     "execution_count": 26,
     "metadata": {},
     "output_type": "execute_result"
    }
   ],
   "source": [
    "sz = msk.shape; sz"
   ]
  },
  {
   "cell_type": "code",
   "execution_count": 27,
   "metadata": {
    "colab": {
     "base_uri": "https://localhost:8080/"
    },
    "id": "Lb5C4eo1biTj",
    "outputId": "80e08fdf-a115-4c3f-8035-ce0f787b19bd"
   },
   "outputs": [
    {
     "data": {
      "text/plain": [
       "(240, 240)"
      ]
     },
     "execution_count": 27,
     "metadata": {},
     "output_type": "execute_result"
    }
   ],
   "source": [
    "half = tuple(int(x/2) for x in sz); half"
   ]
  },
  {
   "cell_type": "code",
   "execution_count": 28,
   "metadata": {
    "id": "38rXXQiV47gg"
   },
   "outputs": [],
   "source": [
    "# batch size\n",
    "bs = 20\n",
    "\n",
    "if JARVIS:\n",
    "    bs = 80"
   ]
  },
  {
   "cell_type": "markdown",
   "metadata": {},
   "source": [
    "Here come the augmentation transforms:"
   ]
  },
  {
   "cell_type": "code",
   "execution_count": 29,
   "metadata": {},
   "outputs": [],
   "source": [
    "def my_transforms(imgsize):\n",
    "    item_tfms = [Resize(imgsize)]\n",
    "    batch_tfms = [Dihedral(),Brightness(0.1,p=0.25), Zoom(max_zoom=1.1,p=0.25),\n",
    "                  Normalize.from_stats(*imagenet_stats)\n",
    "                 ]\n",
    "    return item_tfms, batch_tfms"
   ]
  },
  {
   "cell_type": "code",
   "execution_count": 30,
   "metadata": {},
   "outputs": [],
   "source": [
    "# shuffle dataframe, just in case!\n",
    "mydf = mydf.sample(frac=1).reset_index(drop=True)"
   ]
  },
  {
   "cell_type": "code",
   "execution_count": 31,
   "metadata": {},
   "outputs": [],
   "source": [
    "# for dataframe rows\n",
    "def get_msk(row):\n",
    "    fn = Path(row[\"fpath\"])\n",
    "    # modify for synthetic images\n",
    "    if str(fn)[-5] == \"d\": # as in \"generateD\"\n",
    "        return synth_path_lbl/fn.name.replace(\"lidar\", mymask)\n",
    "    else :\n",
    "        return path_lbl/fn.name.replace(\"lidar\", mymask)"
   ]
  },
  {
   "cell_type": "code",
   "execution_count": 32,
   "metadata": {},
   "outputs": [],
   "source": [
    "# function for retrieving a dataloaders object for a 'fold'\n",
    "def get_data(mydf, fold, n_splits, codes, bs, item_tfms, batch_tfms):\n",
    "    length = int(len(mydf)/n_splits)\n",
    "    start = fold*length\n",
    "    \n",
    "    mydf['is_valid'] = False\n",
    "    mydf.loc[start:start+length,'is_valid'] = True\n",
    "    # the datablock   \n",
    "    dblock = DataBlock(blocks=(ImageBlock, MaskBlock(codes=codes)),\n",
    "                   #splitter=RandomSplitter(valid_pct=0.2),\n",
    "                   splitter=ColSplitter(), #!!! is_valid is in valid_ds\n",
    "                   get_x=ColReader('fpath'),\n",
    "                   get_y=get_msk, item_tfms=item_tfms, batch_tfms=batch_tfms)\n",
    "    # the dataloaders\n",
    "    dls = dblock.dataloaders(mydf, path='', bs=bs)\n",
    "    return dls"
   ]
  },
  {
   "cell_type": "markdown",
   "metadata": {},
   "source": [
    "## Model: HRnet or DeeplabV3+ with ResNet101"
   ]
  },
  {
   "cell_type": "code",
   "execution_count": 33,
   "metadata": {
    "id": "ZL51P2BMbiTm"
   },
   "outputs": [],
   "source": [
    "# optimizer: we use Ranger instead of Adam\n",
    "opt = ranger"
   ]
  },
  {
   "cell_type": "code",
   "execution_count": 34,
   "metadata": {
    "id": "GEZYPzZzJ-eN"
   },
   "outputs": [],
   "source": [
    "# we were asked for IoU as metric, which is the same as Jaccard. Besides we track Dice, but do not use it.\n",
    "metrics = [Dice(), JaccardCoeff()]"
   ]
  },
  {
   "cell_type": "markdown",
   "metadata": {
    "id": "Xwq8i7D5Nw06"
   },
   "source": [
    "### Class imbalance"
   ]
  },
  {
   "cell_type": "markdown",
   "metadata": {
    "id": "DYcyRweJNw06"
   },
   "source": [
    "The Maya dataset is heavily imbalanced with only some  0.4 % of all pixels containing mask data (\"1\"). We use Focal Loss to overcome the class imbalance:"
   ]
  },
  {
   "cell_type": "code",
   "execution_count": 35,
   "metadata": {},
   "outputs": [],
   "source": [
    "myloss_func=FocalLossFlat(axis=1)"
   ]
  },
  {
   "cell_type": "code",
   "execution_count": 36,
   "metadata": {},
   "outputs": [],
   "source": [
    "def segmentron_splitter(model):\n",
    "    return [params(model.backbone), params(model.head)]"
   ]
  },
  {
   "cell_type": "code",
   "execution_count": 37,
   "metadata": {},
   "outputs": [
    {
     "data": {
      "text/plain": [
       "('hrnet', 'hrnet_w30')"
      ]
     },
     "execution_count": 37,
     "metadata": {},
     "output_type": "execute_result"
    }
   ],
   "source": [
    "# architecture and backbone\n",
    "arch=\"hrnet\";backbone=\"hrnet_w30\"\n",
    "    \n",
    "arch, backbone"
   ]
  },
  {
   "cell_type": "code",
   "execution_count": 38,
   "metadata": {},
   "outputs": [],
   "source": [
    "# This is an implementation of Cutmix data augmentation (https://arxiv.org/abs/1905.04899)\n",
    "# Taken from here (and modified): https://forums.fast.ai/t/implementing-cutmix-in-fastaiv2/67350/16\n",
    "from torch.distributions.beta import Beta\n",
    "\n",
    "class CutMix(Callback):\n",
    "    run_after,run_valid = [Normalize],False\n",
    "    def __init__(self, alpha=1.): self.distrib = Beta(tensor(alpha), tensor(alpha))\n",
    "    def begin_fit(self):\n",
    "        self.stack_y = getattr(self.learn.loss_func, 'y_int', False)\n",
    "        if self.stack_y: self.old_lf,self.learn.loss_func = self.learn.loss_func,self.lf\n",
    "\n",
    "    def after_fit(self):\n",
    "        if self.stack_y: self.learn.loss_func = self.old_lf\n",
    "\n",
    "    def begin_batch(self):\n",
    "        W, H = self.xb[0].size(3), self.xb[0].size(2)\n",
    "        \n",
    "        lam = self.distrib.sample((self.y.size(0),)).squeeze().to(self.x.device)\n",
    "        lam = torch.stack([lam, 1-lam], 1)\n",
    "        self.lam = lam.max(1)[0]\n",
    "        shuffle = torch.randperm(self.y.size(0)).to(self.x.device)\n",
    "        xb1,self.yb1 = tuple(L(self.xb).itemgot(shuffle)),tuple(L(self.yb).itemgot(shuffle))\n",
    "        nx_dims = len(self.x.size())\n",
    "\n",
    "        rx = (self.distrib.sample((64,))*W).type(torch.long).to(self.x.device)\n",
    "        ry = (self.distrib.sample((64,))*H).type(torch.long).to(self.x.device)\n",
    "        rw = (torch.sqrt(1-self.lam)*W).to(self.x.device)\n",
    "        rh = (torch.sqrt(1-self.lam)*H).to(self.x.device)\n",
    "\n",
    "        x1 = torch.round(torch.clamp(rx-rw//2, min=0, max=W)).to(self.x.device).type(torch.long)\n",
    "        x2 = torch.round(torch.clamp(rx+rw//2, min=0, max=W)).to(self.x.device).type(torch.long)\n",
    "        y1 = torch.round(torch.clamp(ry-rh//2, min=0, max=H)).to(self.x.device).type(torch.long)\n",
    "        y2 = torch.round(torch.clamp(ry+rh//2, min=0, max=H)).to(self.x.device).type(torch.long)\n",
    "        \n",
    "        for i in range(len(x1)):\n",
    "            self.learn.xb[0][i, :, x1[i]:x2[i], y1[i]:y2[i]] = xb1[0][i, :, x1[i]:x2[i], y1[i]:y2[i]]\n",
    "        \n",
    "        self.lam = (1 - ((x2-x1)*(y2-y1))/(W*H)).type(torch.float)\n",
    "        \n",
    "        if not self.stack_y:\n",
    "            ny_dims = len(self.y.size())\n",
    "            self.learn.yb = tuple(L(self.yb1,self.yb).map_zip(torch.lerp,weight=unsqueeze(self.lam, n=ny_dims-1)))\n",
    "\n",
    "    def lf(self, pred, *yb):\n",
    "        if not self.training: return self.old_lf(pred, *yb)\n",
    "        with NoneReduce(self.old_lf) as lf:\n",
    "            loss = torch.lerp(lf(pred,*self.yb1), lf(pred,*yb), self.lam)\n",
    "        return reduce_loss(loss, getattr(self.old_lf, 'reduction', 'mean'))\n"
   ]
  },
  {
   "cell_type": "code",
   "execution_count": 39,
   "metadata": {},
   "outputs": [],
   "source": [
    "# these callbacks are used during training. The first three monitor training progress, Cutmix is for augmentation.\n",
    "callbacks = [SaveModelCallback(monitor='jaccard_coeff'), \n",
    "             EarlyStoppingCallback(monitor='jaccard_coeff', patience=8),\n",
    "             ReduceLROnPlateau(monitor='jaccard_coeff'),\n",
    "             #CutMix()\n",
    "            ]\n",
    "\n",
    "## we do not use CutMix for Aguadas, as it did not perform well."
   ]
  },
  {
   "cell_type": "code",
   "execution_count": 40,
   "metadata": {},
   "outputs": [],
   "source": [
    "# we use the flat cosine annealing training loop along with fastai's default fine_tune(), so we create\n",
    "# our own fine_tune_flat(), modelled after Zachary Mueller's notebook from here: \n",
    "# https://www.kaggle.com/muellerzr/cassava-fastai-starter\n",
    "\n",
    "@patch\n",
    "def fine_tune_flat(self:Learner, epochs, base_lr=4e-3, freeze_epochs=1, lr_mult=100, pct_start=0.75, \n",
    "                   first_callbacks = [], second_callbacks = [], tofp32=False,**kwargs):\n",
    "    \"Fine-tune applied to `fit_flat_cos`\"\n",
    "    self.freeze()\n",
    "    #try:\n",
    "    self.fit_flat_cos(freeze_epochs, slice(base_lr), pct_start=0.99, cbs=first_callbacks, **kwargs)\n",
    "    #except: pass\n",
    "    gc.collect();torch.cuda.empty_cache()\n",
    "    base_lr /= 2\n",
    "    self.unfreeze()\n",
    "    if tofp32: self.to_fp32() # set to 32 bit\n",
    "    #try:\n",
    "    self.fit_flat_cos(epochs, slice(base_lr/lr_mult, base_lr), pct_start=pct_start, cbs=second_callbacks)\n",
    "    #except: pass\n",
    "    gc.collect();torch.cuda.empty_cache()"
   ]
  },
  {
   "cell_type": "markdown",
   "metadata": {},
   "source": [
    "we have two training cycles, one with half size images, one with full size images:"
   ]
  },
  {
   "cell_type": "markdown",
   "metadata": {
    "id": "2qf2Gr-INw08"
   },
   "source": [
    "## half size training cycle"
   ]
  },
  {
   "cell_type": "markdown",
   "metadata": {},
   "source": [
    "k-fold loop:"
   ]
  },
  {
   "cell_type": "code",
   "execution_count": 41,
   "metadata": {},
   "outputs": [],
   "source": [
    "n_folds = 5#"
   ]
  },
  {
   "cell_type": "code",
   "execution_count": null,
   "metadata": {},
   "outputs": [
    {
     "name": "stdout",
     "output_type": "stream",
     "text": [
      "---- 0\n"
     ]
    },
    {
     "name": "stderr",
     "output_type": "stream",
     "text": [
      "/home/ju/miniconda3/envs/fastai/lib/python3.7/site-packages/torch/_tensor.py:575: UserWarning: floor_divide is deprecated, and will be removed in a future version of pytorch. It currently rounds toward 0 (like the 'trunc' function NOT 'floor'). This results in incorrect rounding for negative values.\n",
      "To keep the current behavior, use torch.div(a, b, rounding_mode='trunc'), or for actual floor division, use torch.div(a, b, rounding_mode='floor'). (Triggered internally at  /pytorch/aten/src/ATen/native/BinaryOps.cpp:467.)\n",
      "  return torch.floor_divide(self, other)\n"
     ]
    },
    {
     "data": {
      "text/html": [
       "<table border=\"1\" class=\"dataframe\">\n",
       "  <thead>\n",
       "    <tr style=\"text-align: left;\">\n",
       "      <th>epoch</th>\n",
       "      <th>train_loss</th>\n",
       "      <th>valid_loss</th>\n",
       "      <th>dice</th>\n",
       "      <th>jaccard_coeff</th>\n",
       "      <th>time</th>\n",
       "    </tr>\n",
       "  </thead>\n",
       "  <tbody>\n",
       "    <tr>\n",
       "      <td>0</td>\n",
       "      <td>0.027916</td>\n",
       "      <td>0.077102</td>\n",
       "      <td>0.334960</td>\n",
       "      <td>0.201172</td>\n",
       "      <td>00:38</td>\n",
       "    </tr>\n",
       "    <tr>\n",
       "      <td>1</td>\n",
       "      <td>0.015196</td>\n",
       "      <td>0.041186</td>\n",
       "      <td>0.544842</td>\n",
       "      <td>0.374421</td>\n",
       "      <td>00:38</td>\n",
       "    </tr>\n",
       "    <tr>\n",
       "      <td>2</td>\n",
       "      <td>0.011354</td>\n",
       "      <td>0.009701</td>\n",
       "      <td>0.827253</td>\n",
       "      <td>0.705398</td>\n",
       "      <td>00:38</td>\n",
       "    </tr>\n",
       "    <tr>\n",
       "      <td>3</td>\n",
       "      <td>0.008508</td>\n",
       "      <td>0.007851</td>\n",
       "      <td>0.867165</td>\n",
       "      <td>0.765481</td>\n",
       "      <td>00:39</td>\n",
       "    </tr>\n",
       "    <tr>\n",
       "      <td>4</td>\n",
       "      <td>0.007848</td>\n",
       "      <td>0.006803</td>\n",
       "      <td>0.880988</td>\n",
       "      <td>0.787291</td>\n",
       "      <td>00:39</td>\n",
       "    </tr>\n",
       "    <tr>\n",
       "      <td>5</td>\n",
       "      <td>0.006699</td>\n",
       "      <td>0.006329</td>\n",
       "      <td>0.886849</td>\n",
       "      <td>0.796702</td>\n",
       "      <td>00:39</td>\n",
       "    </tr>\n",
       "    <tr>\n",
       "      <td>6</td>\n",
       "      <td>0.006140</td>\n",
       "      <td>0.006238</td>\n",
       "      <td>0.897977</td>\n",
       "      <td>0.814843</td>\n",
       "      <td>00:38</td>\n",
       "    </tr>\n",
       "    <tr>\n",
       "      <td>7</td>\n",
       "      <td>0.005387</td>\n",
       "      <td>0.005016</td>\n",
       "      <td>0.916273</td>\n",
       "      <td>0.845484</td>\n",
       "      <td>00:38</td>\n",
       "    </tr>\n",
       "  </tbody>\n",
       "</table>"
      ],
      "text/plain": [
       "<IPython.core.display.HTML object>"
      ]
     },
     "metadata": {},
     "output_type": "display_data"
    },
    {
     "name": "stderr",
     "output_type": "stream",
     "text": [
      "/home/ju/miniconda3/envs/fastai/lib/python3.7/site-packages/torch/nn/functional.py:3613: UserWarning: Default upsampling behavior when mode=bilinear is changed to align_corners=False since 0.4.0. Please specify align_corners=True if the old behavior is desired. See the documentation of nn.Upsample for details.\n",
      "  \"See the documentation of nn.Upsample for details.\".format(mode)\n"
     ]
    },
    {
     "name": "stdout",
     "output_type": "stream",
     "text": [
      "Better model found at epoch 0 with jaccard_coeff value: 0.20117230626501173.\n",
      "Better model found at epoch 1 with jaccard_coeff value: 0.3744214088770797.\n",
      "Better model found at epoch 2 with jaccard_coeff value: 0.7053983613174111.\n",
      "Better model found at epoch 3 with jaccard_coeff value: 0.7654814910214895.\n",
      "Better model found at epoch 4 with jaccard_coeff value: 0.7872906916085611.\n",
      "Better model found at epoch 5 with jaccard_coeff value: 0.7967018328618676.\n",
      "Better model found at epoch 6 with jaccard_coeff value: 0.8148433825939491.\n",
      "Better model found at epoch 7 with jaccard_coeff value: 0.8454836946519421.\n"
     ]
    },
    {
     "data": {
      "text/html": [
       "<table border=\"1\" class=\"dataframe\">\n",
       "  <thead>\n",
       "    <tr style=\"text-align: left;\">\n",
       "      <th>epoch</th>\n",
       "      <th>train_loss</th>\n",
       "      <th>valid_loss</th>\n",
       "      <th>dice</th>\n",
       "      <th>jaccard_coeff</th>\n",
       "      <th>time</th>\n",
       "    </tr>\n",
       "  </thead>\n",
       "  <tbody>\n",
       "    <tr>\n",
       "      <td>0</td>\n",
       "      <td>0.004597</td>\n",
       "      <td>0.004974</td>\n",
       "      <td>0.916850</td>\n",
       "      <td>0.846466</td>\n",
       "      <td>00:55</td>\n",
       "    </tr>\n",
       "    <tr>\n",
       "      <td>1</td>\n",
       "      <td>0.004699</td>\n",
       "      <td>0.004704</td>\n",
       "      <td>0.920993</td>\n",
       "      <td>0.853556</td>\n",
       "      <td>00:55</td>\n",
       "    </tr>\n",
       "    <tr>\n",
       "      <td>2</td>\n",
       "      <td>0.004106</td>\n",
       "      <td>0.004053</td>\n",
       "      <td>0.932064</td>\n",
       "      <td>0.872772</td>\n",
       "      <td>00:55</td>\n",
       "    </tr>\n",
       "    <tr>\n",
       "      <td>3</td>\n",
       "      <td>0.003693</td>\n",
       "      <td>0.003533</td>\n",
       "      <td>0.935391</td>\n",
       "      <td>0.878623</td>\n",
       "      <td>00:55</td>\n",
       "    </tr>\n",
       "    <tr>\n",
       "      <td>4</td>\n",
       "      <td>0.003680</td>\n",
       "      <td>0.003528</td>\n",
       "      <td>0.938674</td>\n",
       "      <td>0.884435</td>\n",
       "      <td>00:55</td>\n",
       "    </tr>\n",
       "    <tr>\n",
       "      <td>5</td>\n",
       "      <td>0.003314</td>\n",
       "      <td>0.003239</td>\n",
       "      <td>0.943297</td>\n",
       "      <td>0.892679</td>\n",
       "      <td>00:55</td>\n",
       "    </tr>\n",
       "    <tr>\n",
       "      <td>6</td>\n",
       "      <td>0.002943</td>\n",
       "      <td>0.003082</td>\n",
       "      <td>0.947599</td>\n",
       "      <td>0.900417</td>\n",
       "      <td>00:55</td>\n",
       "    </tr>\n",
       "    <tr>\n",
       "      <td>7</td>\n",
       "      <td>0.002938</td>\n",
       "      <td>0.003602</td>\n",
       "      <td>0.939673</td>\n",
       "      <td>0.886210</td>\n",
       "      <td>00:55</td>\n",
       "    </tr>\n",
       "    <tr>\n",
       "      <td>8</td>\n",
       "      <td>0.002394</td>\n",
       "      <td>0.003126</td>\n",
       "      <td>0.953476</td>\n",
       "      <td>0.911088</td>\n",
       "      <td>00:55</td>\n",
       "    </tr>\n",
       "    <tr>\n",
       "      <td>9</td>\n",
       "      <td>0.002434</td>\n",
       "      <td>0.002644</td>\n",
       "      <td>0.952297</td>\n",
       "      <td>0.908939</td>\n",
       "      <td>00:55</td>\n",
       "    </tr>\n",
       "    <tr>\n",
       "      <td>10</td>\n",
       "      <td>0.002478</td>\n",
       "      <td>0.006096</td>\n",
       "      <td>0.926811</td>\n",
       "      <td>0.863604</td>\n",
       "      <td>00:55</td>\n",
       "    </tr>\n",
       "    <tr>\n",
       "      <td>11</td>\n",
       "      <td>0.002593</td>\n",
       "      <td>0.002881</td>\n",
       "      <td>0.950622</td>\n",
       "      <td>0.905891</td>\n",
       "      <td>00:55</td>\n",
       "    </tr>\n",
       "    <tr>\n",
       "      <td>12</td>\n",
       "      <td>0.002279</td>\n",
       "      <td>0.002572</td>\n",
       "      <td>0.957952</td>\n",
       "      <td>0.919298</td>\n",
       "      <td>00:55</td>\n",
       "    </tr>\n",
       "    <tr>\n",
       "      <td>13</td>\n",
       "      <td>0.002129</td>\n",
       "      <td>0.002494</td>\n",
       "      <td>0.960604</td>\n",
       "      <td>0.924195</td>\n",
       "      <td>00:55</td>\n",
       "    </tr>\n",
       "    <tr>\n",
       "      <td>14</td>\n",
       "      <td>0.001855</td>\n",
       "      <td>0.002629</td>\n",
       "      <td>0.963611</td>\n",
       "      <td>0.929777</td>\n",
       "      <td>00:55</td>\n",
       "    </tr>\n",
       "    <tr>\n",
       "      <td>15</td>\n",
       "      <td>0.001719</td>\n",
       "      <td>0.002458</td>\n",
       "      <td>0.964961</td>\n",
       "      <td>0.932295</td>\n",
       "      <td>00:55</td>\n",
       "    </tr>\n",
       "  </tbody>\n",
       "</table>"
      ],
      "text/plain": [
       "<IPython.core.display.HTML object>"
      ]
     },
     "metadata": {},
     "output_type": "display_data"
    },
    {
     "name": "stdout",
     "output_type": "stream",
     "text": [
      "Better model found at epoch 0 with jaccard_coeff value: 0.8464656631655967.\n",
      "Better model found at epoch 1 with jaccard_coeff value: 0.8535564853556485.\n",
      "Better model found at epoch 2 with jaccard_coeff value: 0.8727721306621928.\n",
      "Better model found at epoch 3 with jaccard_coeff value: 0.8786234026061285.\n",
      "Better model found at epoch 4 with jaccard_coeff value: 0.8844351785707464.\n",
      "Better model found at epoch 5 with jaccard_coeff value: 0.892679407838513.\n",
      "Better model found at epoch 6 with jaccard_coeff value: 0.9004170011233928.\n",
      "Epoch 7: reducing lr to 0.0005\n",
      "Better model found at epoch 8 with jaccard_coeff value: 0.9110878580974737.\n",
      "Epoch 9: reducing lr to 0.0005\n",
      "Epoch 10: reducing lr to 0.0005\n",
      "Epoch 11: reducing lr to 0.0005\n",
      "Better model found at epoch 12 with jaccard_coeff value: 0.9192978646605657.\n",
      "Better model found at epoch 13 with jaccard_coeff value: 0.9241948796287567.\n",
      "Better model found at epoch 14 with jaccard_coeff value: 0.9297766915693758.\n",
      "Better model found at epoch 15 with jaccard_coeff value: 0.9322949175534845.\n",
      "--- fold complete # 0\n"
     ]
    },
    {
     "data": {
      "text/html": [],
      "text/plain": [
       "<IPython.core.display.HTML object>"
      ]
     },
     "metadata": {},
     "output_type": "display_data"
    },
    {
     "name": "stderr",
     "output_type": "stream",
     "text": [
      "/home/ju/miniconda3/envs/fastai/lib/python3.7/site-packages/torch/nn/functional.py:3613: UserWarning: Default upsampling behavior when mode=bilinear is changed to align_corners=False since 0.4.0. Please specify align_corners=True if the old behavior is desired. See the documentation of nn.Upsample for details.\n",
      "  \"See the documentation of nn.Upsample for details.\".format(mode)\n"
     ]
    },
    {
     "name": "stdout",
     "output_type": "stream",
     "text": [
      "[0.002457814058288932, 0.9649613100818801, 0.9322949175534845]\n",
      "---- 1\n"
     ]
    },
    {
     "data": {
      "text/html": [
       "<table border=\"1\" class=\"dataframe\">\n",
       "  <thead>\n",
       "    <tr style=\"text-align: left;\">\n",
       "      <th>epoch</th>\n",
       "      <th>train_loss</th>\n",
       "      <th>valid_loss</th>\n",
       "      <th>dice</th>\n",
       "      <th>jaccard_coeff</th>\n",
       "      <th>time</th>\n",
       "    </tr>\n",
       "  </thead>\n",
       "  <tbody>\n",
       "    <tr>\n",
       "      <td>0</td>\n",
       "      <td>0.028328</td>\n",
       "      <td>0.109446</td>\n",
       "      <td>0.232069</td>\n",
       "      <td>0.131266</td>\n",
       "      <td>00:39</td>\n",
       "    </tr>\n",
       "    <tr>\n",
       "      <td>1</td>\n",
       "      <td>0.014888</td>\n",
       "      <td>0.018817</td>\n",
       "      <td>0.720105</td>\n",
       "      <td>0.562628</td>\n",
       "      <td>00:39</td>\n",
       "    </tr>\n",
       "    <tr>\n",
       "      <td>2</td>\n",
       "      <td>0.011514</td>\n",
       "      <td>0.009579</td>\n",
       "      <td>0.837546</td>\n",
       "      <td>0.720499</td>\n",
       "      <td>00:39</td>\n",
       "    </tr>\n",
       "    <tr>\n",
       "      <td>3</td>\n",
       "      <td>0.009765</td>\n",
       "      <td>0.006868</td>\n",
       "      <td>0.865642</td>\n",
       "      <td>0.763112</td>\n",
       "      <td>00:39</td>\n",
       "    </tr>\n",
       "    <tr>\n",
       "      <td>4</td>\n",
       "      <td>0.008072</td>\n",
       "      <td>0.007016</td>\n",
       "      <td>0.874689</td>\n",
       "      <td>0.777286</td>\n",
       "      <td>00:39</td>\n",
       "    </tr>\n",
       "    <tr>\n",
       "      <td>5</td>\n",
       "      <td>0.006689</td>\n",
       "      <td>0.005442</td>\n",
       "      <td>0.896150</td>\n",
       "      <td>0.811840</td>\n",
       "      <td>00:39</td>\n",
       "    </tr>\n",
       "    <tr>\n",
       "      <td>6</td>\n",
       "      <td>0.005933</td>\n",
       "      <td>0.005701</td>\n",
       "      <td>0.894572</td>\n",
       "      <td>0.809254</td>\n",
       "      <td>00:39</td>\n",
       "    </tr>\n",
       "    <tr>\n",
       "      <td>7</td>\n",
       "      <td>0.006170</td>\n",
       "      <td>0.004725</td>\n",
       "      <td>0.910410</td>\n",
       "      <td>0.835553</td>\n",
       "      <td>00:39</td>\n",
       "    </tr>\n",
       "  </tbody>\n",
       "</table>"
      ],
      "text/plain": [
       "<IPython.core.display.HTML object>"
      ]
     },
     "metadata": {},
     "output_type": "display_data"
    },
    {
     "name": "stderr",
     "output_type": "stream",
     "text": [
      "/home/ju/miniconda3/envs/fastai/lib/python3.7/site-packages/torch/nn/functional.py:3613: UserWarning: Default upsampling behavior when mode=bilinear is changed to align_corners=False since 0.4.0. Please specify align_corners=True if the old behavior is desired. See the documentation of nn.Upsample for details.\n",
      "  \"See the documentation of nn.Upsample for details.\".format(mode)\n"
     ]
    },
    {
     "name": "stdout",
     "output_type": "stream",
     "text": [
      "Better model found at epoch 0 with jaccard_coeff value: 0.1312656860143884.\n",
      "Better model found at epoch 1 with jaccard_coeff value: 0.5626276137838241.\n",
      "Better model found at epoch 2 with jaccard_coeff value: 0.7204985071849653.\n",
      "Better model found at epoch 3 with jaccard_coeff value: 0.7631124252323506.\n",
      "Better model found at epoch 4 with jaccard_coeff value: 0.777286245804954.\n",
      "Better model found at epoch 5 with jaccard_coeff value: 0.8118395892114518.\n",
      "Epoch 6: reducing lr to 0.001\n",
      "Better model found at epoch 7 with jaccard_coeff value: 0.8355528411272897.\n"
     ]
    },
    {
     "data": {
      "text/html": [
       "<table border=\"1\" class=\"dataframe\">\n",
       "  <thead>\n",
       "    <tr style=\"text-align: left;\">\n",
       "      <th>epoch</th>\n",
       "      <th>train_loss</th>\n",
       "      <th>valid_loss</th>\n",
       "      <th>dice</th>\n",
       "      <th>jaccard_coeff</th>\n",
       "      <th>time</th>\n",
       "    </tr>\n",
       "  </thead>\n",
       "  <tbody>\n",
       "    <tr>\n",
       "      <td>0</td>\n",
       "      <td>0.005194</td>\n",
       "      <td>0.004580</td>\n",
       "      <td>0.915405</td>\n",
       "      <td>0.844006</td>\n",
       "      <td>00:55</td>\n",
       "    </tr>\n",
       "    <tr>\n",
       "      <td>1</td>\n",
       "      <td>0.004262</td>\n",
       "      <td>0.004146</td>\n",
       "      <td>0.921350</td>\n",
       "      <td>0.854169</td>\n",
       "      <td>00:55</td>\n",
       "    </tr>\n",
       "    <tr>\n",
       "      <td>2</td>\n",
       "      <td>0.004132</td>\n",
       "      <td>0.003785</td>\n",
       "      <td>0.930033</td>\n",
       "      <td>0.869217</td>\n",
       "      <td>00:55</td>\n",
       "    </tr>\n",
       "    <tr>\n",
       "      <td>3</td>\n",
       "      <td>0.003696</td>\n",
       "      <td>0.003642</td>\n",
       "      <td>0.929230</td>\n",
       "      <td>0.867814</td>\n",
       "      <td>00:55</td>\n",
       "    </tr>\n",
       "    <tr>\n",
       "      <td>4</td>\n",
       "      <td>0.003376</td>\n",
       "      <td>0.003183</td>\n",
       "      <td>0.940314</td>\n",
       "      <td>0.887351</td>\n",
       "      <td>00:55</td>\n",
       "    </tr>\n",
       "    <tr>\n",
       "      <td>5</td>\n",
       "      <td>0.003455</td>\n",
       "      <td>0.003035</td>\n",
       "      <td>0.943208</td>\n",
       "      <td>0.892519</td>\n",
       "      <td>00:55</td>\n",
       "    </tr>\n",
       "    <tr>\n",
       "      <td>6</td>\n",
       "      <td>0.003094</td>\n",
       "      <td>0.002955</td>\n",
       "      <td>0.944653</td>\n",
       "      <td>0.895111</td>\n",
       "      <td>00:55</td>\n",
       "    </tr>\n",
       "    <tr>\n",
       "      <td>7</td>\n",
       "      <td>0.002984</td>\n",
       "      <td>0.002710</td>\n",
       "      <td>0.948219</td>\n",
       "      <td>0.901537</td>\n",
       "      <td>00:55</td>\n",
       "    </tr>\n",
       "    <tr>\n",
       "      <td>8</td>\n",
       "      <td>0.002795</td>\n",
       "      <td>0.002650</td>\n",
       "      <td>0.951065</td>\n",
       "      <td>0.906696</td>\n",
       "      <td>00:55</td>\n",
       "    </tr>\n",
       "    <tr>\n",
       "      <td>9</td>\n",
       "      <td>0.002635</td>\n",
       "      <td>0.002640</td>\n",
       "      <td>0.953068</td>\n",
       "      <td>0.910343</td>\n",
       "      <td>00:55</td>\n",
       "    </tr>\n",
       "    <tr>\n",
       "      <td>10</td>\n",
       "      <td>0.002593</td>\n",
       "      <td>0.002468</td>\n",
       "      <td>0.956988</td>\n",
       "      <td>0.917524</td>\n",
       "      <td>00:55</td>\n",
       "    </tr>\n",
       "    <tr>\n",
       "      <td>11</td>\n",
       "      <td>0.002287</td>\n",
       "      <td>0.002511</td>\n",
       "      <td>0.957378</td>\n",
       "      <td>0.918241</td>\n",
       "      <td>00:56</td>\n",
       "    </tr>\n",
       "    <tr>\n",
       "      <td>12</td>\n",
       "      <td>0.002182</td>\n",
       "      <td>0.002122</td>\n",
       "      <td>0.960898</td>\n",
       "      <td>0.924738</td>\n",
       "      <td>00:55</td>\n",
       "    </tr>\n",
       "    <tr>\n",
       "      <td>13</td>\n",
       "      <td>0.002060</td>\n",
       "      <td>0.002353</td>\n",
       "      <td>0.957042</td>\n",
       "      <td>0.917623</td>\n",
       "      <td>00:55</td>\n",
       "    </tr>\n",
       "    <tr>\n",
       "      <td>14</td>\n",
       "      <td>0.001912</td>\n",
       "      <td>0.002259</td>\n",
       "      <td>0.960768</td>\n",
       "      <td>0.924499</td>\n",
       "      <td>00:55</td>\n",
       "    </tr>\n",
       "    <tr>\n",
       "      <td>15</td>\n",
       "      <td>0.001616</td>\n",
       "      <td>0.002159</td>\n",
       "      <td>0.961987</td>\n",
       "      <td>0.926758</td>\n",
       "      <td>00:56</td>\n",
       "    </tr>\n",
       "  </tbody>\n",
       "</table>"
      ],
      "text/plain": [
       "<IPython.core.display.HTML object>"
      ]
     },
     "metadata": {},
     "output_type": "display_data"
    },
    {
     "name": "stdout",
     "output_type": "stream",
     "text": [
      "Better model found at epoch 0 with jaccard_coeff value: 0.8440063811455631.\n",
      "Better model found at epoch 1 with jaccard_coeff value: 0.8541688356183831.\n",
      "Better model found at epoch 2 with jaccard_coeff value: 0.8692166381115553.\n",
      "Epoch 3: reducing lr to 0.0005\n",
      "Better model found at epoch 4 with jaccard_coeff value: 0.8873508648688698.\n",
      "Better model found at epoch 5 with jaccard_coeff value: 0.8925193718511535.\n",
      "Better model found at epoch 6 with jaccard_coeff value: 0.8951113095790418.\n",
      "Better model found at epoch 7 with jaccard_coeff value: 0.9015365389103447.\n",
      "Better model found at epoch 8 with jaccard_coeff value: 0.9066959960704294.\n",
      "Better model found at epoch 9 with jaccard_coeff value: 0.9103433902823216.\n",
      "Better model found at epoch 10 with jaccard_coeff value: 0.9175235230200568.\n",
      "Better model found at epoch 11 with jaccard_coeff value: 0.9182405714121579.\n",
      "Better model found at epoch 12 with jaccard_coeff value: 0.9247381312910663.\n",
      "Epoch 13: reducing lr to 0.000251890353107801\n",
      "Epoch 14: reducing lr to 7.456752656907119e-05\n",
      "Better model found at epoch 15 with jaccard_coeff value: 0.9267579730592612.\n",
      "--- fold complete # 1\n"
     ]
    },
    {
     "data": {
      "text/html": [],
      "text/plain": [
       "<IPython.core.display.HTML object>"
      ]
     },
     "metadata": {},
     "output_type": "display_data"
    },
    {
     "name": "stderr",
     "output_type": "stream",
     "text": [
      "/home/ju/miniconda3/envs/fastai/lib/python3.7/site-packages/torch/nn/functional.py:3613: UserWarning: Default upsampling behavior when mode=bilinear is changed to align_corners=False since 0.4.0. Please specify align_corners=True if the old behavior is desired. See the documentation of nn.Upsample for details.\n",
      "  \"See the documentation of nn.Upsample for details.\".format(mode)\n"
     ]
    },
    {
     "name": "stdout",
     "output_type": "stream",
     "text": [
      "[0.0021594781428575516, 0.9619869085973228, 0.9267579730592612]\n",
      "---- 2\n"
     ]
    },
    {
     "data": {
      "text/html": [
       "<table border=\"1\" class=\"dataframe\">\n",
       "  <thead>\n",
       "    <tr style=\"text-align: left;\">\n",
       "      <th>epoch</th>\n",
       "      <th>train_loss</th>\n",
       "      <th>valid_loss</th>\n",
       "      <th>dice</th>\n",
       "      <th>jaccard_coeff</th>\n",
       "      <th>time</th>\n",
       "    </tr>\n",
       "  </thead>\n",
       "  <tbody>\n",
       "    <tr>\n",
       "      <td>0</td>\n",
       "      <td>0.030583</td>\n",
       "      <td>0.058171</td>\n",
       "      <td>0.380524</td>\n",
       "      <td>0.234967</td>\n",
       "      <td>00:38</td>\n",
       "    </tr>\n",
       "    <tr>\n",
       "      <td>1</td>\n",
       "      <td>0.015097</td>\n",
       "      <td>0.025591</td>\n",
       "      <td>0.619115</td>\n",
       "      <td>0.448347</td>\n",
       "      <td>00:38</td>\n",
       "    </tr>\n",
       "    <tr>\n",
       "      <td>2</td>\n",
       "      <td>0.011025</td>\n",
       "      <td>0.016311</td>\n",
       "      <td>0.746658</td>\n",
       "      <td>0.595733</td>\n",
       "      <td>00:38</td>\n",
       "    </tr>\n",
       "    <tr>\n",
       "      <td>3</td>\n",
       "      <td>0.008798</td>\n",
       "      <td>0.008282</td>\n",
       "      <td>0.827307</td>\n",
       "      <td>0.705476</td>\n",
       "      <td>00:38</td>\n",
       "    </tr>\n",
       "    <tr>\n",
       "      <td>4</td>\n",
       "      <td>0.007420</td>\n",
       "      <td>0.007270</td>\n",
       "      <td>0.844636</td>\n",
       "      <td>0.731056</td>\n",
       "      <td>00:38</td>\n",
       "    </tr>\n",
       "    <tr>\n",
       "      <td>5</td>\n",
       "      <td>0.006911</td>\n",
       "      <td>0.014584</td>\n",
       "      <td>0.737245</td>\n",
       "      <td>0.583838</td>\n",
       "      <td>00:39</td>\n",
       "    </tr>\n",
       "    <tr>\n",
       "      <td>6</td>\n",
       "      <td>0.006547</td>\n",
       "      <td>0.010521</td>\n",
       "      <td>0.807308</td>\n",
       "      <td>0.676878</td>\n",
       "      <td>00:39</td>\n",
       "    </tr>\n",
       "    <tr>\n",
       "      <td>7</td>\n",
       "      <td>0.005764</td>\n",
       "      <td>0.005695</td>\n",
       "      <td>0.866211</td>\n",
       "      <td>0.763997</td>\n",
       "      <td>00:39</td>\n",
       "    </tr>\n",
       "  </tbody>\n",
       "</table>"
      ],
      "text/plain": [
       "<IPython.core.display.HTML object>"
      ]
     },
     "metadata": {},
     "output_type": "display_data"
    },
    {
     "name": "stderr",
     "output_type": "stream",
     "text": [
      "/home/ju/miniconda3/envs/fastai/lib/python3.7/site-packages/torch/nn/functional.py:3613: UserWarning: Default upsampling behavior when mode=bilinear is changed to align_corners=False since 0.4.0. Please specify align_corners=True if the old behavior is desired. See the documentation of nn.Upsample for details.\n",
      "  \"See the documentation of nn.Upsample for details.\".format(mode)\n"
     ]
    },
    {
     "name": "stdout",
     "output_type": "stream",
     "text": [
      "Better model found at epoch 0 with jaccard_coeff value: 0.23496738285076682.\n",
      "Better model found at epoch 1 with jaccard_coeff value: 0.4483469349481848.\n",
      "Better model found at epoch 2 with jaccard_coeff value: 0.5957333090814967.\n",
      "Better model found at epoch 3 with jaccard_coeff value: 0.70547604434503.\n",
      "Better model found at epoch 4 with jaccard_coeff value: 0.7310561236805078.\n",
      "Epoch 5: reducing lr to 0.001\n",
      "Epoch 6: reducing lr to 0.001\n",
      "Better model found at epoch 7 with jaccard_coeff value: 0.7639971606988183.\n"
     ]
    },
    {
     "data": {
      "text/html": [
       "\n",
       "    <div>\n",
       "        <style>\n",
       "            /* Turns off some styling */\n",
       "            progress {\n",
       "                /* gets rid of default border in Firefox and Opera. */\n",
       "                border: none;\n",
       "                /* Needs to be in here for Safari polyfill so background images work as expected. */\n",
       "                background-size: auto;\n",
       "            }\n",
       "            .progress-bar-interrupted, .progress-bar-interrupted::-webkit-progress-bar {\n",
       "                background: #F44336;\n",
       "            }\n",
       "        </style>\n",
       "      <progress value='3' class='' max='16' style='width:300px; height:20px; vertical-align: middle;'></progress>\n",
       "      18.75% [3/16 02:47<12:05]\n",
       "    </div>\n",
       "    \n",
       "<table border=\"1\" class=\"dataframe\">\n",
       "  <thead>\n",
       "    <tr style=\"text-align: left;\">\n",
       "      <th>epoch</th>\n",
       "      <th>train_loss</th>\n",
       "      <th>valid_loss</th>\n",
       "      <th>dice</th>\n",
       "      <th>jaccard_coeff</th>\n",
       "      <th>time</th>\n",
       "    </tr>\n",
       "  </thead>\n",
       "  <tbody>\n",
       "    <tr>\n",
       "      <td>0</td>\n",
       "      <td>0.004699</td>\n",
       "      <td>0.004623</td>\n",
       "      <td>0.902869</td>\n",
       "      <td>0.822936</td>\n",
       "      <td>00:55</td>\n",
       "    </tr>\n",
       "    <tr>\n",
       "      <td>1</td>\n",
       "      <td>0.004608</td>\n",
       "      <td>0.004605</td>\n",
       "      <td>0.906882</td>\n",
       "      <td>0.829628</td>\n",
       "      <td>00:55</td>\n",
       "    </tr>\n",
       "    <tr>\n",
       "      <td>2</td>\n",
       "      <td>0.004160</td>\n",
       "      <td>0.003924</td>\n",
       "      <td>0.916254</td>\n",
       "      <td>0.845452</td>\n",
       "      <td>00:55</td>\n",
       "    </tr>\n",
       "  </tbody>\n",
       "</table><p>\n",
       "\n",
       "    <div>\n",
       "        <style>\n",
       "            /* Turns off some styling */\n",
       "            progress {\n",
       "                /* gets rid of default border in Firefox and Opera. */\n",
       "                border: none;\n",
       "                /* Needs to be in here for Safari polyfill so background images work as expected. */\n",
       "                background-size: auto;\n",
       "            }\n",
       "            .progress-bar-interrupted, .progress-bar-interrupted::-webkit-progress-bar {\n",
       "                background: #F44336;\n",
       "            }\n",
       "        </style>\n",
       "      <progress value='101' class='' max='104' style='width:300px; height:20px; vertical-align: middle;'></progress>\n",
       "      97.12% [101/104 00:52<00:01 0.0040]\n",
       "    </div>\n",
       "    "
      ],
      "text/plain": [
       "<IPython.core.display.HTML object>"
      ]
     },
     "metadata": {},
     "output_type": "display_data"
    },
    {
     "name": "stdout",
     "output_type": "stream",
     "text": [
      "Better model found at epoch 0 with jaccard_coeff value: 0.8229362900588862.\n",
      "Better model found at epoch 1 with jaccard_coeff value: 0.8296280828111179.\n",
      "Better model found at epoch 2 with jaccard_coeff value: 0.8454516487822642.\n"
     ]
    }
   ],
   "source": [
    "# define augmentation transforms\n",
    "item_tfms, batch_tfms = my_transforms(half)\n",
    "\n",
    "for fold in range(n_folds):\n",
    "    print (\"----\", fold)\n",
    "    dls = get_data(mydf, fold, n_folds, codes, bs, item_tfms, batch_tfms) # get the dataloaders\n",
    "    # here we create the segmentation learner with SemTorch. The models are all pre-trained on ImageNet\n",
    "    learn = get_segmentation_learner(dls=dls, number_classes=2, segmentation_type=\"Semantic Segmentation\",\n",
    "                                 architecture_name=arch, backbone_name=backbone,\n",
    "                                 metrics=metrics,\n",
    "                                 splitter=segmentron_splitter,\n",
    "                                 opt_func=opt,\n",
    "                                 loss_func=myloss_func).to_fp16() # we use fp16 training\n",
    "    \n",
    "    #set hyperparameters. This should be moved out of the loop :-)\n",
    "    lr = 1e-2\n",
    "    freeze_epochs = 8\n",
    "    epochs = 16\n",
    "\n",
    "    # here is the training cycle: we train for 'freeze_epochs' with all layers (except the last) frozen,\n",
    "    # then we train for 'epochs' with all layers unfrozen \n",
    "    learn.fine_tune_flat(epochs, lr, freeze_epochs, first_callbacks=callbacks, second_callbacks=callbacks)\n",
    "    learn.recorder.plot_loss()\n",
    "    learn.export('models/stage-1 ' + myclass + str(fold))\n",
    "    print (\"--- fold complete #\", fold)\n",
    "    print (learn.validate())\n",
    "    del dls, learn"
   ]
  },
  {
   "cell_type": "code",
   "execution_count": null,
   "metadata": {},
   "outputs": [],
   "source": [
    "#from jarviscloud import jarviscloud\n",
    "#jarviscloud.pause()"
   ]
  },
  {
   "cell_type": "markdown",
   "metadata": {
    "id": "2qf2Gr-INw08"
   },
   "source": [
    "## Full size training cycle"
   ]
  },
  {
   "cell_type": "code",
   "execution_count": null,
   "metadata": {},
   "outputs": [],
   "source": [
    "# sz is 480x480 now, so we need new transforms\n",
    "item_tfms, batch_tfms = my_transforms(sz)"
   ]
  },
  {
   "cell_type": "code",
   "execution_count": null,
   "metadata": {},
   "outputs": [],
   "source": [
    "# set hyperparameters\n",
    "if myclass == \"building\":\n",
    "    freeze_epochs = 6#16\n",
    "    epochs = 9# 6\n",
    "elif myclass == \"aguada\":\n",
    "    lr = 1e-2\n",
    "    freeze_epochs = 8#19\n",
    "    epochs = 16# 6\n",
    "\n",
    "else: # platform: TO BE DONE\n",
    "    freeze_epochs = 6#16\n",
    "    epochs = 9# 6\n",
    "\n",
    "lr, freeze_epochs, epochs"
   ]
  },
  {
   "cell_type": "code",
   "execution_count": null,
   "metadata": {},
   "outputs": [],
   "source": [
    "# reduce the batch size\n",
    "if arch==\"deeplabv3+\":\n",
    "    bs = 3 # 2 for Unet\n",
    "else:\n",
    "    bs = 6\n",
    "\n",
    "if JARVIS:\n",
    "    if arch==\"deeplabv3+\":\n",
    "        bs = 12 \n",
    "    else:\n",
    "        bs = 16\n",
    "bs"
   ]
  },
  {
   "cell_type": "code",
   "execution_count": null,
   "metadata": {},
   "outputs": [],
   "source": [
    "# we iterate over each fold\n",
    "for fold in range(n_folds):\n",
    "    dls = get_data(mydf, fold, n_folds, codes, bs, item_tfms, batch_tfms) # get dataloaders\n",
    "    learn = load_learner('models/stage-1 ' + myclass + str(fold)) # re-load the learner\n",
    "    learn.dls = dls # and insert the new dataloaders\n",
    "    learn.to_fp16() # switch into fp16 training (half precision)\n",
    "    learn.loss_func = myloss_func # set loss function\n",
    "    # note that we now fine tune again but 2nd cycle with full precision (tofp32)\n",
    "    learn.fine_tune_flat(epochs, lr, freeze_epochs, first_callbacks=callbacks, second_callbacks=callbacks, tofp32=True)\n",
    "    learn.recorder.plot_loss()\n",
    "    MYMODEL = \"models/maya_\"+VERSION+\"_\"+myclass+str(fold)+\".pkl\"\n",
    "    print (MYMODEL)\n",
    "    learn.export(MYMODEL)\n",
    "    del dls, learn"
   ]
  },
  {
   "cell_type": "code",
   "execution_count": null,
   "metadata": {},
   "outputs": [],
   "source": [
    "#from jarviscloud import jarviscloud\n",
    "#jarviscloud.pause()"
   ]
  },
  {
   "cell_type": "markdown",
   "metadata": {},
   "source": [
    "# END"
   ]
  },
  {
   "cell_type": "code",
   "execution_count": null,
   "metadata": {},
   "outputs": [],
   "source": []
  }
 ],
 "metadata": {
  "accelerator": "GPU",
  "colab": {
   "collapsed_sections": [
    "IgfhU0zObiTq",
    "6z8pe1eqbiTv",
    "QeePnewEbiTy"
   ],
   "name": "Segmentation_010.ipynb",
   "provenance": []
  },
  "kernelspec": {
   "display_name": "Python 3",
   "language": "python",
   "name": "python3"
  },
  "language_info": {
   "codemirror_mode": {
    "name": "ipython",
    "version": 3
   },
   "file_extension": ".py",
   "mimetype": "text/x-python",
   "name": "python",
   "nbconvert_exporter": "python",
   "pygments_lexer": "ipython3",
   "version": "3.7.7"
  }
 },
 "nbformat": 4,
 "nbformat_minor": 4
}

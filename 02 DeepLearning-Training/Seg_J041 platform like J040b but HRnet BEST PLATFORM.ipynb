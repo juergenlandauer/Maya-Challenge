{
 "cells": [
  {
   "cell_type": "markdown",
   "metadata": {
    "id": "ksMN1dbJbiTZ"
   },
   "source": [
    "# Image Segmentation"
   ]
  },
  {
   "cell_type": "markdown",
   "metadata": {},
   "source": [
    "Some basic parameters:"
   ]
  },
  {
   "cell_type": "code",
   "execution_count": 1,
   "metadata": {
    "id": "654QopxlNw0u"
   },
   "outputs": [],
   "source": [
    "VERSION = \"J041\"\n",
    "\n",
    "# do we run on Jarvis cloud platform?\n",
    "#JARVIS = True\n",
    "JARVIS = False\n",
    "\n",
    "TESTRUN = False"
   ]
  },
  {
   "cell_type": "markdown",
   "metadata": {},
   "source": [
    "installing libraries"
   ]
  },
  {
   "cell_type": "code",
   "execution_count": 2,
   "metadata": {
    "colab": {
     "base_uri": "https://localhost:8080/"
    },
    "id": "4GqP0-3GbiTa",
    "outputId": "92b86015-8e2a-476a-fb66-e576a352f497"
   },
   "outputs": [
    {
     "name": "stdout",
     "output_type": "stream",
     "text": [
      "Collecting git+https://github.com/WaterKnight1998/SemTorch\n",
      "  Cloning https://github.com/WaterKnight1998/SemTorch to /tmp/pip-req-build-qxty0bg_\n",
      "  Running command git clone -q https://github.com/WaterKnight1998/SemTorch /tmp/pip-req-build-qxty0bg_\n",
      "Requirement already satisfied: numpy<2.0.0,>=1.18.5 in /home/ju/miniconda3/envs/fastai/lib/python3.7/site-packages (from SemTorch==0.1.1) (1.19.2)\n",
      "Requirement already satisfied: scikit-image<1.0.0,>=0.17.2 in /home/ju/miniconda3/envs/fastai/lib/python3.7/site-packages (from SemTorch==0.1.1) (0.18.1)\n",
      "Requirement already satisfied: matplotlib in /home/ju/miniconda3/envs/fastai/lib/python3.7/site-packages (from SemTorch==0.1.1) (3.3.4)\n",
      "Requirement already satisfied: ipython in /home/ju/miniconda3/envs/fastai/lib/python3.7/site-packages (from SemTorch==0.1.1) (7.24.1)\n",
      "Requirement already satisfied: torch<2.0.0,>=1.6.0 in /home/ju/miniconda3/envs/fastai/lib/python3.7/site-packages (from SemTorch==0.1.1) (1.9.0)\n",
      "Requirement already satisfied: torchvision<1.0.0,>=0.7.0 in /home/ju/miniconda3/envs/fastai/lib/python3.7/site-packages (from SemTorch==0.1.1) (0.10.0)\n",
      "Requirement already satisfied: fastai<3.0.0,>=2.0.0 in /home/ju/miniconda3/envs/fastai/lib/python3.7/site-packages (from SemTorch==0.1.1) (2.4)\n",
      "Requirement already satisfied: tqdm in /home/ju/miniconda3/envs/fastai/lib/python3.7/site-packages (from SemTorch==0.1.1) (4.61.1)\n",
      "Requirement already satisfied: pyyaml in /home/ju/miniconda3/envs/fastai/lib/python3.7/site-packages (from fastai<3.0.0,>=2.0.0->SemTorch==0.1.1) (5.4.1)\n",
      "Requirement already satisfied: fastprogress>=0.2.4 in /home/ju/miniconda3/envs/fastai/lib/python3.7/site-packages (from fastai<3.0.0,>=2.0.0->SemTorch==0.1.1) (1.0.0)\n",
      "Requirement already satisfied: scikit-learn in /home/ju/miniconda3/envs/fastai/lib/python3.7/site-packages (from fastai<3.0.0,>=2.0.0->SemTorch==0.1.1) (0.24.2)\n",
      "Requirement already satisfied: packaging in /home/ju/miniconda3/envs/fastai/lib/python3.7/site-packages (from fastai<3.0.0,>=2.0.0->SemTorch==0.1.1) (20.9)\n",
      "Requirement already satisfied: requests in /home/ju/miniconda3/envs/fastai/lib/python3.7/site-packages (from fastai<3.0.0,>=2.0.0->SemTorch==0.1.1) (2.25.1)\n",
      "Requirement already satisfied: spacy<4 in /home/ju/miniconda3/envs/fastai/lib/python3.7/site-packages (from fastai<3.0.0,>=2.0.0->SemTorch==0.1.1) (2.3.5)\n",
      "Requirement already satisfied: pip in /home/ju/miniconda3/envs/fastai/lib/python3.7/site-packages (from fastai<3.0.0,>=2.0.0->SemTorch==0.1.1) (21.1.2)\n",
      "Requirement already satisfied: scipy in /home/ju/miniconda3/envs/fastai/lib/python3.7/site-packages (from fastai<3.0.0,>=2.0.0->SemTorch==0.1.1) (1.6.2)\n",
      "Requirement already satisfied: fastcore<1.4,>=1.3.8 in /home/ju/miniconda3/envs/fastai/lib/python3.7/site-packages (from fastai<3.0.0,>=2.0.0->SemTorch==0.1.1) (1.3.20)\n",
      "Requirement already satisfied: pandas in /home/ju/miniconda3/envs/fastai/lib/python3.7/site-packages (from fastai<3.0.0,>=2.0.0->SemTorch==0.1.1) (1.2.4)\n",
      "Requirement already satisfied: pillow>6.0.0 in /home/ju/miniconda3/envs/fastai/lib/python3.7/site-packages (from fastai<3.0.0,>=2.0.0->SemTorch==0.1.1) (8.2.0)\n",
      "Requirement already satisfied: PyWavelets>=1.1.1 in /home/ju/miniconda3/envs/fastai/lib/python3.7/site-packages (from scikit-image<1.0.0,>=0.17.2->SemTorch==0.1.1) (1.1.1)\n",
      "Requirement already satisfied: imageio>=2.3.0 in /home/ju/miniconda3/envs/fastai/lib/python3.7/site-packages (from scikit-image<1.0.0,>=0.17.2->SemTorch==0.1.1) (2.9.0)\n",
      "Requirement already satisfied: networkx>=2.0 in /home/ju/miniconda3/envs/fastai/lib/python3.7/site-packages (from scikit-image<1.0.0,>=0.17.2->SemTorch==0.1.1) (2.5.1)\n",
      "Requirement already satisfied: tifffile>=2019.7.26 in /home/ju/miniconda3/envs/fastai/lib/python3.7/site-packages (from scikit-image<1.0.0,>=0.17.2->SemTorch==0.1.1) (2021.6.14)\n",
      "Requirement already satisfied: python-dateutil>=2.1 in /home/ju/miniconda3/envs/fastai/lib/python3.7/site-packages (from matplotlib->SemTorch==0.1.1) (2.8.1)\n",
      "Requirement already satisfied: kiwisolver>=1.0.1 in /home/ju/miniconda3/envs/fastai/lib/python3.7/site-packages (from matplotlib->SemTorch==0.1.1) (1.3.1)\n",
      "Requirement already satisfied: cycler>=0.10 in /home/ju/miniconda3/envs/fastai/lib/python3.7/site-packages (from matplotlib->SemTorch==0.1.1) (0.10.0)\n",
      "Requirement already satisfied: pyparsing!=2.0.4,!=2.1.2,!=2.1.6,>=2.0.3 in /home/ju/miniconda3/envs/fastai/lib/python3.7/site-packages (from matplotlib->SemTorch==0.1.1) (2.4.7)\n",
      "Requirement already satisfied: six in /home/ju/miniconda3/envs/fastai/lib/python3.7/site-packages (from cycler>=0.10->matplotlib->SemTorch==0.1.1) (1.16.0)\n",
      "Requirement already satisfied: decorator<5,>=4.3 in /home/ju/miniconda3/envs/fastai/lib/python3.7/site-packages (from networkx>=2.0->scikit-image<1.0.0,>=0.17.2->SemTorch==0.1.1) (4.4.2)\n",
      "Requirement already satisfied: murmurhash<1.1.0,>=0.28.0 in /home/ju/miniconda3/envs/fastai/lib/python3.7/site-packages (from spacy<4->fastai<3.0.0,>=2.0.0->SemTorch==0.1.1) (1.0.5)\n",
      "Requirement already satisfied: cymem<2.1.0,>=2.0.2 in /home/ju/miniconda3/envs/fastai/lib/python3.7/site-packages (from spacy<4->fastai<3.0.0,>=2.0.0->SemTorch==0.1.1) (2.0.5)\n",
      "Requirement already satisfied: setuptools in /home/ju/miniconda3/envs/fastai/lib/python3.7/site-packages (from spacy<4->fastai<3.0.0,>=2.0.0->SemTorch==0.1.1) (52.0.0.post20210125)\n",
      "Requirement already satisfied: blis<0.8.0,>=0.4.0 in /home/ju/miniconda3/envs/fastai/lib/python3.7/site-packages (from spacy<4->fastai<3.0.0,>=2.0.0->SemTorch==0.1.1) (0.7.4)\n",
      "Requirement already satisfied: thinc<7.5.0,>=7.4.1 in /home/ju/miniconda3/envs/fastai/lib/python3.7/site-packages (from spacy<4->fastai<3.0.0,>=2.0.0->SemTorch==0.1.1) (7.4.5)\n",
      "Requirement already satisfied: preshed<3.1.0,>=3.0.2 in /home/ju/miniconda3/envs/fastai/lib/python3.7/site-packages (from spacy<4->fastai<3.0.0,>=2.0.0->SemTorch==0.1.1) (3.0.5)\n",
      "Requirement already satisfied: srsly<1.1.0,>=1.0.2 in /home/ju/miniconda3/envs/fastai/lib/python3.7/site-packages (from spacy<4->fastai<3.0.0,>=2.0.0->SemTorch==0.1.1) (1.0.5)\n",
      "Requirement already satisfied: catalogue<1.1.0,>=0.0.7 in /home/ju/miniconda3/envs/fastai/lib/python3.7/site-packages (from spacy<4->fastai<3.0.0,>=2.0.0->SemTorch==0.1.1) (1.0.0)\n",
      "Requirement already satisfied: plac<1.2.0,>=0.9.6 in /home/ju/miniconda3/envs/fastai/lib/python3.7/site-packages (from spacy<4->fastai<3.0.0,>=2.0.0->SemTorch==0.1.1) (1.1.0)\n",
      "Requirement already satisfied: wasabi<1.1.0,>=0.4.0 in /home/ju/miniconda3/envs/fastai/lib/python3.7/site-packages (from spacy<4->fastai<3.0.0,>=2.0.0->SemTorch==0.1.1) (0.8.2)\n",
      "Requirement already satisfied: importlib-metadata>=0.20 in /home/ju/miniconda3/envs/fastai/lib/python3.7/site-packages (from catalogue<1.1.0,>=0.0.7->spacy<4->fastai<3.0.0,>=2.0.0->SemTorch==0.1.1) (3.10.0)\n",
      "Requirement already satisfied: typing-extensions>=3.6.4 in /home/ju/miniconda3/envs/fastai/lib/python3.7/site-packages (from importlib-metadata>=0.20->catalogue<1.1.0,>=0.0.7->spacy<4->fastai<3.0.0,>=2.0.0->SemTorch==0.1.1) (3.7.4.3)\n",
      "Requirement already satisfied: zipp>=0.5 in /home/ju/miniconda3/envs/fastai/lib/python3.7/site-packages (from importlib-metadata>=0.20->catalogue<1.1.0,>=0.0.7->spacy<4->fastai<3.0.0,>=2.0.0->SemTorch==0.1.1) (3.4.1)\n",
      "Requirement already satisfied: certifi>=2017.4.17 in /home/ju/miniconda3/envs/fastai/lib/python3.7/site-packages (from requests->fastai<3.0.0,>=2.0.0->SemTorch==0.1.1) (2021.5.30)\n",
      "Requirement already satisfied: chardet<5,>=3.0.2 in /home/ju/miniconda3/envs/fastai/lib/python3.7/site-packages (from requests->fastai<3.0.0,>=2.0.0->SemTorch==0.1.1) (4.0.0)\n",
      "Requirement already satisfied: urllib3<1.27,>=1.21.1 in /home/ju/miniconda3/envs/fastai/lib/python3.7/site-packages (from requests->fastai<3.0.0,>=2.0.0->SemTorch==0.1.1) (1.26.4)\n",
      "Requirement already satisfied: idna<3,>=2.5 in /home/ju/miniconda3/envs/fastai/lib/python3.7/site-packages (from requests->fastai<3.0.0,>=2.0.0->SemTorch==0.1.1) (2.10)\n",
      "Requirement already satisfied: matplotlib-inline in /home/ju/miniconda3/envs/fastai/lib/python3.7/site-packages (from ipython->SemTorch==0.1.1) (0.1.2)\n",
      "Requirement already satisfied: pickleshare in /home/ju/miniconda3/envs/fastai/lib/python3.7/site-packages (from ipython->SemTorch==0.1.1) (0.7.5)\n",
      "Requirement already satisfied: jedi>=0.16 in /home/ju/miniconda3/envs/fastai/lib/python3.7/site-packages (from ipython->SemTorch==0.1.1) (0.18.0)\n",
      "Requirement already satisfied: pygments in /home/ju/miniconda3/envs/fastai/lib/python3.7/site-packages (from ipython->SemTorch==0.1.1) (2.9.0)\n",
      "Requirement already satisfied: traitlets>=4.2 in /home/ju/miniconda3/envs/fastai/lib/python3.7/site-packages (from ipython->SemTorch==0.1.1) (5.0.5)\n",
      "Requirement already satisfied: pexpect>4.3 in /home/ju/miniconda3/envs/fastai/lib/python3.7/site-packages (from ipython->SemTorch==0.1.1) (4.8.0)\n",
      "Requirement already satisfied: prompt-toolkit!=3.0.0,!=3.0.1,<3.1.0,>=2.0.0 in /home/ju/miniconda3/envs/fastai/lib/python3.7/site-packages (from ipython->SemTorch==0.1.1) (3.0.17)\n",
      "Requirement already satisfied: backcall in /home/ju/miniconda3/envs/fastai/lib/python3.7/site-packages (from ipython->SemTorch==0.1.1) (0.2.0)\n",
      "Requirement already satisfied: parso<0.9.0,>=0.8.0 in /home/ju/miniconda3/envs/fastai/lib/python3.7/site-packages (from jedi>=0.16->ipython->SemTorch==0.1.1) (0.8.2)\n",
      "Requirement already satisfied: ptyprocess>=0.5 in /home/ju/miniconda3/envs/fastai/lib/python3.7/site-packages (from pexpect>4.3->ipython->SemTorch==0.1.1) (0.7.0)\n"
     ]
    },
    {
     "name": "stdout",
     "output_type": "stream",
     "text": [
      "Requirement already satisfied: wcwidth in /home/ju/miniconda3/envs/fastai/lib/python3.7/site-packages (from prompt-toolkit!=3.0.0,!=3.0.1,<3.1.0,>=2.0.0->ipython->SemTorch==0.1.1) (0.2.5)\n",
      "Requirement already satisfied: ipython-genutils in /home/ju/miniconda3/envs/fastai/lib/python3.7/site-packages (from traitlets>=4.2->ipython->SemTorch==0.1.1) (0.2.0)\n",
      "Requirement already satisfied: pytz>=2017.3 in /home/ju/miniconda3/envs/fastai/lib/python3.7/site-packages (from pandas->fastai<3.0.0,>=2.0.0->SemTorch==0.1.1) (2021.1)\n",
      "Requirement already satisfied: joblib>=0.11 in /home/ju/miniconda3/envs/fastai/lib/python3.7/site-packages (from scikit-learn->fastai<3.0.0,>=2.0.0->SemTorch==0.1.1) (1.0.1)\n",
      "Requirement already satisfied: threadpoolctl>=2.0.0 in /home/ju/miniconda3/envs/fastai/lib/python3.7/site-packages (from scikit-learn->fastai<3.0.0,>=2.0.0->SemTorch==0.1.1) (2.1.0)\n"
     ]
    }
   ],
   "source": [
    "#Run this once per session\n",
    "!pip install fastai -q --upgrade\n",
    "!pip install git+https://github.com/WaterKnight1998/SemTorch"
   ]
  },
  {
   "cell_type": "markdown",
   "metadata": {
    "id": "unyF_YP0biTc"
   },
   "source": [
    "# Libraries"
   ]
  },
  {
   "cell_type": "code",
   "execution_count": 3,
   "metadata": {
    "id": "43-zWMEYbiTc"
   },
   "outputs": [
    {
     "name": "stderr",
     "output_type": "stream",
     "text": [
      "/home/ju/miniconda3/envs/fastai/lib/python3.7/site-packages/torch/nn/_reduction.py:42: UserWarning: size_average and reduce args will be deprecated, please use reduction='mean' instead.\n",
      "  warnings.warn(warning.format(ret))\n"
     ]
    }
   ],
   "source": [
    "from fastai.vision.all import *\n",
    "import pandas as pd\n",
    "import gc # garbage collector\n",
    "\n",
    "# SemTorch\n",
    "from semtorch import get_segmentation_learner"
   ]
  },
  {
   "cell_type": "code",
   "execution_count": 4,
   "metadata": {},
   "outputs": [],
   "source": [
    "# fix randomness\n",
    "my_seed = 42\n",
    "np.random.seed(my_seed);random.seed(my_seed);set_seed(my_seed)\n",
    "torch.backends.cudnn.deterministic = True\n",
    "torch.backends.cudnn.benchmark = False"
   ]
  },
  {
   "cell_type": "markdown",
   "metadata": {
    "id": "5yv9X04iNw0w"
   },
   "source": [
    "# Choose class used in this notebook"
   ]
  },
  {
   "cell_type": "code",
   "execution_count": 5,
   "metadata": {
    "id": "ImyXnyUt47gZ"
   },
   "outputs": [],
   "source": [
    "# what class are we looking for?\n",
    "#myclass = \"aguada\"\n",
    "#myclass = \"building\"\n",
    "myclass = \"platform\"\n",
    "\n",
    "mymask = \"mask_\"+myclass"
   ]
  },
  {
   "cell_type": "markdown",
   "metadata": {
    "id": "CH9mEmgybiTc"
   },
   "source": [
    "# Dataset\n"
   ]
  },
  {
   "cell_type": "code",
   "execution_count": 6,
   "metadata": {},
   "outputs": [
    {
     "data": {
      "text/plain": [
       "Path('../Data')"
      ]
     },
     "execution_count": 6,
     "metadata": {},
     "output_type": "execute_result"
    }
   ],
   "source": [
    "root_dir = Path(\"../Data/\")\n",
    "root_dir"
   ]
  },
  {
   "cell_type": "code",
   "execution_count": 7,
   "metadata": {
    "id": "5zH5Yelner01"
   },
   "outputs": [],
   "source": [
    "path = root_dir"
   ]
  },
  {
   "cell_type": "markdown",
   "metadata": {
    "id": "Z7XTNYHpbiTe"
   },
   "source": [
    "Some paths we use:"
   ]
  },
  {
   "cell_type": "code",
   "execution_count": 8,
   "metadata": {
    "id": "xawJJEhfbiTe"
   },
   "outputs": [],
   "source": [
    "path_im = path/'lidar_train'\n",
    "# these are the original masks but 'normalized' for fastai (i.e. only 0 and 1 allowed)\n",
    "path_lbl = path/'train_masks_normalized'\n",
    "\n",
    "# this contains the pixel counts\n",
    "maya_csv = path/'maya_analysis.csv'\n",
    "\n",
    "if myclass == 'aguada': ### ????????????????????????\n",
    "    # old synthetic images\n",
    "    synth_path_im = path/'03_generated/images'\n",
    "    synth_path_lbl = path/'03_generated/normalized_masks'\n",
    "else:\n",
    "    # new synthetic images (no padding) for BUILDING and PLATFORM\n",
    "    synth_path_im = path/'03_generated_21-05-20/images'\n",
    "    synth_path_lbl = path/'03_generated_21-05-20/normalized_masks'\n",
    "    \n",
    "    # newest (rectangular cut) synthetic images for PLATFORM\n",
    "    #synth_path_im = path/'03_generated_21-06-07/images'\n",
    "    #synth_path_lbl = path/'03_generated_21-06-07/normalized_masks'\n",
    "\n",
    "    # newest synthetic images (pad 8 px)\n",
    "    #synth_path_im = path/'03_generated_21-06-14_padded/images'\n",
    "    #synth_path_lbl = path/'03_generated_21-06-14_padded/normalized_masks'\n"
   ]
  },
  {
   "cell_type": "markdown",
   "metadata": {},
   "source": [
    "### Important note:\n",
    "\n",
    "The data collection below is much more complicated that it should be. This is because we tried some data filtering first, but that did not work out. However there was no time to remove this code. We will remove it before the ECML conference, however.\n",
    "\n",
    "In essence you will notice that we create a pandas dataframe containing all images and all masks (i.e  do *not* use the option to remove any) and add the synthetic images+masks.\n",
    "\n",
    "(It is based on a csv file named maya_analysis.csv which contains a pixel count for each mask. But we do not use that information, as it turned out to be not helping the training if we use Focal Loss as loss function.)"
   ]
  },
  {
   "cell_type": "markdown",
   "metadata": {
    "id": "2LKuzRnlbiTf"
   },
   "source": [
    "First we collect our filenames. Only these with nonzero data in their mask. "
   ]
  },
  {
   "cell_type": "code",
   "execution_count": 9,
   "metadata": {
    "colab": {
     "base_uri": "https://localhost:8080/",
     "height": 219
    },
    "id": "EWW19Fkl1M0W",
    "outputId": "60f15e00-5dd8-415a-bde6-af0bb08698e8"
   },
   "outputs": [
    {
     "name": "stdout",
     "output_type": "stream",
     "text": [
      "5295\n"
     ]
    },
    {
     "data": {
      "text/html": [
       "<div>\n",
       "<style scoped>\n",
       "    .dataframe tbody tr th:only-of-type {\n",
       "        vertical-align: middle;\n",
       "    }\n",
       "\n",
       "    .dataframe tbody tr th {\n",
       "        vertical-align: top;\n",
       "    }\n",
       "\n",
       "    .dataframe thead th {\n",
       "        text-align: right;\n",
       "    }\n",
       "</style>\n",
       "<table border=\"1\" class=\"dataframe\">\n",
       "  <thead>\n",
       "    <tr style=\"text-align: right;\">\n",
       "      <th></th>\n",
       "      <th>name</th>\n",
       "      <th>class</th>\n",
       "      <th>pixCount</th>\n",
       "      <th>fpath</th>\n",
       "    </tr>\n",
       "  </thead>\n",
       "  <tbody>\n",
       "    <tr>\n",
       "      <th>0</th>\n",
       "      <td>tile_0_lidar.tif</td>\n",
       "      <td>aguada</td>\n",
       "      <td>0</td>\n",
       "      <td>../Data/lidar_train/tile_0_lidar.tif</td>\n",
       "    </tr>\n",
       "    <tr>\n",
       "      <th>1</th>\n",
       "      <td>tile_0_lidar.tif</td>\n",
       "      <td>building</td>\n",
       "      <td>0</td>\n",
       "      <td>../Data/lidar_train/tile_0_lidar.tif</td>\n",
       "    </tr>\n",
       "    <tr>\n",
       "      <th>2</th>\n",
       "      <td>tile_0_lidar.tif</td>\n",
       "      <td>platform</td>\n",
       "      <td>0</td>\n",
       "      <td>../Data/lidar_train/tile_0_lidar.tif</td>\n",
       "    </tr>\n",
       "    <tr>\n",
       "      <th>3</th>\n",
       "      <td>tile_1000_lidar.tif</td>\n",
       "      <td>aguada</td>\n",
       "      <td>0</td>\n",
       "      <td>../Data/lidar_train/tile_1000_lidar.tif</td>\n",
       "    </tr>\n",
       "    <tr>\n",
       "      <th>4</th>\n",
       "      <td>tile_1000_lidar.tif</td>\n",
       "      <td>building</td>\n",
       "      <td>1466</td>\n",
       "      <td>../Data/lidar_train/tile_1000_lidar.tif</td>\n",
       "    </tr>\n",
       "  </tbody>\n",
       "</table>\n",
       "</div>"
      ],
      "text/plain": [
       "                  name     class  pixCount  \\\n",
       "0     tile_0_lidar.tif    aguada         0   \n",
       "1     tile_0_lidar.tif  building         0   \n",
       "2     tile_0_lidar.tif  platform         0   \n",
       "3  tile_1000_lidar.tif    aguada         0   \n",
       "4  tile_1000_lidar.tif  building      1466   \n",
       "\n",
       "                                     fpath  \n",
       "0     ../Data/lidar_train/tile_0_lidar.tif  \n",
       "1     ../Data/lidar_train/tile_0_lidar.tif  \n",
       "2     ../Data/lidar_train/tile_0_lidar.tif  \n",
       "3  ../Data/lidar_train/tile_1000_lidar.tif  \n",
       "4  ../Data/lidar_train/tile_1000_lidar.tif  "
      ]
     },
     "execution_count": 9,
     "metadata": {},
     "output_type": "execute_result"
    }
   ],
   "source": [
    "mymaskDF = pd.read_csv(maya_csv)\n",
    "mymaskDF['fpath'] = str(path_im) + '/' +mymaskDF['name']\n",
    "print (len(mymaskDF))\n",
    "mymaskDF.head()"
   ]
  },
  {
   "cell_type": "code",
   "execution_count": 10,
   "metadata": {
    "colab": {
     "base_uri": "https://localhost:8080/",
     "height": 202
    },
    "id": "ckdCYQQd1M2-",
    "outputId": "093b9b20-fe8b-4272-e8f5-04fab2997b09"
   },
   "outputs": [
    {
     "name": "stdout",
     "output_type": "stream",
     "text": [
      "952\n"
     ]
    },
    {
     "data": {
      "text/html": [
       "<div>\n",
       "<style scoped>\n",
       "    .dataframe tbody tr th:only-of-type {\n",
       "        vertical-align: middle;\n",
       "    }\n",
       "\n",
       "    .dataframe tbody tr th {\n",
       "        vertical-align: top;\n",
       "    }\n",
       "\n",
       "    .dataframe thead th {\n",
       "        text-align: right;\n",
       "    }\n",
       "</style>\n",
       "<table border=\"1\" class=\"dataframe\">\n",
       "  <thead>\n",
       "    <tr style=\"text-align: right;\">\n",
       "      <th></th>\n",
       "      <th>name</th>\n",
       "      <th>class</th>\n",
       "      <th>pixCount</th>\n",
       "      <th>fpath</th>\n",
       "    </tr>\n",
       "  </thead>\n",
       "  <tbody>\n",
       "    <tr>\n",
       "      <th>5</th>\n",
       "      <td>tile_1000_lidar.tif</td>\n",
       "      <td>platform</td>\n",
       "      <td>7831</td>\n",
       "      <td>../Data/lidar_train/tile_1000_lidar.tif</td>\n",
       "    </tr>\n",
       "    <tr>\n",
       "      <th>8</th>\n",
       "      <td>tile_1001_lidar.tif</td>\n",
       "      <td>platform</td>\n",
       "      <td>364</td>\n",
       "      <td>../Data/lidar_train/tile_1001_lidar.tif</td>\n",
       "    </tr>\n",
       "    <tr>\n",
       "      <th>11</th>\n",
       "      <td>tile_1002_lidar.tif</td>\n",
       "      <td>platform</td>\n",
       "      <td>304</td>\n",
       "      <td>../Data/lidar_train/tile_1002_lidar.tif</td>\n",
       "    </tr>\n",
       "    <tr>\n",
       "      <th>17</th>\n",
       "      <td>tile_1004_lidar.tif</td>\n",
       "      <td>platform</td>\n",
       "      <td>2033</td>\n",
       "      <td>../Data/lidar_train/tile_1004_lidar.tif</td>\n",
       "    </tr>\n",
       "    <tr>\n",
       "      <th>32</th>\n",
       "      <td>tile_1009_lidar.tif</td>\n",
       "      <td>platform</td>\n",
       "      <td>16073</td>\n",
       "      <td>../Data/lidar_train/tile_1009_lidar.tif</td>\n",
       "    </tr>\n",
       "  </tbody>\n",
       "</table>\n",
       "</div>"
      ],
      "text/plain": [
       "                   name     class  pixCount  \\\n",
       "5   tile_1000_lidar.tif  platform      7831   \n",
       "8   tile_1001_lidar.tif  platform       364   \n",
       "11  tile_1002_lidar.tif  platform       304   \n",
       "17  tile_1004_lidar.tif  platform      2033   \n",
       "32  tile_1009_lidar.tif  platform     16073   \n",
       "\n",
       "                                      fpath  \n",
       "5   ../Data/lidar_train/tile_1000_lidar.tif  \n",
       "8   ../Data/lidar_train/tile_1001_lidar.tif  \n",
       "11  ../Data/lidar_train/tile_1002_lidar.tif  \n",
       "17  ../Data/lidar_train/tile_1004_lidar.tif  \n",
       "32  ../Data/lidar_train/tile_1009_lidar.tif  "
      ]
     },
     "execution_count": 10,
     "metadata": {},
     "output_type": "execute_result"
    }
   ],
   "source": [
    "# get only these with nonzero pixCount of our class\n",
    "mydf = mymaskDF[(mymaskDF['class'] == myclass) & (mymaskDF['pixCount'] > 0)]\n",
    "print (len(mydf))\n",
    "mydf.head()"
   ]
  },
  {
   "cell_type": "markdown",
   "metadata": {},
   "source": [
    "#### Now we add the synthesized images"
   ]
  },
  {
   "cell_type": "code",
   "execution_count": 11,
   "metadata": {},
   "outputs": [],
   "source": [
    "import glob\n",
    "synthDF = pd.DataFrame(glob.glob(str(synth_path_im/myclass)+'/*.*'), columns = [\"name\"])\n",
    "synthDF['class'] = myclass\n",
    "synthDF['pixCount'] = -1 # dummy marker for 'generated'\n",
    "synthDF['fpath'] = synthDF['name']"
   ]
  },
  {
   "cell_type": "code",
   "execution_count": 12,
   "metadata": {},
   "outputs": [
    {
     "name": "stdout",
     "output_type": "stream",
     "text": [
      "554\n"
     ]
    },
    {
     "data": {
      "text/html": [
       "<div>\n",
       "<style scoped>\n",
       "    .dataframe tbody tr th:only-of-type {\n",
       "        vertical-align: middle;\n",
       "    }\n",
       "\n",
       "    .dataframe tbody tr th {\n",
       "        vertical-align: top;\n",
       "    }\n",
       "\n",
       "    .dataframe thead th {\n",
       "        text-align: right;\n",
       "    }\n",
       "</style>\n",
       "<table border=\"1\" class=\"dataframe\">\n",
       "  <thead>\n",
       "    <tr style=\"text-align: right;\">\n",
       "      <th></th>\n",
       "      <th>name</th>\n",
       "      <th>class</th>\n",
       "      <th>pixCount</th>\n",
       "      <th>fpath</th>\n",
       "    </tr>\n",
       "  </thead>\n",
       "  <tbody>\n",
       "    <tr>\n",
       "      <th>0</th>\n",
       "      <td>../Data/03_generated_21-05-20/images/platform/tile_1539_lidar_generated.tif</td>\n",
       "      <td>platform</td>\n",
       "      <td>-1</td>\n",
       "      <td>../Data/03_generated_21-05-20/images/platform/tile_1539_lidar_generated.tif</td>\n",
       "    </tr>\n",
       "    <tr>\n",
       "      <th>1</th>\n",
       "      <td>../Data/03_generated_21-05-20/images/platform/tile_0_lidar_generated.tif</td>\n",
       "      <td>platform</td>\n",
       "      <td>-1</td>\n",
       "      <td>../Data/03_generated_21-05-20/images/platform/tile_0_lidar_generated.tif</td>\n",
       "    </tr>\n",
       "    <tr>\n",
       "      <th>2</th>\n",
       "      <td>../Data/03_generated_21-05-20/images/platform/tile_1006_lidar_generated.tif</td>\n",
       "      <td>platform</td>\n",
       "      <td>-1</td>\n",
       "      <td>../Data/03_generated_21-05-20/images/platform/tile_1006_lidar_generated.tif</td>\n",
       "    </tr>\n",
       "    <tr>\n",
       "      <th>3</th>\n",
       "      <td>../Data/03_generated_21-05-20/images/platform/tile_1007_lidar_generated.tif</td>\n",
       "      <td>platform</td>\n",
       "      <td>-1</td>\n",
       "      <td>../Data/03_generated_21-05-20/images/platform/tile_1007_lidar_generated.tif</td>\n",
       "    </tr>\n",
       "    <tr>\n",
       "      <th>4</th>\n",
       "      <td>../Data/03_generated_21-05-20/images/platform/tile_1008_lidar_generated.tif</td>\n",
       "      <td>platform</td>\n",
       "      <td>-1</td>\n",
       "      <td>../Data/03_generated_21-05-20/images/platform/tile_1008_lidar_generated.tif</td>\n",
       "    </tr>\n",
       "  </tbody>\n",
       "</table>\n",
       "</div>"
      ],
      "text/plain": [
       "                                                                          name  \\\n",
       "0  ../Data/03_generated_21-05-20/images/platform/tile_1539_lidar_generated.tif   \n",
       "1     ../Data/03_generated_21-05-20/images/platform/tile_0_lidar_generated.tif   \n",
       "2  ../Data/03_generated_21-05-20/images/platform/tile_1006_lidar_generated.tif   \n",
       "3  ../Data/03_generated_21-05-20/images/platform/tile_1007_lidar_generated.tif   \n",
       "4  ../Data/03_generated_21-05-20/images/platform/tile_1008_lidar_generated.tif   \n",
       "\n",
       "      class  pixCount  \\\n",
       "0  platform        -1   \n",
       "1  platform        -1   \n",
       "2  platform        -1   \n",
       "3  platform        -1   \n",
       "4  platform        -1   \n",
       "\n",
       "                                                                         fpath  \n",
       "0  ../Data/03_generated_21-05-20/images/platform/tile_1539_lidar_generated.tif  \n",
       "1     ../Data/03_generated_21-05-20/images/platform/tile_0_lidar_generated.tif  \n",
       "2  ../Data/03_generated_21-05-20/images/platform/tile_1006_lidar_generated.tif  \n",
       "3  ../Data/03_generated_21-05-20/images/platform/tile_1007_lidar_generated.tif  \n",
       "4  ../Data/03_generated_21-05-20/images/platform/tile_1008_lidar_generated.tif  "
      ]
     },
     "execution_count": 12,
     "metadata": {},
     "output_type": "execute_result"
    }
   ],
   "source": [
    "print(len(synthDF))\n",
    "synthDF.head()"
   ]
  },
  {
   "cell_type": "code",
   "execution_count": 13,
   "metadata": {
    "colab": {
     "base_uri": "https://localhost:8080/",
     "height": 202
    },
    "id": "ckdCYQQd1M2-",
    "outputId": "093b9b20-fe8b-4272-e8f5-04fab2997b09"
   },
   "outputs": [
    {
     "name": "stdout",
     "output_type": "stream",
     "text": [
      "813\n"
     ]
    },
    {
     "data": {
      "text/html": [
       "<div>\n",
       "<style scoped>\n",
       "    .dataframe tbody tr th:only-of-type {\n",
       "        vertical-align: middle;\n",
       "    }\n",
       "\n",
       "    .dataframe tbody tr th {\n",
       "        vertical-align: top;\n",
       "    }\n",
       "\n",
       "    .dataframe thead th {\n",
       "        text-align: right;\n",
       "    }\n",
       "</style>\n",
       "<table border=\"1\" class=\"dataframe\">\n",
       "  <thead>\n",
       "    <tr style=\"text-align: right;\">\n",
       "      <th></th>\n",
       "      <th>name</th>\n",
       "      <th>class</th>\n",
       "      <th>pixCount</th>\n",
       "      <th>fpath</th>\n",
       "    </tr>\n",
       "  </thead>\n",
       "  <tbody>\n",
       "    <tr>\n",
       "      <th>1547</th>\n",
       "      <td>tile_1464_lidar.tif</td>\n",
       "      <td>platform</td>\n",
       "      <td>0</td>\n",
       "      <td>../Data/lidar_train/tile_1464_lidar.tif</td>\n",
       "    </tr>\n",
       "    <tr>\n",
       "      <th>3818</th>\n",
       "      <td>tile_557_lidar.tif</td>\n",
       "      <td>platform</td>\n",
       "      <td>0</td>\n",
       "      <td>../Data/lidar_train/tile_557_lidar.tif</td>\n",
       "    </tr>\n",
       "    <tr>\n",
       "      <th>1415</th>\n",
       "      <td>tile_1424_lidar.tif</td>\n",
       "      <td>platform</td>\n",
       "      <td>0</td>\n",
       "      <td>../Data/lidar_train/tile_1424_lidar.tif</td>\n",
       "    </tr>\n",
       "    <tr>\n",
       "      <th>1820</th>\n",
       "      <td>tile_1546_lidar.tif</td>\n",
       "      <td>platform</td>\n",
       "      <td>0</td>\n",
       "      <td>../Data/lidar_train/tile_1546_lidar.tif</td>\n",
       "    </tr>\n",
       "    <tr>\n",
       "      <th>3512</th>\n",
       "      <td>tile_465_lidar.tif</td>\n",
       "      <td>platform</td>\n",
       "      <td>0</td>\n",
       "      <td>../Data/lidar_train/tile_465_lidar.tif</td>\n",
       "    </tr>\n",
       "  </tbody>\n",
       "</table>\n",
       "</div>"
      ],
      "text/plain": [
       "                     name     class  pixCount  \\\n",
       "1547  tile_1464_lidar.tif  platform         0   \n",
       "3818   tile_557_lidar.tif  platform         0   \n",
       "1415  tile_1424_lidar.tif  platform         0   \n",
       "1820  tile_1546_lidar.tif  platform         0   \n",
       "3512   tile_465_lidar.tif  platform         0   \n",
       "\n",
       "                                        fpath  \n",
       "1547  ../Data/lidar_train/tile_1464_lidar.tif  \n",
       "3818   ../Data/lidar_train/tile_557_lidar.tif  \n",
       "1415  ../Data/lidar_train/tile_1424_lidar.tif  \n",
       "1820  ../Data/lidar_train/tile_1546_lidar.tif  \n",
       "3512   ../Data/lidar_train/tile_465_lidar.tif  "
      ]
     },
     "execution_count": 13,
     "metadata": {},
     "output_type": "execute_result"
    }
   ],
   "source": [
    "# get some more from the zero pixCount images\n",
    "keep = 1.  # we keep 100% so the filtering is not used as stated above :-)\n",
    "otherdf = mymaskDF[(mymaskDF['class'] == myclass) & (mymaskDF['pixCount'] == 0)].sample(frac=keep)\n",
    "print (len(otherdf))\n",
    "otherdf.head()"
   ]
  },
  {
   "cell_type": "code",
   "execution_count": 14,
   "metadata": {},
   "outputs": [
    {
     "name": "stdout",
     "output_type": "stream",
     "text": [
      "952\n"
     ]
    }
   ],
   "source": [
    "# and oversample \"good\" cases (only needed for Aguada which we oversample 6-fold)\n",
    "if (myclass == \"aguada\"):\n",
    "    mydf = mydf.sample(n=6*64, replace=True)\n",
    "print (len(mydf))"
   ]
  },
  {
   "cell_type": "code",
   "execution_count": 15,
   "metadata": {},
   "outputs": [
    {
     "name": "stdout",
     "output_type": "stream",
     "text": [
      "1765\n"
     ]
    }
   ],
   "source": [
    "### MERGE HERE\n",
    "mydf = mydf.append(otherdf, ignore_index=True, sort=False)\n",
    "print (len(mydf))"
   ]
  },
  {
   "cell_type": "code",
   "execution_count": 16,
   "metadata": {},
   "outputs": [
    {
     "name": "stdout",
     "output_type": "stream",
     "text": [
      "2319\n"
     ]
    }
   ],
   "source": [
    "# now add the synthesized images, too\n",
    "mydf = mydf.append(synthDF, ignore_index=True, sort=False)\n",
    "print (len(mydf))"
   ]
  },
  {
   "cell_type": "code",
   "execution_count": 17,
   "metadata": {
    "colab": {
     "base_uri": "https://localhost:8080/"
    },
    "id": "tsjrlWPIbiTf",
    "outputId": "db3cda1d-e591-48f3-c078-2033cc51a0a4"
   },
   "outputs": [
    {
     "data": {
      "text/plain": [
       "2319"
      ]
     },
     "execution_count": 17,
     "metadata": {},
     "output_type": "execute_result"
    }
   ],
   "source": [
    "#fnames = [path_im/f for f in mydf['name']]\n",
    "fnames = [Path(f) for f in mydf['fpath']]\n",
    "len(fnames)"
   ]
  },
  {
   "cell_type": "markdown",
   "metadata": {
    "id": "psMIjyZMbiTf"
   },
   "source": [
    "And now let's look at the data:"
   ]
  },
  {
   "cell_type": "code",
   "execution_count": 18,
   "metadata": {
    "colab": {
     "base_uri": "https://localhost:8080/",
     "height": 321
    },
    "id": "jQusOUXdbiTf",
    "outputId": "0ea6038b-bb1a-451f-9a37-43275af0d39d"
   },
   "outputs": [
    {
     "data": {
      "text/plain": [
       "<AxesSubplot:>"
      ]
     },
     "execution_count": 18,
     "metadata": {},
     "output_type": "execute_result"
    },
    {
     "data": {
      "image/png": "[encoded data removed]",
      "text/plain": [
       "<Figure size 360x360 with 1 Axes>"
      ]
     },
     "metadata": {
      "needs_background": "light"
     },
     "output_type": "display_data"
    }
   ],
   "source": [
    "# tile 44 contains all three classes\n",
    "img_fn = Path(root_dir/'lidar_train/tile_44_lidar.tif')\n",
    "img = PILImage.create(img_fn)\n",
    "img.show(figsize=(5,5))"
   ]
  },
  {
   "cell_type": "markdown",
   "metadata": {
    "id": "xONifkjobiTg"
   },
   "source": [
    "**Now** let's grab our y's. They live in the `train_masks` folder and follow this naming pattern:"
   ]
  },
  {
   "cell_type": "markdown",
   "metadata": {
    "id": "KT7-Nqk-iEM9"
   },
   "source": [
    "tile_(n)\\_lidar.tif\n",
    "\n",
    "tile_(n)\\_mask_aguada.tif"
   ]
  },
  {
   "cell_type": "code",
   "execution_count": 19,
   "metadata": {
    "id": "bAwQl3uNnzZv"
   },
   "outputs": [],
   "source": [
    "def get_msk(fn):\n",
    "    # modify for synthetic images\n",
    "    if str(fn)[-5] == \"d\": # as in \"generateD\", this is clumsy but we are short of time...!\n",
    "        return synth_path_lbl/fn.name.replace(\"lidar\", mymask)\n",
    "    else :\n",
    "        return path_lbl/fn.name.replace(\"lidar\", mymask)"
   ]
  },
  {
   "cell_type": "code",
   "execution_count": 20,
   "metadata": {},
   "outputs": [
    {
     "name": "stdout",
     "output_type": "stream",
     "text": [
      "../Data/lidar_train/tile_1000_lidar.tif\n"
     ]
    },
    {
     "data": {
      "text/plain": [
       "Path('../Data/train_masks_normalized/tile_1000_mask_platform.tif')"
      ]
     },
     "execution_count": 20,
     "metadata": {},
     "output_type": "execute_result"
    }
   ],
   "source": [
    "# test mask path for \"normal\" images\n",
    "print(fnames[0])\n",
    "get_msk(fnames[0])"
   ]
  },
  {
   "cell_type": "code",
   "execution_count": 21,
   "metadata": {},
   "outputs": [
    {
     "name": "stdout",
     "output_type": "stream",
     "text": [
      "../Data/03_generated_21-05-20/images/platform/tile_1539_lidar_generated.tif\n"
     ]
    },
    {
     "data": {
      "text/plain": [
       "Path('../Data/03_generated_21-05-20/normalized_masks/tile_1539_mask_platform_generated.tif')"
      ]
     },
     "execution_count": 21,
     "metadata": {},
     "output_type": "execute_result"
    }
   ],
   "source": [
    "# test mask path for synthetic images\n",
    "print(synthDF['fpath'][0])\n",
    "get_msk(Path(synthDF['fpath'][0]))"
   ]
  },
  {
   "cell_type": "markdown",
   "metadata": {
    "id": "5whYfdwNbiTg"
   },
   "source": [
    "Our masks are of type `PILMask` and we will make our gradient percentage (alpha) equal to 1 as we are not overlaying this on anything yet"
   ]
  },
  {
   "cell_type": "code",
   "execution_count": 22,
   "metadata": {
    "colab": {
     "base_uri": "https://localhost:8080/",
     "height": 321
    },
    "id": "eQtQv65-biTg",
    "outputId": "06aace81-37b1-4f6f-f894-818c02a8d879"
   },
   "outputs": [
    {
     "data": {
      "text/plain": [
       "<AxesSubplot:>"
      ]
     },
     "execution_count": 22,
     "metadata": {},
     "output_type": "execute_result"
    },
    {
     "data": {
      "image/png": "[encoded data removed]",
      "text/plain": [
       "<Figure size 360x360 with 1 Axes>"
      ]
     },
     "metadata": {
      "needs_background": "light"
     },
     "output_type": "display_data"
    }
   ],
   "source": [
    "msk = PILMask.create(get_msk(img_fn))\n",
    "msk.show(figsize=(5,5), alpha=1)"
   ]
  },
  {
   "cell_type": "markdown",
   "metadata": {
    "id": "Z2u0BHpHNw02"
   },
   "source": [
    "We normalized the masks in advance for easier processing with fast.ai: They now contain only 0 (background) and 1 (class):"
   ]
  },
  {
   "cell_type": "code",
   "execution_count": 23,
   "metadata": {
    "colab": {
     "base_uri": "https://localhost:8080/"
    },
    "id": "K1HbvqRtbiTh",
    "outputId": "86d274bc-54fa-4eb4-f4b2-413e588a8cab"
   },
   "outputs": [
    {
     "data": {
      "text/plain": [
       "array([0, 1], dtype=uint8)"
      ]
     },
     "execution_count": 23,
     "metadata": {},
     "output_type": "execute_result"
    }
   ],
   "source": [
    "np.unique(tensor(msk))"
   ]
  },
  {
   "cell_type": "markdown",
   "metadata": {
    "id": "VzTFtui4biTh"
   },
   "source": [
    "Here we name them:"
   ]
  },
  {
   "cell_type": "code",
   "execution_count": 24,
   "metadata": {
    "colab": {
     "base_uri": "https://localhost:8080/"
    },
    "id": "14kXne1cqWpL",
    "outputId": "cf611080-d105-43d9-82e5-9cb4bcdddf17"
   },
   "outputs": [
    {
     "data": {
      "text/plain": [
       "array(['background', 'mask_platform'], dtype='<U13')"
      ]
     },
     "execution_count": 24,
     "metadata": {},
     "output_type": "execute_result"
    }
   ],
   "source": [
    "codes = np.array(['background', mymask])\n",
    "codes"
   ]
  },
  {
   "cell_type": "markdown",
   "metadata": {
    "id": "Am5DDIRcbiTi"
   },
   "source": [
    "### Progressive resizing"
   ]
  },
  {
   "cell_type": "markdown",
   "metadata": {
    "id": "l1sKT3NGbiTi"
   },
   "source": [
    "This first round we will train at half the image size"
   ]
  },
  {
   "cell_type": "code",
   "execution_count": 25,
   "metadata": {
    "colab": {
     "base_uri": "https://localhost:8080/"
    },
    "id": "SkEPmMXubiTi",
    "outputId": "363f209f-7d5f-4aac-ede8-2b676db400f6"
   },
   "outputs": [
    {
     "data": {
      "text/plain": [
       "(480, 480)"
      ]
     },
     "execution_count": 25,
     "metadata": {},
     "output_type": "execute_result"
    }
   ],
   "source": [
    "sz = msk.shape; sz"
   ]
  },
  {
   "cell_type": "code",
   "execution_count": 26,
   "metadata": {
    "colab": {
     "base_uri": "https://localhost:8080/"
    },
    "id": "Lb5C4eo1biTj",
    "outputId": "80e08fdf-a115-4c3f-8035-ce0f787b19bd"
   },
   "outputs": [
    {
     "data": {
      "text/plain": [
       "(240, 240)"
      ]
     },
     "execution_count": 26,
     "metadata": {},
     "output_type": "execute_result"
    }
   ],
   "source": [
    "half = tuple(int(x/2) for x in sz); half"
   ]
  },
  {
   "cell_type": "code",
   "execution_count": 27,
   "metadata": {
    "id": "38rXXQiV47gg"
   },
   "outputs": [
    {
     "data": {
      "text/plain": [
       "12"
      ]
     },
     "execution_count": 27,
     "metadata": {},
     "output_type": "execute_result"
    }
   ],
   "source": [
    "# batch size\n",
    "bs = 20\n",
    "\n",
    "if myclass == \"platform\": bs = 12\n",
    "if myclass == 'building': bs = 8\n",
    "\n",
    "if JARVIS:\n",
    "    if myclass == 'aguada': bs = 80\n",
    "    elif myclass == 'building': bs = 120\n",
    "    else :                      bs = 100 # platform\n",
    "\n",
    "bs"
   ]
  },
  {
   "cell_type": "markdown",
   "metadata": {},
   "source": [
    "Here come the augmentation transforms:"
   ]
  },
  {
   "cell_type": "code",
   "execution_count": 28,
   "metadata": {},
   "outputs": [],
   "source": [
    "def my_transforms(imgsize):\n",
    "    item_tfms = [Resize(ingsize)]\n",
    "    batch_tfms = [Dihedral(),Brightness(0.1,p=0.25), Zoom(max_zoom=1.1,p=0.25),\n",
    "                  Normalize.from_stats(*imagenet_stats)\n",
    "                 ]\n",
    "    return item_tfms, batch_tfms\n",
    "\n",
    "if myclass == 'platform': # this worked better for platform for unknown reason.\n",
    "    def my_transforms(imgsize):\n",
    "        item_tfms = None\n",
    "        batch_tfms = [Resize(imgsize), Dihedral(),Brightness(0.1,p=0.25), Zoom(max_zoom=1.1,p=0.25),\n",
    "                      Normalize.from_stats(*imagenet_stats)\n",
    "                     ]\n",
    "        return item_tfms, batch_tfms"
   ]
  },
  {
   "cell_type": "code",
   "execution_count": 29,
   "metadata": {},
   "outputs": [],
   "source": [
    "# shuffle dataframe, just in case!\n",
    "mydf = mydf.sample(frac=1).reset_index(drop=True)"
   ]
  },
  {
   "cell_type": "code",
   "execution_count": 30,
   "metadata": {},
   "outputs": [],
   "source": [
    "# mask retrieval function for dataframe rows, same as above but works with the dataframe\n",
    "def get_msk(row):\n",
    "    fn = Path(row[\"fpath\"])\n",
    "    # modify for synthetic images\n",
    "    if str(fn)[-5] == \"d\": # as in \"generateD\", this is so ugly!!\n",
    "        return synth_path_lbl/fn.name.replace(\"lidar\", mymask)\n",
    "    else :\n",
    "        return path_lbl/fn.name.replace(\"lidar\", mymask)"
   ]
  },
  {
   "cell_type": "code",
   "execution_count": 31,
   "metadata": {},
   "outputs": [],
   "source": [
    "# function for retrieving a dataloaders object for a 'fold'\n",
    "def get_data(mydf, fold, n_splits, codes, bs, item_tfms, batch_tfms):\n",
    "    length = int(len(mydf)/n_splits)\n",
    "    start = fold*length\n",
    "    \n",
    "    mydf['is_valid'] = False\n",
    "    mydf.loc[start:start+length,'is_valid'] = True\n",
    "    # the datablock   \n",
    "    dblock = DataBlock(blocks=(ImageBlock, MaskBlock(codes=codes)),\n",
    "                   #splitter=RandomSplitter(valid_pct=0.2),\n",
    "                   splitter=ColSplitter(), #!!! is_valid is in valid_ds\n",
    "                   get_x=ColReader('fpath'),\n",
    "                   get_y=get_msk, item_tfms=item_tfms, batch_tfms=batch_tfms)\n",
    "    # the dataloaders\n",
    "    dls = dblock.dataloaders(mydf, path='', bs=bs)\n",
    "    return dls"
   ]
  },
  {
   "cell_type": "markdown",
   "metadata": {},
   "source": [
    "## Model: HRnet or DeeplabV3+ with ResNet101"
   ]
  },
  {
   "cell_type": "code",
   "execution_count": 32,
   "metadata": {
    "id": "ZL51P2BMbiTm"
   },
   "outputs": [],
   "source": [
    "# optimizer: we use Ranger instead of Adam\n",
    "opt = ranger"
   ]
  },
  {
   "cell_type": "code",
   "execution_count": 33,
   "metadata": {
    "id": "GEZYPzZzJ-eN"
   },
   "outputs": [],
   "source": [
    "# we were asked for IoU as metric, which is the same as Jaccard. Besides we track Dice, but do not use it.\n",
    "metrics = [Dice(), JaccardCoeff()]"
   ]
  },
  {
   "cell_type": "markdown",
   "metadata": {
    "id": "Xwq8i7D5Nw06"
   },
   "source": [
    "### Class imbalance"
   ]
  },
  {
   "cell_type": "markdown",
   "metadata": {
    "id": "DYcyRweJNw06"
   },
   "source": [
    "The Maya dataset is heavily imbalanced with only some  0.4 % of all pixels containing mask data (\"1\"). We use Focal Loss to overcome the class imbalance:"
   ]
  },
  {
   "cell_type": "code",
   "execution_count": 34,
   "metadata": {},
   "outputs": [],
   "source": [
    "myloss_func=FocalLossFlat(axis=1)"
   ]
  },
  {
   "cell_type": "code",
   "execution_count": 35,
   "metadata": {},
   "outputs": [],
   "source": [
    "def segmentron_splitter(model):\n",
    "    return [params(model.backbone), params(model.head)]"
   ]
  },
  {
   "cell_type": "code",
   "execution_count": 36,
   "metadata": {},
   "outputs": [
    {
     "data": {
      "text/plain": [
       "('hrnet', 'hrnet_w30')"
      ]
     },
     "execution_count": 36,
     "metadata": {},
     "output_type": "execute_result"
    }
   ],
   "source": [
    "# architecture and backbone\n",
    "arch=\"hrnet\";backbone=\"hrnet_w30\"\n",
    "    \n",
    "arch, backbone"
   ]
  },
  {
   "cell_type": "code",
   "execution_count": 37,
   "metadata": {},
   "outputs": [],
   "source": [
    "# This is an implementation of Cutmix data augmentation (https://arxiv.org/abs/1905.04899)\n",
    "# Taken from here (and modified): https://forums.fast.ai/t/implementing-cutmix-in-fastaiv2/67350/16\n",
    "\n",
    "from torch.distributions.beta import Beta\n",
    "\n",
    "class CutMix(Callback):\n",
    "    run_after,run_valid = [Normalize],False\n",
    "    def __init__(self, alpha=1.): self.distrib = Beta(tensor(alpha), tensor(alpha))\n",
    "    def begin_fit(self):\n",
    "        self.stack_y = getattr(self.learn.loss_func, 'y_int', False)\n",
    "        if self.stack_y: self.old_lf,self.learn.loss_func = self.learn.loss_func,self.lf\n",
    "\n",
    "    def after_fit(self):\n",
    "        if self.stack_y: self.learn.loss_func = self.old_lf\n",
    "\n",
    "    def begin_batch(self):\n",
    "        W, H = self.xb[0].size(3), self.xb[0].size(2)\n",
    "        \n",
    "        lam = self.distrib.sample((self.y.size(0),)).squeeze().to(self.x.device)\n",
    "        lam = torch.stack([lam, 1-lam], 1)\n",
    "        self.lam = lam.max(1)[0]\n",
    "        shuffle = torch.randperm(self.y.size(0)).to(self.x.device)\n",
    "        xb1,self.yb1 = tuple(L(self.xb).itemgot(shuffle)),tuple(L(self.yb).itemgot(shuffle))\n",
    "        nx_dims = len(self.x.size())\n",
    "\n",
    "        rx = (self.distrib.sample((64,))*W).type(torch.long).to(self.x.device)\n",
    "        ry = (self.distrib.sample((64,))*H).type(torch.long).to(self.x.device)\n",
    "        rw = (torch.sqrt(1-self.lam)*W).to(self.x.device)\n",
    "        rh = (torch.sqrt(1-self.lam)*H).to(self.x.device)\n",
    "\n",
    "        x1 = torch.round(torch.clamp(rx-rw//2, min=0, max=W)).to(self.x.device).type(torch.long)\n",
    "        x2 = torch.round(torch.clamp(rx+rw//2, min=0, max=W)).to(self.x.device).type(torch.long)\n",
    "        y1 = torch.round(torch.clamp(ry-rh//2, min=0, max=H)).to(self.x.device).type(torch.long)\n",
    "        y2 = torch.round(torch.clamp(ry+rh//2, min=0, max=H)).to(self.x.device).type(torch.long)\n",
    "        \n",
    "        for i in range(len(x1)):\n",
    "            self.learn.xb[0][i, :, x1[i]:x2[i], y1[i]:y2[i]] = xb1[0][i, :, x1[i]:x2[i], y1[i]:y2[i]]\n",
    "        \n",
    "        self.lam = (1 - ((x2-x1)*(y2-y1))/(W*H)).type(torch.float)\n",
    "        \n",
    "        if not self.stack_y:\n",
    "            ny_dims = len(self.y.size())\n",
    "            self.learn.yb = tuple(L(self.yb1,self.yb).map_zip(torch.lerp,weight=unsqueeze(self.lam, n=ny_dims-1)))\n",
    "\n",
    "    def lf(self, pred, *yb):\n",
    "        if not self.training: return self.old_lf(pred, *yb)\n",
    "        with NoneReduce(self.old_lf) as lf:\n",
    "            loss = torch.lerp(lf(pred,*self.yb1), lf(pred,*yb), self.lam)\n",
    "        return reduce_loss(loss, getattr(self.old_lf, 'reduction', 'mean'))\n"
   ]
  },
  {
   "cell_type": "code",
   "execution_count": 38,
   "metadata": {},
   "outputs": [],
   "source": [
    "# these callbacks are used during training. The first three monitor training progress, Cutmix is for augmentation.\n",
    "callbacks = [SaveModelCallback(monitor='jaccard_coeff'), \n",
    "             EarlyStoppingCallback(monitor='jaccard_coeff', patience=8),\n",
    "             ReduceLROnPlateau(monitor='jaccard_coeff'),\n",
    "             #CutMix()\n",
    "            ]\n",
    "\n",
    "## we do not use CutMix for Platforms, as it did not perform well."
   ]
  },
  {
   "cell_type": "code",
   "execution_count": 39,
   "metadata": {},
   "outputs": [],
   "source": [
    "# we use the flat cosine annealing training loop along with fastai's default fine_tune(), so we create\n",
    "# our own fine_tune_flat(), modelled after Zachary Mueller's notebook from here: \n",
    "# https://www.kaggle.com/muellerzr/cassava-fastai-starter\n",
    "\n",
    "@patch\n",
    "def fine_tune_flat(self:Learner, epochs, base_lr=4e-3, freeze_epochs=1, lr_mult=100, pct_start=0.75, \n",
    "                   first_callbacks = [], second_callbacks = [], tofp32=False,**kwargs):\n",
    "    \"Fine-tune applied to `fit_flat_cos`\"\n",
    "    self.freeze()\n",
    "    try:\n",
    "        self.fit_flat_cos(freeze_epochs, slice(base_lr), pct_start=0.99, cbs=first_callbacks, **kwargs)\n",
    "    except: print (\"---1 except---\")\n",
    "    gc.collect();torch.cuda.empty_cache()\n",
    "    base_lr /= 2\n",
    "    self.unfreeze()\n",
    "    if tofp32: self.to_fp32() # set to 32 bit\n",
    "    try:\n",
    "        self.fit_flat_cos(epochs, slice(base_lr/lr_mult, base_lr), pct_start=pct_start, cbs=second_callbacks)\n",
    "    except: print (\"---2 except---\")\n",
    "    gc.collect();torch.cuda.empty_cache()"
   ]
  },
  {
   "cell_type": "markdown",
   "metadata": {},
   "source": [
    "we have two training cycles, one with half size images, one with full size images:"
   ]
  },
  {
   "cell_type": "markdown",
   "metadata": {
    "id": "2qf2Gr-INw08"
   },
   "source": [
    "## half size training cycle"
   ]
  },
  {
   "cell_type": "markdown",
   "metadata": {},
   "source": [
    "k-fold loop:"
   ]
  },
  {
   "cell_type": "code",
   "execution_count": 40,
   "metadata": {},
   "outputs": [],
   "source": [
    "n_folds = 5"
   ]
  },
  {
   "cell_type": "code",
   "execution_count": 41,
   "metadata": {},
   "outputs": [
    {
     "name": "stdout",
     "output_type": "stream",
     "text": [
      "---- 0\n"
     ]
    },
    {
     "name": "stderr",
     "output_type": "stream",
     "text": [
      "/home/ju/miniconda3/envs/fastai/lib/python3.7/site-packages/torch/_tensor.py:575: UserWarning: floor_divide is deprecated, and will be removed in a future version of pytorch. It currently rounds toward 0 (like the 'trunc' function NOT 'floor'). This results in incorrect rounding for negative values.\n",
      "To keep the current behavior, use torch.div(a, b, rounding_mode='trunc'), or for actual floor division, use torch.div(a, b, rounding_mode='floor'). (Triggered internally at  /pytorch/aten/src/ATen/native/BinaryOps.cpp:467.)\n",
      "  return torch.floor_divide(self, other)\n"
     ]
    },
    {
     "data": {
      "text/html": [
       "\n",
       "    <div>\n",
       "        <style>\n",
       "            /* Turns off some styling */\n",
       "            progress {\n",
       "                /* gets rid of default border in Firefox and Opera. */\n",
       "                border: none;\n",
       "                /* Needs to be in here for Safari polyfill so background images work as expected. */\n",
       "                background-size: auto;\n",
       "            }\n",
       "            .progress-bar-interrupted, .progress-bar-interrupted::-webkit-progress-bar {\n",
       "                background: #F44336;\n",
       "            }\n",
       "        </style>\n",
       "      <progress value='0' class='' max='8' style='width:300px; height:20px; vertical-align: middle;'></progress>\n",
       "      0.00% [0/8 00:00<00:00]\n",
       "    </div>\n",
       "    \n",
       "<table border=\"1\" class=\"dataframe\">\n",
       "  <thead>\n",
       "    <tr style=\"text-align: left;\">\n",
       "      <th>epoch</th>\n",
       "      <th>train_loss</th>\n",
       "      <th>valid_loss</th>\n",
       "      <th>dice</th>\n",
       "      <th>jaccard_coeff</th>\n",
       "      <th>time</th>\n",
       "    </tr>\n",
       "  </thead>\n",
       "  <tbody>\n",
       "  </tbody>\n",
       "</table><p>\n",
       "\n",
       "    <div>\n",
       "        <style>\n",
       "            /* Turns off some styling */\n",
       "            progress {\n",
       "                /* gets rid of default border in Firefox and Opera. */\n",
       "                border: none;\n",
       "                /* Needs to be in here for Safari polyfill so background images work as expected. */\n",
       "                background-size: auto;\n",
       "            }\n",
       "            .progress-bar-interrupted, .progress-bar-interrupted::-webkit-progress-bar {\n",
       "                background: #F44336;\n",
       "            }\n",
       "        </style>\n",
       "      <progress value='0' class='' max='154' style='width:300px; height:20px; vertical-align: middle;'></progress>\n",
       "      0.00% [0/154 00:00<00:00]\n",
       "    </div>\n",
       "    "
      ],
      "text/plain": [
       "<IPython.core.display.HTML object>"
      ]
     },
     "metadata": {},
     "output_type": "display_data"
    },
    {
     "name": "stderr",
     "output_type": "stream",
     "text": [
      "/home/ju/miniconda3/envs/fastai/lib/python3.7/site-packages/torch/nn/functional.py:3613: UserWarning: Default upsampling behavior when mode=bilinear is changed to align_corners=False since 0.4.0. Please specify align_corners=True if the old behavior is desired. See the documentation of nn.Upsample for details.\n",
      "  \"See the documentation of nn.Upsample for details.\".format(mode)\n"
     ]
    },
    {
     "name": "stdout",
     "output_type": "stream",
     "text": [
      "---1 except---\n"
     ]
    },
    {
     "data": {
      "text/html": [
       "<table border=\"1\" class=\"dataframe\">\n",
       "  <thead>\n",
       "    <tr style=\"text-align: left;\">\n",
       "      <th>epoch</th>\n",
       "      <th>train_loss</th>\n",
       "      <th>valid_loss</th>\n",
       "      <th>dice</th>\n",
       "      <th>jaccard_coeff</th>\n",
       "      <th>time</th>\n",
       "    </tr>\n",
       "  </thead>\n",
       "  <tbody>\n",
       "  </tbody>\n",
       "</table>"
      ],
      "text/plain": [
       "<IPython.core.display.HTML object>"
      ]
     },
     "metadata": {},
     "output_type": "display_data"
    },
    {
     "name": "stdout",
     "output_type": "stream",
     "text": [
      "---2 except---\n",
      "--- fold complete # 0\n"
     ]
    },
    {
     "name": "stderr",
     "output_type": "stream",
     "text": [
      "/home/ju/miniconda3/envs/fastai/lib/python3.7/site-packages/torch/nn/functional.py:3613: UserWarning: Default upsampling behavior when mode=bilinear is changed to align_corners=False since 0.4.0. Please specify align_corners=True if the old behavior is desired. See the documentation of nn.Upsample for details.\n",
      "  \"See the documentation of nn.Upsample for details.\".format(mode)\n"
     ]
    },
    {
     "name": "stdout",
     "output_type": "stream",
     "text": [
      "[0.15310117602348328, 0.017175989684963644, 0.008662387380630254]\n",
      "-----------------\n",
      "---- 1\n"
     ]
    },
    {
     "ename": "KeyboardInterrupt",
     "evalue": "",
     "output_type": "error",
     "traceback": [
      "\u001b[0;31m---------------------------------------------------------------------------\u001b[0m",
      "\u001b[0;31mKeyboardInterrupt\u001b[0m                         Traceback (most recent call last)",
      "\u001b[0;32m<ipython-input-41-1d38352d8907>\u001b[0m in \u001b[0;36m<module>\u001b[0;34m\u001b[0m\n\u001b[1;32m     11\u001b[0m                                  \u001b[0msplitter\u001b[0m\u001b[0;34m=\u001b[0m\u001b[0msegmentron_splitter\u001b[0m\u001b[0;34m,\u001b[0m\u001b[0;34m\u001b[0m\u001b[0;34m\u001b[0m\u001b[0m\n\u001b[1;32m     12\u001b[0m                                  \u001b[0mopt_func\u001b[0m\u001b[0;34m=\u001b[0m\u001b[0mopt\u001b[0m\u001b[0;34m,\u001b[0m\u001b[0;34m\u001b[0m\u001b[0;34m\u001b[0m\u001b[0m\n\u001b[0;32m---> 13\u001b[0;31m                                  loss_func=myloss_func).to_fp16() # we use fp16 training\n\u001b[0m\u001b[1;32m     14\u001b[0m \u001b[0;34m\u001b[0m\u001b[0m\n\u001b[1;32m     15\u001b[0m     \u001b[0;31m#set hyperparameters. This should be moved out of the loop :-)\u001b[0m\u001b[0;34m\u001b[0m\u001b[0;34m\u001b[0m\u001b[0;34m\u001b[0m\u001b[0m\n",
      "\u001b[0;32m~/miniconda3/envs/fastai/lib/python3.7/site-packages/semtorch/learner.py\u001b[0m in \u001b[0;36mget_segmentation_learner\u001b[0;34m(dls, number_classes, segmentation_type, architecture_name, backbone_name, loss_func, opt_func, lr, splitter, cbs, pretrained, normalize, image_size, metrics, path, model_dir, wd, wd_bn_bias, train_bn, moms)\u001b[0m\n\u001b[1;32m    146\u001b[0m     \u001b[0;32melif\u001b[0m \u001b[0marchitecture_name\u001b[0m \u001b[0;34m==\u001b[0m \u001b[0;34m\"hrnet\"\u001b[0m\u001b[0;34m:\u001b[0m\u001b[0;34m\u001b[0m\u001b[0;34m\u001b[0m\u001b[0m\n\u001b[1;32m    147\u001b[0m \u001b[0;34m\u001b[0m\u001b[0m\n\u001b[0;32m--> 148\u001b[0;31m         \u001b[0mmodel\u001b[0m \u001b[0;34m=\u001b[0m \u001b[0mHRNet\u001b[0m\u001b[0;34m(\u001b[0m\u001b[0mnclass\u001b[0m\u001b[0;34m=\u001b[0m\u001b[0mnumber_classes\u001b[0m\u001b[0;34m,\u001b[0m \u001b[0mbackbone_name\u001b[0m\u001b[0;34m=\u001b[0m\u001b[0mbackbone_name\u001b[0m\u001b[0;34m,\u001b[0m \u001b[0mpretrained\u001b[0m\u001b[0;34m=\u001b[0m\u001b[0mpretrained\u001b[0m\u001b[0;34m)\u001b[0m\u001b[0;34m\u001b[0m\u001b[0;34m\u001b[0m\u001b[0m\n\u001b[0m\u001b[1;32m    149\u001b[0m         learner = Learner(dls=dls, model=model, loss_func=loss_func, opt_func=opt_func, lr=lr, splitter=splitter, cbs=cbs,\n\u001b[1;32m    150\u001b[0m                           metrics=metrics, path=path, model_dir=model_dir, wd=wd, wd_bn_bias=wd_bn_bias, train_bn=train_bn)\n",
      "\u001b[0;32m~/miniconda3/envs/fastai/lib/python3.7/site-packages/semtorch/models/archs/hrnet_seg.py\u001b[0m in \u001b[0;36m__init__\u001b[0;34m(self, backbone_name, nclass, pretrained)\u001b[0m\n\u001b[1;32m     56\u001b[0m         \u001b[0mself\u001b[0m\u001b[0;34m.\u001b[0m\u001b[0mbackbone_name\u001b[0m \u001b[0;34m=\u001b[0m \u001b[0mbackbone_name\u001b[0m\u001b[0;34m\u001b[0m\u001b[0;34m\u001b[0m\u001b[0m\n\u001b[1;32m     57\u001b[0m         \u001b[0mself\u001b[0m\u001b[0;34m.\u001b[0m\u001b[0mnclass\u001b[0m \u001b[0;34m=\u001b[0m \u001b[0mnclass\u001b[0m\u001b[0;34m\u001b[0m\u001b[0;34m\u001b[0m\u001b[0m\n\u001b[0;32m---> 58\u001b[0;31m         \u001b[0msuper\u001b[0m\u001b[0;34m(\u001b[0m\u001b[0mHRNet\u001b[0m\u001b[0;34m,\u001b[0m \u001b[0mself\u001b[0m\u001b[0;34m)\u001b[0m\u001b[0;34m.\u001b[0m\u001b[0m__init__\u001b[0m\u001b[0;34m(\u001b[0m\u001b[0mbackbone_name\u001b[0m\u001b[0;34m=\u001b[0m\u001b[0mself\u001b[0m\u001b[0;34m.\u001b[0m\u001b[0mbackbone_name\u001b[0m\u001b[0;34m,\u001b[0m \u001b[0mnclass\u001b[0m\u001b[0;34m=\u001b[0m\u001b[0mself\u001b[0m\u001b[0;34m.\u001b[0m\u001b[0mnclass\u001b[0m\u001b[0;34m,\u001b[0m \u001b[0mpretrained\u001b[0m\u001b[0;34m=\u001b[0m\u001b[0mpretrained\u001b[0m\u001b[0;34m)\u001b[0m\u001b[0;34m\u001b[0m\u001b[0;34m\u001b[0m\u001b[0m\n\u001b[0m\u001b[1;32m     59\u001b[0m \u001b[0;34m\u001b[0m\u001b[0m\n\u001b[1;32m     60\u001b[0m         self.head = nn.Sequential(\n",
      "\u001b[0;32m~/miniconda3/envs/fastai/lib/python3.7/site-packages/semtorch/models/archs/segbase.py\u001b[0m in \u001b[0;36m__init__\u001b[0;34m(self, pretrained, backbone_name, nclass, norm_layer)\u001b[0m\n\u001b[1;32m     23\u001b[0m         \u001b[0mself\u001b[0m\u001b[0;34m.\u001b[0m\u001b[0mbackbone\u001b[0m \u001b[0;34m=\u001b[0m \u001b[0mbackbone_name\u001b[0m\u001b[0;34m\u001b[0m\u001b[0;34m\u001b[0m\u001b[0m\n\u001b[1;32m     24\u001b[0m         \u001b[0;32mif\u001b[0m \u001b[0mpretrained\u001b[0m\u001b[0;34m:\u001b[0m\u001b[0;34m\u001b[0m\u001b[0;34m\u001b[0m\u001b[0m\n\u001b[0;32m---> 25\u001b[0;31m             \u001b[0mself\u001b[0m\u001b[0;34m.\u001b[0m\u001b[0mget_backbone\u001b[0m\u001b[0;34m(\u001b[0m\u001b[0;34m)\u001b[0m\u001b[0;34m\u001b[0m\u001b[0;34m\u001b[0m\u001b[0m\n\u001b[0m\u001b[1;32m     26\u001b[0m \u001b[0;34m\u001b[0m\u001b[0m\n\u001b[1;32m     27\u001b[0m     \u001b[0;32mdef\u001b[0m \u001b[0mget_backbone\u001b[0m\u001b[0;34m(\u001b[0m\u001b[0mself\u001b[0m\u001b[0;34m)\u001b[0m\u001b[0;34m:\u001b[0m\u001b[0;34m\u001b[0m\u001b[0;34m\u001b[0m\u001b[0m\n",
      "\u001b[0;32m~/miniconda3/envs/fastai/lib/python3.7/site-packages/semtorch/models/archs/segbase.py\u001b[0m in \u001b[0;36mget_backbone\u001b[0;34m(self)\u001b[0m\n\u001b[1;32m     26\u001b[0m \u001b[0;34m\u001b[0m\u001b[0m\n\u001b[1;32m     27\u001b[0m     \u001b[0;32mdef\u001b[0m \u001b[0mget_backbone\u001b[0m\u001b[0;34m(\u001b[0m\u001b[0mself\u001b[0m\u001b[0;34m)\u001b[0m\u001b[0;34m:\u001b[0m\u001b[0;34m\u001b[0m\u001b[0;34m\u001b[0m\u001b[0m\n\u001b[0;32m---> 28\u001b[0;31m         \u001b[0mself\u001b[0m\u001b[0;34m.\u001b[0m\u001b[0mbackbone\u001b[0m \u001b[0;34m=\u001b[0m \u001b[0mget_segmentation_backbone\u001b[0m\u001b[0;34m(\u001b[0m\u001b[0mself\u001b[0m\u001b[0;34m.\u001b[0m\u001b[0mbackbone\u001b[0m\u001b[0;34m,\u001b[0m \u001b[0mself\u001b[0m\u001b[0;34m.\u001b[0m\u001b[0mnorm_layer\u001b[0m\u001b[0;34m)\u001b[0m\u001b[0;34m\u001b[0m\u001b[0;34m\u001b[0m\u001b[0m\n\u001b[0m\u001b[1;32m     29\u001b[0m \u001b[0;34m\u001b[0m\u001b[0m\n\u001b[1;32m     30\u001b[0m     \u001b[0;32mdef\u001b[0m \u001b[0mbase_forward\u001b[0m\u001b[0;34m(\u001b[0m\u001b[0mself\u001b[0m\u001b[0;34m,\u001b[0m \u001b[0mx\u001b[0m\u001b[0;34m)\u001b[0m\u001b[0;34m:\u001b[0m\u001b[0;34m\u001b[0m\u001b[0;34m\u001b[0m\u001b[0m\n",
      "\u001b[0;32m~/miniconda3/envs/fastai/lib/python3.7/site-packages/semtorch/models/archs/backbones/build.py\u001b[0m in \u001b[0;36mget_segmentation_backbone\u001b[0;34m(backbone, norm_layer)\u001b[0m\n\u001b[1;32m     71\u001b[0m     \"\"\"\n\u001b[1;32m     72\u001b[0m     \u001b[0mmodel\u001b[0m \u001b[0;34m=\u001b[0m \u001b[0mBACKBONE_REGISTRY\u001b[0m\u001b[0;34m.\u001b[0m\u001b[0mget\u001b[0m\u001b[0;34m(\u001b[0m\u001b[0mbackbone\u001b[0m\u001b[0;34m)\u001b[0m\u001b[0;34m(\u001b[0m\u001b[0mnorm_layer\u001b[0m\u001b[0;34m)\u001b[0m\u001b[0;34m\u001b[0m\u001b[0;34m\u001b[0m\u001b[0m\n\u001b[0;32m---> 73\u001b[0;31m     \u001b[0mload_backbone_pretrained\u001b[0m\u001b[0;34m(\u001b[0m\u001b[0mmodel\u001b[0m\u001b[0;34m,\u001b[0m \u001b[0mbackbone\u001b[0m\u001b[0;34m)\u001b[0m\u001b[0;34m\u001b[0m\u001b[0;34m\u001b[0m\u001b[0m\n\u001b[0m\u001b[1;32m     74\u001b[0m     \u001b[0;32mreturn\u001b[0m \u001b[0mmodel\u001b[0m\u001b[0;34m\u001b[0m\u001b[0;34m\u001b[0m\u001b[0m\n\u001b[1;32m     75\u001b[0m \u001b[0;34m\u001b[0m\u001b[0m\n",
      "\u001b[0;32m~/miniconda3/envs/fastai/lib/python3.7/site-packages/semtorch/models/archs/backbones/build.py\u001b[0m in \u001b[0;36mload_backbone_pretrained\u001b[0;34m(model, backbone)\u001b[0m\n\u001b[1;32m     49\u001b[0m                     \u001b[0mweights_path\u001b[0m \u001b[0;34m=\u001b[0m \u001b[0mdownload\u001b[0m\u001b[0;34m(\u001b[0m\u001b[0mmodel_urls\u001b[0m\u001b[0;34m[\u001b[0m\u001b[0mbackbone\u001b[0m\u001b[0;34m]\u001b[0m\u001b[0;34m,\u001b[0m \u001b[0mpath\u001b[0m\u001b[0;34m=\u001b[0m\u001b[0mweights_path\u001b[0m\u001b[0;34m)\u001b[0m\u001b[0;34m\u001b[0m\u001b[0;34m\u001b[0m\u001b[0m\n\u001b[1;32m     50\u001b[0m \u001b[0;34m\u001b[0m\u001b[0m\n\u001b[0;32m---> 51\u001b[0;31m                     \u001b[0mmsg\u001b[0m \u001b[0;34m=\u001b[0m \u001b[0mmodel\u001b[0m\u001b[0;34m.\u001b[0m\u001b[0minit_weights\u001b[0m\u001b[0;34m(\u001b[0m\u001b[0mpretrained\u001b[0m\u001b[0;34m=\u001b[0m\u001b[0mweights_path\u001b[0m\u001b[0;34m)\u001b[0m\u001b[0;34m\u001b[0m\u001b[0;34m\u001b[0m\u001b[0m\n\u001b[0m\u001b[1;32m     52\u001b[0m                 \u001b[0;32melse\u001b[0m\u001b[0;34m:\u001b[0m\u001b[0;34m\u001b[0m\u001b[0;34m\u001b[0m\u001b[0m\n\u001b[1;32m     53\u001b[0m                     \u001b[0mmsg\u001b[0m \u001b[0;34m=\u001b[0m \u001b[0mmodel\u001b[0m\u001b[0;34m.\u001b[0m\u001b[0mload_state_dict\u001b[0m\u001b[0;34m(\u001b[0m\u001b[0mmodel_zoo\u001b[0m\u001b[0;34m.\u001b[0m\u001b[0mload_url\u001b[0m\u001b[0;34m(\u001b[0m\u001b[0mmodel_urls\u001b[0m\u001b[0;34m[\u001b[0m\u001b[0mbackbone\u001b[0m\u001b[0;34m]\u001b[0m\u001b[0;34m)\u001b[0m\u001b[0;34m,\u001b[0m \u001b[0mstrict\u001b[0m\u001b[0;34m=\u001b[0m\u001b[0;32mFalse\u001b[0m\u001b[0;34m)\u001b[0m\u001b[0;34m\u001b[0m\u001b[0;34m\u001b[0m\u001b[0m\n",
      "\u001b[0;32m~/miniconda3/envs/fastai/lib/python3.7/site-packages/semtorch/models/archs/backbones/hrnet.py\u001b[0m in \u001b[0;36minit_weights\u001b[0;34m(self, pretrained)\u001b[0m\n\u001b[1;32m    459\u001b[0m         \u001b[0;32mfor\u001b[0m \u001b[0mm\u001b[0m \u001b[0;32min\u001b[0m \u001b[0mself\u001b[0m\u001b[0;34m.\u001b[0m\u001b[0mmodules\u001b[0m\u001b[0;34m(\u001b[0m\u001b[0;34m)\u001b[0m\u001b[0;34m:\u001b[0m\u001b[0;34m\u001b[0m\u001b[0;34m\u001b[0m\u001b[0m\n\u001b[1;32m    460\u001b[0m             \u001b[0;32mif\u001b[0m \u001b[0misinstance\u001b[0m\u001b[0;34m(\u001b[0m\u001b[0mm\u001b[0m\u001b[0;34m,\u001b[0m \u001b[0mnn\u001b[0m\u001b[0;34m.\u001b[0m\u001b[0mConv2d\u001b[0m\u001b[0;34m)\u001b[0m\u001b[0;34m:\u001b[0m\u001b[0;34m\u001b[0m\u001b[0;34m\u001b[0m\u001b[0m\n\u001b[0;32m--> 461\u001b[0;31m                 \u001b[0mnn\u001b[0m\u001b[0;34m.\u001b[0m\u001b[0minit\u001b[0m\u001b[0;34m.\u001b[0m\u001b[0mnormal_\u001b[0m\u001b[0;34m(\u001b[0m\u001b[0mm\u001b[0m\u001b[0;34m.\u001b[0m\u001b[0mweight\u001b[0m\u001b[0;34m,\u001b[0m \u001b[0mstd\u001b[0m\u001b[0;34m=\u001b[0m\u001b[0;36m0.001\u001b[0m\u001b[0;34m)\u001b[0m\u001b[0;34m\u001b[0m\u001b[0;34m\u001b[0m\u001b[0m\n\u001b[0m\u001b[1;32m    462\u001b[0m             \u001b[0;32melif\u001b[0m \u001b[0misinstance\u001b[0m\u001b[0;34m(\u001b[0m\u001b[0mm\u001b[0m\u001b[0;34m,\u001b[0m \u001b[0mnn\u001b[0m\u001b[0;34m.\u001b[0m\u001b[0mBatchNorm2d\u001b[0m\u001b[0;34m)\u001b[0m\u001b[0;34m:\u001b[0m\u001b[0;34m\u001b[0m\u001b[0;34m\u001b[0m\u001b[0m\n\u001b[1;32m    463\u001b[0m                 \u001b[0mnn\u001b[0m\u001b[0;34m.\u001b[0m\u001b[0minit\u001b[0m\u001b[0;34m.\u001b[0m\u001b[0mconstant_\u001b[0m\u001b[0;34m(\u001b[0m\u001b[0mm\u001b[0m\u001b[0;34m.\u001b[0m\u001b[0mweight\u001b[0m\u001b[0;34m,\u001b[0m \u001b[0;36m1\u001b[0m\u001b[0;34m)\u001b[0m\u001b[0;34m\u001b[0m\u001b[0;34m\u001b[0m\u001b[0m\n",
      "\u001b[0;32m~/miniconda3/envs/fastai/lib/python3.7/site-packages/torch/nn/init.py\u001b[0m in \u001b[0;36mnormal_\u001b[0;34m(tensor, mean, std)\u001b[0m\n\u001b[1;32m    149\u001b[0m         \u001b[0;34m>>\u001b[0m\u001b[0;34m>\u001b[0m \u001b[0mnn\u001b[0m\u001b[0;34m.\u001b[0m\u001b[0minit\u001b[0m\u001b[0;34m.\u001b[0m\u001b[0mnormal_\u001b[0m\u001b[0;34m(\u001b[0m\u001b[0mw\u001b[0m\u001b[0;34m)\u001b[0m\u001b[0;34m\u001b[0m\u001b[0;34m\u001b[0m\u001b[0m\n\u001b[1;32m    150\u001b[0m     \"\"\"\n\u001b[0;32m--> 151\u001b[0;31m     \u001b[0;32mreturn\u001b[0m \u001b[0m_no_grad_normal_\u001b[0m\u001b[0;34m(\u001b[0m\u001b[0mtensor\u001b[0m\u001b[0;34m,\u001b[0m \u001b[0mmean\u001b[0m\u001b[0;34m,\u001b[0m \u001b[0mstd\u001b[0m\u001b[0;34m)\u001b[0m\u001b[0;34m\u001b[0m\u001b[0;34m\u001b[0m\u001b[0m\n\u001b[0m\u001b[1;32m    152\u001b[0m \u001b[0;34m\u001b[0m\u001b[0m\n\u001b[1;32m    153\u001b[0m \u001b[0;32mdef\u001b[0m \u001b[0mtrunc_normal_\u001b[0m\u001b[0;34m(\u001b[0m\u001b[0mtensor\u001b[0m\u001b[0;34m:\u001b[0m \u001b[0mTensor\u001b[0m\u001b[0;34m,\u001b[0m \u001b[0mmean\u001b[0m\u001b[0;34m:\u001b[0m \u001b[0mfloat\u001b[0m \u001b[0;34m=\u001b[0m \u001b[0;36m0.\u001b[0m\u001b[0;34m,\u001b[0m \u001b[0mstd\u001b[0m\u001b[0;34m:\u001b[0m \u001b[0mfloat\u001b[0m \u001b[0;34m=\u001b[0m \u001b[0;36m1.\u001b[0m\u001b[0;34m,\u001b[0m \u001b[0ma\u001b[0m\u001b[0;34m:\u001b[0m \u001b[0mfloat\u001b[0m \u001b[0;34m=\u001b[0m \u001b[0;34m-\u001b[0m\u001b[0;36m2.\u001b[0m\u001b[0;34m,\u001b[0m \u001b[0mb\u001b[0m\u001b[0;34m:\u001b[0m \u001b[0mfloat\u001b[0m \u001b[0;34m=\u001b[0m \u001b[0;36m2.\u001b[0m\u001b[0;34m)\u001b[0m \u001b[0;34m->\u001b[0m \u001b[0mTensor\u001b[0m\u001b[0;34m:\u001b[0m\u001b[0;34m\u001b[0m\u001b[0;34m\u001b[0m\u001b[0m\n",
      "\u001b[0;32m~/miniconda3/envs/fastai/lib/python3.7/site-packages/torch/nn/init.py\u001b[0m in \u001b[0;36m_no_grad_normal_\u001b[0;34m(tensor, mean, std)\u001b[0m\n\u001b[1;32m     17\u001b[0m \u001b[0;32mdef\u001b[0m \u001b[0m_no_grad_normal_\u001b[0m\u001b[0;34m(\u001b[0m\u001b[0mtensor\u001b[0m\u001b[0;34m,\u001b[0m \u001b[0mmean\u001b[0m\u001b[0;34m,\u001b[0m \u001b[0mstd\u001b[0m\u001b[0;34m)\u001b[0m\u001b[0;34m:\u001b[0m\u001b[0;34m\u001b[0m\u001b[0;34m\u001b[0m\u001b[0m\n\u001b[1;32m     18\u001b[0m     \u001b[0;32mwith\u001b[0m \u001b[0mtorch\u001b[0m\u001b[0;34m.\u001b[0m\u001b[0mno_grad\u001b[0m\u001b[0;34m(\u001b[0m\u001b[0;34m)\u001b[0m\u001b[0;34m:\u001b[0m\u001b[0;34m\u001b[0m\u001b[0;34m\u001b[0m\u001b[0m\n\u001b[0;32m---> 19\u001b[0;31m         \u001b[0;32mreturn\u001b[0m \u001b[0mtensor\u001b[0m\u001b[0;34m.\u001b[0m\u001b[0mnormal_\u001b[0m\u001b[0;34m(\u001b[0m\u001b[0mmean\u001b[0m\u001b[0;34m,\u001b[0m \u001b[0mstd\u001b[0m\u001b[0;34m)\u001b[0m\u001b[0;34m\u001b[0m\u001b[0;34m\u001b[0m\u001b[0m\n\u001b[0m\u001b[1;32m     20\u001b[0m \u001b[0;34m\u001b[0m\u001b[0m\n\u001b[1;32m     21\u001b[0m \u001b[0;34m\u001b[0m\u001b[0m\n",
      "\u001b[0;31mKeyboardInterrupt\u001b[0m: "
     ]
    },
    {
     "data": {
      "image/png": "[encoded data removed]",
      "text/plain": [
       "<Figure size 432x288 with 1 Axes>"
      ]
     },
     "metadata": {
      "needs_background": "light"
     },
     "output_type": "display_data"
    }
   ],
   "source": [
    "# define augmentation transforms\n",
    "item_tfms, batch_tfms = my_transforms(half)\n",
    "\n",
    "for fold in range(n_folds):\n",
    "    print (\"----\", fold)\n",
    "    dls = get_data(mydf, fold, n_folds, codes, bs, item_tfms, batch_tfms) # get the dataloaders\n",
    "    # here we create the segmentation learner with SemTorch. The models are all pre-trained on ImageNet\n",
    "    learn = get_segmentation_learner(dls=dls, number_classes=2, segmentation_type=\"Semantic Segmentation\",\n",
    "                                 architecture_name=arch, backbone_name=backbone,\n",
    "                                 metrics=metrics,\n",
    "                                 splitter=segmentron_splitter,\n",
    "                                 opt_func=opt,\n",
    "                                 loss_func=myloss_func).to_fp16() # we use fp16 training\n",
    "\n",
    "    #set hyperparameters. This should be moved out of the loop :-)\n",
    "    if myclass == 'aguada':\n",
    "        lr = 1e-2\n",
    "        freeze_epochs = 8#19\n",
    "        epochs = 16# 6\n",
    "    elif myclass == 'building':\n",
    "        lr = 1e-2 #1e-2 #0.00036307806149125097\n",
    "        freeze_epochs = 19#16\n",
    "        epochs = 9# 6\n",
    "    elif myclass == 'platform':\n",
    "        lr =1.2e-2 #1e-2 #0.00036307806149125097\n",
    "        freeze_epochs = 8 #6\n",
    "        epochs = 16 #9\n",
    "    \n",
    "    # here is the training cycle: we train for 'freeze_epochs' with all layers (except the last) frozen,\n",
    "    # then we train for 'epochs' with all layers unfrozen\n",
    "    learn.fine_tune_flat(epochs, lr, freeze_epochs, first_callbacks=callbacks, second_callbacks=callbacks)\n",
    "    learn.recorder.plot_loss()\n",
    "    learn.export('models/stage-1 ' + myclass + str(fold))\n",
    "    print (\"--- fold complete #\", fold)\n",
    "    print (learn.validate())\n",
    "    print (\"-----------------\")\n",
    "    del dls, learn # free memory\n",
    "    if TESTRUN: break\n",
    "    \n",
    "# beat 64.5"
   ]
  },
  {
   "cell_type": "code",
   "execution_count": 47,
   "metadata": {},
   "outputs": [],
   "source": [
    "#from jarviscloud import jarviscloud\n",
    "#jarviscloud.pause()"
   ]
  },
  {
   "cell_type": "markdown",
   "metadata": {
    "id": "2qf2Gr-INw08"
   },
   "source": [
    "## Full size training cycle"
   ]
  },
  {
   "cell_type": "code",
   "execution_count": 48,
   "metadata": {},
   "outputs": [],
   "source": [
    "# sz is 480x480 now, so we need new transforms\n",
    "item_tfms, batch_tfms = my_transforms(sz)"
   ]
  },
  {
   "cell_type": "code",
   "execution_count": 49,
   "metadata": {},
   "outputs": [
    {
     "data": {
      "text/plain": [
       "(0.01, 6, 7)"
      ]
     },
     "execution_count": 49,
     "metadata": {},
     "output_type": "execute_result"
    }
   ],
   "source": [
    "# set hyperparameters\n",
    "if myclass == \"building\":\n",
    "    lr = 0.02 #0.012\n",
    "    freeze_epochs = 6#16\n",
    "    epochs = 9# 6\n",
    "elif myclass == \"aguada\":\n",
    "    lr = 1e-2\n",
    "    freeze_epochs = 8#19\n",
    "    epochs = 16# 6\n",
    "elif myclass == 'platform':\n",
    "    #lr = 8e-6#1.5e-4#9e-4\n",
    "    #lr = lr_min\n",
    "    lr = 1e-2\n",
    "    freeze_epochs = 6#4 #should be enough!!\n",
    "    epochs = 7\n",
    "\n",
    "lr, freeze_epochs, epochs"
   ]
  },
  {
   "cell_type": "code",
   "execution_count": 50,
   "metadata": {},
   "outputs": [
    {
     "data": {
      "text/plain": [
       "6"
      ]
     },
     "execution_count": 50,
     "metadata": {},
     "output_type": "execute_result"
    }
   ],
   "source": [
    "# reduce the batch size\n",
    "if arch==\"deeplabv3+\":\n",
    "    bs = 3 # 2 for Unet\n",
    "else:\n",
    "    bs = 6\n",
    "\n",
    "if JARVIS:\n",
    "    if arch==\"deeplabv3+\":\n",
    "        bs = 12 # 2 for Unet\n",
    "    else:\n",
    "        if myclass == 'aguada': bs = 16\n",
    "        elif myclass == 'building': bs = 16\n",
    "bs"
   ]
  },
  {
   "cell_type": "code",
   "execution_count": 51,
   "metadata": {},
   "outputs": [
    {
     "data": {
      "text/html": [
       "<table border=\"1\" class=\"dataframe\">\n",
       "  <thead>\n",
       "    <tr style=\"text-align: left;\">\n",
       "      <th>epoch</th>\n",
       "      <th>train_loss</th>\n",
       "      <th>valid_loss</th>\n",
       "      <th>dice</th>\n",
       "      <th>jaccard_coeff</th>\n",
       "      <th>time</th>\n",
       "    </tr>\n",
       "  </thead>\n",
       "  <tbody>\n",
       "    <tr>\n",
       "      <td>0</td>\n",
       "      <td>0.002704</td>\n",
       "      <td>0.007805</td>\n",
       "      <td>0.779849</td>\n",
       "      <td>0.639141</td>\n",
       "      <td>02:00</td>\n",
       "    </tr>\n",
       "    <tr>\n",
       "      <td>1</td>\n",
       "      <td>0.002919</td>\n",
       "      <td>0.008019</td>\n",
       "      <td>0.790931</td>\n",
       "      <td>0.654165</td>\n",
       "      <td>02:00</td>\n",
       "    </tr>\n",
       "    <tr>\n",
       "      <td>2</td>\n",
       "      <td>0.002757</td>\n",
       "      <td>0.008831</td>\n",
       "      <td>0.774172</td>\n",
       "      <td>0.631550</td>\n",
       "      <td>02:00</td>\n",
       "    </tr>\n",
       "    <tr>\n",
       "      <td>3</td>\n",
       "      <td>0.002819</td>\n",
       "      <td>0.006970</td>\n",
       "      <td>0.794934</td>\n",
       "      <td>0.659660</td>\n",
       "      <td>02:00</td>\n",
       "    </tr>\n",
       "    <tr>\n",
       "      <td>4</td>\n",
       "      <td>0.002626</td>\n",
       "      <td>0.008476</td>\n",
       "      <td>0.781069</td>\n",
       "      <td>0.640781</td>\n",
       "      <td>02:00</td>\n",
       "    </tr>\n",
       "    <tr>\n",
       "      <td>5</td>\n",
       "      <td>0.002506</td>\n",
       "      <td>0.009133</td>\n",
       "      <td>0.798167</td>\n",
       "      <td>0.664125</td>\n",
       "      <td>02:00</td>\n",
       "    </tr>\n",
       "  </tbody>\n",
       "</table>"
      ],
      "text/plain": [
       "<IPython.core.display.HTML object>"
      ]
     },
     "metadata": {},
     "output_type": "display_data"
    },
    {
     "name": "stderr",
     "output_type": "stream",
     "text": [
      "/home/ju/miniconda3/envs/fastai/lib/python3.7/site-packages/torch/nn/functional.py:3613: UserWarning: Default upsampling behavior when mode=bilinear is changed to align_corners=False since 0.4.0. Please specify align_corners=True if the old behavior is desired. See the documentation of nn.Upsample for details.\n",
      "  \"See the documentation of nn.Upsample for details.\".format(mode)\n"
     ]
    },
    {
     "name": "stdout",
     "output_type": "stream",
     "text": [
      "Better model found at epoch 0 with jaccard_coeff value: 0.6391411242918914.\n",
      "Better model found at epoch 1 with jaccard_coeff value: 0.6541651182311458.\n",
      "Epoch 2: reducing lr to 0.001\n",
      "Better model found at epoch 3 with jaccard_coeff value: 0.659659544204163.\n",
      "Epoch 4: reducing lr to 0.001\n",
      "Better model found at epoch 5 with jaccard_coeff value: 0.66412495533196.\n"
     ]
    },
    {
     "data": {
      "text/html": [
       "<table border=\"1\" class=\"dataframe\">\n",
       "  <thead>\n",
       "    <tr style=\"text-align: left;\">\n",
       "      <th>epoch</th>\n",
       "      <th>train_loss</th>\n",
       "      <th>valid_loss</th>\n",
       "      <th>dice</th>\n",
       "      <th>jaccard_coeff</th>\n",
       "      <th>time</th>\n",
       "    </tr>\n",
       "  </thead>\n",
       "  <tbody>\n",
       "    <tr>\n",
       "      <td>0</td>\n",
       "      <td>0.002849</td>\n",
       "      <td>0.007394</td>\n",
       "      <td>0.799278</td>\n",
       "      <td>0.665665</td>\n",
       "      <td>03:54</td>\n",
       "    </tr>\n",
       "    <tr>\n",
       "      <td>1</td>\n",
       "      <td>0.003134</td>\n",
       "      <td>0.007271</td>\n",
       "      <td>0.797847</td>\n",
       "      <td>0.663682</td>\n",
       "      <td>03:55</td>\n",
       "    </tr>\n",
       "    <tr>\n",
       "      <td>2</td>\n",
       "      <td>0.002856</td>\n",
       "      <td>0.007999</td>\n",
       "      <td>0.793264</td>\n",
       "      <td>0.657363</td>\n",
       "      <td>03:55</td>\n",
       "    </tr>\n",
       "    <tr>\n",
       "      <td>3</td>\n",
       "      <td>0.002720</td>\n",
       "      <td>0.008273</td>\n",
       "      <td>0.804523</td>\n",
       "      <td>0.672973</td>\n",
       "      <td>03:55</td>\n",
       "    </tr>\n",
       "    <tr>\n",
       "      <td>4</td>\n",
       "      <td>0.003006</td>\n",
       "      <td>0.007695</td>\n",
       "      <td>0.779368</td>\n",
       "      <td>0.638495</td>\n",
       "      <td>03:54</td>\n",
       "    </tr>\n",
       "    <tr>\n",
       "      <td>5</td>\n",
       "      <td>0.002304</td>\n",
       "      <td>0.008953</td>\n",
       "      <td>0.801391</td>\n",
       "      <td>0.668600</td>\n",
       "      <td>03:56</td>\n",
       "    </tr>\n",
       "    <tr>\n",
       "      <td>6</td>\n",
       "      <td>0.002271</td>\n",
       "      <td>0.007148</td>\n",
       "      <td>0.810138</td>\n",
       "      <td>0.680867</td>\n",
       "      <td>03:55</td>\n",
       "    </tr>\n",
       "  </tbody>\n",
       "</table>"
      ],
      "text/plain": [
       "<IPython.core.display.HTML object>"
      ]
     },
     "metadata": {},
     "output_type": "display_data"
    },
    {
     "name": "stdout",
     "output_type": "stream",
     "text": [
      "Better model found at epoch 0 with jaccard_coeff value: 0.6656647838486187.\n",
      "Epoch 1: reducing lr to 0.0005\n",
      "Epoch 2: reducing lr to 0.0005\n",
      "Better model found at epoch 3 with jaccard_coeff value: 0.6729728540465444.\n",
      "Epoch 4: reducing lr to 0.0005\n",
      "Epoch 5: reducing lr to 0.00030704729772520426\n",
      "Better model found at epoch 6 with jaccard_coeff value: 0.6808666301811529.\n",
      "models/maya_J041_platform0.pkl\n",
      "--- fold complete # 0\n"
     ]
    },
    {
     "data": {
      "text/html": [],
      "text/plain": [
       "<IPython.core.display.HTML object>"
      ]
     },
     "metadata": {},
     "output_type": "display_data"
    },
    {
     "name": "stdout",
     "output_type": "stream",
     "text": [
      "[0.007147854659706354, 0.8101376015868356, 0.6808666301811529]\n",
      "-----------------\n"
     ]
    },
    {
     "data": {
      "text/html": [
       "<table border=\"1\" class=\"dataframe\">\n",
       "  <thead>\n",
       "    <tr style=\"text-align: left;\">\n",
       "      <th>epoch</th>\n",
       "      <th>train_loss</th>\n",
       "      <th>valid_loss</th>\n",
       "      <th>dice</th>\n",
       "      <th>jaccard_coeff</th>\n",
       "      <th>time</th>\n",
       "    </tr>\n",
       "  </thead>\n",
       "  <tbody>\n",
       "    <tr>\n",
       "      <td>0</td>\n",
       "      <td>0.004134</td>\n",
       "      <td>0.005469</td>\n",
       "      <td>0.795912</td>\n",
       "      <td>0.661009</td>\n",
       "      <td>02:01</td>\n",
       "    </tr>\n",
       "    <tr>\n",
       "      <td>1</td>\n",
       "      <td>0.002993</td>\n",
       "      <td>0.008419</td>\n",
       "      <td>0.799823</td>\n",
       "      <td>0.666421</td>\n",
       "      <td>02:01</td>\n",
       "    </tr>\n",
       "    <tr>\n",
       "      <td>2</td>\n",
       "      <td>0.003394</td>\n",
       "      <td>0.005876</td>\n",
       "      <td>0.803237</td>\n",
       "      <td>0.671175</td>\n",
       "      <td>02:01</td>\n",
       "    </tr>\n",
       "    <tr>\n",
       "      <td>3</td>\n",
       "      <td>0.002924</td>\n",
       "      <td>0.006008</td>\n",
       "      <td>0.813007</td>\n",
       "      <td>0.684930</td>\n",
       "      <td>02:01</td>\n",
       "    </tr>\n",
       "    <tr>\n",
       "      <td>4</td>\n",
       "      <td>0.002922</td>\n",
       "      <td>0.007075</td>\n",
       "      <td>0.810521</td>\n",
       "      <td>0.681408</td>\n",
       "      <td>02:01</td>\n",
       "    </tr>\n",
       "    <tr>\n",
       "      <td>5</td>\n",
       "      <td>0.002807</td>\n",
       "      <td>0.006309</td>\n",
       "      <td>0.805408</td>\n",
       "      <td>0.674212</td>\n",
       "      <td>02:00</td>\n",
       "    </tr>\n",
       "  </tbody>\n",
       "</table>"
      ],
      "text/plain": [
       "<IPython.core.display.HTML object>"
      ]
     },
     "metadata": {},
     "output_type": "display_data"
    },
    {
     "name": "stderr",
     "output_type": "stream",
     "text": [
      "/home/ju/miniconda3/envs/fastai/lib/python3.7/site-packages/torch/nn/functional.py:3613: UserWarning: Default upsampling behavior when mode=bilinear is changed to align_corners=False since 0.4.0. Please specify align_corners=True if the old behavior is desired. See the documentation of nn.Upsample for details.\n",
      "  \"See the documentation of nn.Upsample for details.\".format(mode)\n"
     ]
    },
    {
     "name": "stdout",
     "output_type": "stream",
     "text": [
      "Better model found at epoch 0 with jaccard_coeff value: 0.6610085493311814.\n",
      "Better model found at epoch 1 with jaccard_coeff value: 0.6664213952404997.\n",
      "Better model found at epoch 2 with jaccard_coeff value: 0.6711748007447678.\n",
      "Better model found at epoch 3 with jaccard_coeff value: 0.6849295185624018.\n",
      "Epoch 4: reducing lr to 0.001\n",
      "Epoch 5: reducing lr to 7.1707479625385265e-06\n"
     ]
    },
    {
     "data": {
      "text/html": [
       "<table border=\"1\" class=\"dataframe\">\n",
       "  <thead>\n",
       "    <tr style=\"text-align: left;\">\n",
       "      <th>epoch</th>\n",
       "      <th>train_loss</th>\n",
       "      <th>valid_loss</th>\n",
       "      <th>dice</th>\n",
       "      <th>jaccard_coeff</th>\n",
       "      <th>time</th>\n",
       "    </tr>\n",
       "  </thead>\n",
       "  <tbody>\n",
       "    <tr>\n",
       "      <td>0</td>\n",
       "      <td>0.003065</td>\n",
       "      <td>0.006354</td>\n",
       "      <td>0.808870</td>\n",
       "      <td>0.679078</td>\n",
       "      <td>03:54</td>\n",
       "    </tr>\n",
       "    <tr>\n",
       "      <td>1</td>\n",
       "      <td>0.002890</td>\n",
       "      <td>0.007044</td>\n",
       "      <td>0.807077</td>\n",
       "      <td>0.676554</td>\n",
       "      <td>03:54</td>\n",
       "    </tr>\n",
       "    <tr>\n",
       "      <td>2</td>\n",
       "      <td>0.002951</td>\n",
       "      <td>0.006948</td>\n",
       "      <td>0.811977</td>\n",
       "      <td>0.683470</td>\n",
       "      <td>03:54</td>\n",
       "    </tr>\n",
       "    <tr>\n",
       "      <td>3</td>\n",
       "      <td>0.002773</td>\n",
       "      <td>0.006372</td>\n",
       "      <td>0.800971</td>\n",
       "      <td>0.668016</td>\n",
       "      <td>03:54</td>\n",
       "    </tr>\n",
       "    <tr>\n",
       "      <td>4</td>\n",
       "      <td>0.002764</td>\n",
       "      <td>0.007042</td>\n",
       "      <td>0.787271</td>\n",
       "      <td>0.649173</td>\n",
       "      <td>03:54</td>\n",
       "    </tr>\n",
       "    <tr>\n",
       "      <td>5</td>\n",
       "      <td>0.002920</td>\n",
       "      <td>0.007052</td>\n",
       "      <td>0.813339</td>\n",
       "      <td>0.685402</td>\n",
       "      <td>03:54</td>\n",
       "    </tr>\n",
       "    <tr>\n",
       "      <td>6</td>\n",
       "      <td>0.002120</td>\n",
       "      <td>0.006259</td>\n",
       "      <td>0.818324</td>\n",
       "      <td>0.692511</td>\n",
       "      <td>03:54</td>\n",
       "    </tr>\n",
       "  </tbody>\n",
       "</table>"
      ],
      "text/plain": [
       "<IPython.core.display.HTML object>"
      ]
     },
     "metadata": {},
     "output_type": "display_data"
    },
    {
     "name": "stdout",
     "output_type": "stream",
     "text": [
      "Better model found at epoch 0 with jaccard_coeff value: 0.6790781385919988.\n",
      "Epoch 1: reducing lr to 0.0005\n",
      "Better model found at epoch 2 with jaccard_coeff value: 0.6834696351471525.\n",
      "Epoch 3: reducing lr to 0.0005\n",
      "Epoch 4: reducing lr to 0.0005\n",
      "Better model found at epoch 5 with jaccard_coeff value: 0.6854017943856822.\n",
      "Better model found at epoch 6 with jaccard_coeff value: 0.6925110362234711.\n",
      "models/maya_J041_platform1.pkl\n",
      "--- fold complete # 1\n"
     ]
    },
    {
     "data": {
      "text/html": [],
      "text/plain": [
       "<IPython.core.display.HTML object>"
      ]
     },
     "metadata": {},
     "output_type": "display_data"
    },
    {
     "name": "stdout",
     "output_type": "stream",
     "text": [
      "[0.006258565932512283, 0.8183238057563074, 0.6925110362234711]\n",
      "-----------------\n"
     ]
    },
    {
     "data": {
      "text/html": [
       "<table border=\"1\" class=\"dataframe\">\n",
       "  <thead>\n",
       "    <tr style=\"text-align: left;\">\n",
       "      <th>epoch</th>\n",
       "      <th>train_loss</th>\n",
       "      <th>valid_loss</th>\n",
       "      <th>dice</th>\n",
       "      <th>jaccard_coeff</th>\n",
       "      <th>time</th>\n",
       "    </tr>\n",
       "  </thead>\n",
       "  <tbody>\n",
       "    <tr>\n",
       "      <td>0</td>\n",
       "      <td>0.002416</td>\n",
       "      <td>0.007923</td>\n",
       "      <td>0.804634</td>\n",
       "      <td>0.673128</td>\n",
       "      <td>01:59</td>\n",
       "    </tr>\n",
       "    <tr>\n",
       "      <td>1</td>\n",
       "      <td>0.002575</td>\n",
       "      <td>0.007673</td>\n",
       "      <td>0.819341</td>\n",
       "      <td>0.693969</td>\n",
       "      <td>02:00</td>\n",
       "    </tr>\n",
       "    <tr>\n",
       "      <td>2</td>\n",
       "      <td>0.002796</td>\n",
       "      <td>0.006788</td>\n",
       "      <td>0.825578</td>\n",
       "      <td>0.702966</td>\n",
       "      <td>02:00</td>\n",
       "    </tr>\n",
       "    <tr>\n",
       "      <td>3</td>\n",
       "      <td>0.002663</td>\n",
       "      <td>0.005326</td>\n",
       "      <td>0.816350</td>\n",
       "      <td>0.689688</td>\n",
       "      <td>02:00</td>\n",
       "    </tr>\n",
       "    <tr>\n",
       "      <td>4</td>\n",
       "      <td>0.002230</td>\n",
       "      <td>0.008337</td>\n",
       "      <td>0.801725</td>\n",
       "      <td>0.669065</td>\n",
       "      <td>02:00</td>\n",
       "    </tr>\n",
       "    <tr>\n",
       "      <td>5</td>\n",
       "      <td>0.002415</td>\n",
       "      <td>0.008658</td>\n",
       "      <td>0.804711</td>\n",
       "      <td>0.673235</td>\n",
       "      <td>02:00</td>\n",
       "    </tr>\n",
       "  </tbody>\n",
       "</table>"
      ],
      "text/plain": [
       "<IPython.core.display.HTML object>"
      ]
     },
     "metadata": {},
     "output_type": "display_data"
    },
    {
     "name": "stderr",
     "output_type": "stream",
     "text": [
      "/home/ju/miniconda3/envs/fastai/lib/python3.7/site-packages/torch/nn/functional.py:3613: UserWarning: Default upsampling behavior when mode=bilinear is changed to align_corners=False since 0.4.0. Please specify align_corners=True if the old behavior is desired. See the documentation of nn.Upsample for details.\n",
      "  \"See the documentation of nn.Upsample for details.\".format(mode)\n"
     ]
    },
    {
     "name": "stdout",
     "output_type": "stream",
     "text": [
      "Better model found at epoch 0 with jaccard_coeff value: 0.6731280044143453.\n",
      "Better model found at epoch 1 with jaccard_coeff value: 0.6939689377621585.\n",
      "Better model found at epoch 2 with jaccard_coeff value: 0.7029659618274473.\n",
      "Epoch 3: reducing lr to 0.001\n",
      "Epoch 4: reducing lr to 0.001\n",
      "Epoch 5: reducing lr to 7.1707479625385265e-06\n"
     ]
    },
    {
     "data": {
      "text/html": [
       "<table border=\"1\" class=\"dataframe\">\n",
       "  <thead>\n",
       "    <tr style=\"text-align: left;\">\n",
       "      <th>epoch</th>\n",
       "      <th>train_loss</th>\n",
       "      <th>valid_loss</th>\n",
       "      <th>dice</th>\n",
       "      <th>jaccard_coeff</th>\n",
       "      <th>time</th>\n",
       "    </tr>\n",
       "  </thead>\n",
       "  <tbody>\n",
       "    <tr>\n",
       "      <td>0</td>\n",
       "      <td>0.002583</td>\n",
       "      <td>0.007333</td>\n",
       "      <td>0.830809</td>\n",
       "      <td>0.710585</td>\n",
       "      <td>03:54</td>\n",
       "    </tr>\n",
       "    <tr>\n",
       "      <td>1</td>\n",
       "      <td>0.002761</td>\n",
       "      <td>0.005862</td>\n",
       "      <td>0.812700</td>\n",
       "      <td>0.684495</td>\n",
       "      <td>03:54</td>\n",
       "    </tr>\n",
       "    <tr>\n",
       "      <td>2</td>\n",
       "      <td>0.002405</td>\n",
       "      <td>0.007027</td>\n",
       "      <td>0.814519</td>\n",
       "      <td>0.687080</td>\n",
       "      <td>03:54</td>\n",
       "    </tr>\n",
       "    <tr>\n",
       "      <td>3</td>\n",
       "      <td>0.002351</td>\n",
       "      <td>0.008349</td>\n",
       "      <td>0.805103</td>\n",
       "      <td>0.673785</td>\n",
       "      <td>03:54</td>\n",
       "    </tr>\n",
       "    <tr>\n",
       "      <td>4</td>\n",
       "      <td>0.003092</td>\n",
       "      <td>0.007748</td>\n",
       "      <td>0.793948</td>\n",
       "      <td>0.658303</td>\n",
       "      <td>03:54</td>\n",
       "    </tr>\n",
       "    <tr>\n",
       "      <td>5</td>\n",
       "      <td>0.002934</td>\n",
       "      <td>0.006046</td>\n",
       "      <td>0.831378</td>\n",
       "      <td>0.711418</td>\n",
       "      <td>03:54</td>\n",
       "    </tr>\n",
       "    <tr>\n",
       "      <td>6</td>\n",
       "      <td>0.002252</td>\n",
       "      <td>0.006396</td>\n",
       "      <td>0.822394</td>\n",
       "      <td>0.698362</td>\n",
       "      <td>03:54</td>\n",
       "    </tr>\n",
       "  </tbody>\n",
       "</table>"
      ],
      "text/plain": [
       "<IPython.core.display.HTML object>"
      ]
     },
     "metadata": {},
     "output_type": "display_data"
    },
    {
     "name": "stdout",
     "output_type": "stream",
     "text": [
      "Better model found at epoch 0 with jaccard_coeff value: 0.7105849362281546.\n",
      "Epoch 1: reducing lr to 0.0005\n",
      "Epoch 2: reducing lr to 0.0005\n",
      "Epoch 3: reducing lr to 0.0005\n",
      "Epoch 4: reducing lr to 0.0005\n",
      "Better model found at epoch 5 with jaccard_coeff value: 0.7114176666103318.\n",
      "Epoch 6: reducing lr to 9.218518768130956e-09\n",
      "models/maya_J041_platform2.pkl\n",
      "--- fold complete # 2\n"
     ]
    },
    {
     "data": {
      "text/html": [],
      "text/plain": [
       "<IPython.core.display.HTML object>"
      ]
     },
     "metadata": {},
     "output_type": "display_data"
    },
    {
     "name": "stdout",
     "output_type": "stream",
     "text": [
      "[0.006046236492693424, 0.8313781965560516, 0.7114176666103318]\n",
      "-----------------\n"
     ]
    },
    {
     "data": {
      "text/html": [
       "<table border=\"1\" class=\"dataframe\">\n",
       "  <thead>\n",
       "    <tr style=\"text-align: left;\">\n",
       "      <th>epoch</th>\n",
       "      <th>train_loss</th>\n",
       "      <th>valid_loss</th>\n",
       "      <th>dice</th>\n",
       "      <th>jaccard_coeff</th>\n",
       "      <th>time</th>\n",
       "    </tr>\n",
       "  </thead>\n",
       "  <tbody>\n",
       "    <tr>\n",
       "      <td>0</td>\n",
       "      <td>0.002437</td>\n",
       "      <td>0.009422</td>\n",
       "      <td>0.829544</td>\n",
       "      <td>0.708736</td>\n",
       "      <td>02:00</td>\n",
       "    </tr>\n",
       "    <tr>\n",
       "      <td>1</td>\n",
       "      <td>0.002189</td>\n",
       "      <td>0.008316</td>\n",
       "      <td>0.830943</td>\n",
       "      <td>0.710781</td>\n",
       "      <td>02:00</td>\n",
       "    </tr>\n",
       "    <tr>\n",
       "      <td>2</td>\n",
       "      <td>0.002644</td>\n",
       "      <td>0.007026</td>\n",
       "      <td>0.823000</td>\n",
       "      <td>0.699235</td>\n",
       "      <td>02:00</td>\n",
       "    </tr>\n",
       "    <tr>\n",
       "      <td>3</td>\n",
       "      <td>0.002964</td>\n",
       "      <td>0.007836</td>\n",
       "      <td>0.823950</td>\n",
       "      <td>0.700608</td>\n",
       "      <td>02:00</td>\n",
       "    </tr>\n",
       "    <tr>\n",
       "      <td>4</td>\n",
       "      <td>0.002725</td>\n",
       "      <td>0.011061</td>\n",
       "      <td>0.816748</td>\n",
       "      <td>0.690257</td>\n",
       "      <td>02:00</td>\n",
       "    </tr>\n",
       "    <tr>\n",
       "      <td>5</td>\n",
       "      <td>0.003197</td>\n",
       "      <td>0.007027</td>\n",
       "      <td>0.819936</td>\n",
       "      <td>0.694824</td>\n",
       "      <td>02:00</td>\n",
       "    </tr>\n",
       "  </tbody>\n",
       "</table>"
      ],
      "text/plain": [
       "<IPython.core.display.HTML object>"
      ]
     },
     "metadata": {},
     "output_type": "display_data"
    },
    {
     "name": "stderr",
     "output_type": "stream",
     "text": [
      "/home/ju/miniconda3/envs/fastai/lib/python3.7/site-packages/torch/nn/functional.py:3613: UserWarning: Default upsampling behavior when mode=bilinear is changed to align_corners=False since 0.4.0. Please specify align_corners=True if the old behavior is desired. See the documentation of nn.Upsample for details.\n",
      "  \"See the documentation of nn.Upsample for details.\".format(mode)\n"
     ]
    },
    {
     "name": "stdout",
     "output_type": "stream",
     "text": [
      "Better model found at epoch 0 with jaccard_coeff value: 0.7087358936345524.\n",
      "Better model found at epoch 1 with jaccard_coeff value: 0.7107806243092577.\n",
      "Epoch 2: reducing lr to 0.001\n",
      "Epoch 3: reducing lr to 0.001\n",
      "Epoch 4: reducing lr to 0.001\n",
      "Epoch 5: reducing lr to 7.1707479625385265e-06\n"
     ]
    },
    {
     "data": {
      "text/html": [
       "<table border=\"1\" class=\"dataframe\">\n",
       "  <thead>\n",
       "    <tr style=\"text-align: left;\">\n",
       "      <th>epoch</th>\n",
       "      <th>train_loss</th>\n",
       "      <th>valid_loss</th>\n",
       "      <th>dice</th>\n",
       "      <th>jaccard_coeff</th>\n",
       "      <th>time</th>\n",
       "    </tr>\n",
       "  </thead>\n",
       "  <tbody>\n",
       "    <tr>\n",
       "      <td>0</td>\n",
       "      <td>0.002546</td>\n",
       "      <td>0.009902</td>\n",
       "      <td>0.812527</td>\n",
       "      <td>0.684249</td>\n",
       "      <td>03:53</td>\n",
       "    </tr>\n",
       "    <tr>\n",
       "      <td>1</td>\n",
       "      <td>0.002874</td>\n",
       "      <td>0.007862</td>\n",
       "      <td>0.823101</td>\n",
       "      <td>0.699382</td>\n",
       "      <td>03:54</td>\n",
       "    </tr>\n",
       "    <tr>\n",
       "      <td>2</td>\n",
       "      <td>0.002492</td>\n",
       "      <td>0.008511</td>\n",
       "      <td>0.827623</td>\n",
       "      <td>0.705936</td>\n",
       "      <td>03:54</td>\n",
       "    </tr>\n",
       "    <tr>\n",
       "      <td>3</td>\n",
       "      <td>0.002812</td>\n",
       "      <td>0.007715</td>\n",
       "      <td>0.825824</td>\n",
       "      <td>0.703323</td>\n",
       "      <td>03:54</td>\n",
       "    </tr>\n",
       "    <tr>\n",
       "      <td>4</td>\n",
       "      <td>0.002387</td>\n",
       "      <td>0.009466</td>\n",
       "      <td>0.803579</td>\n",
       "      <td>0.671652</td>\n",
       "      <td>03:54</td>\n",
       "    </tr>\n",
       "    <tr>\n",
       "      <td>5</td>\n",
       "      <td>0.002551</td>\n",
       "      <td>0.008012</td>\n",
       "      <td>0.821281</td>\n",
       "      <td>0.696758</td>\n",
       "      <td>03:54</td>\n",
       "    </tr>\n",
       "    <tr>\n",
       "      <td>6</td>\n",
       "      <td>0.001927</td>\n",
       "      <td>0.007356</td>\n",
       "      <td>0.832620</td>\n",
       "      <td>0.713238</td>\n",
       "      <td>03:54</td>\n",
       "    </tr>\n",
       "  </tbody>\n",
       "</table>"
      ],
      "text/plain": [
       "<IPython.core.display.HTML object>"
      ]
     },
     "metadata": {},
     "output_type": "display_data"
    },
    {
     "name": "stdout",
     "output_type": "stream",
     "text": [
      "Better model found at epoch 0 with jaccard_coeff value: 0.6842485420306059.\n",
      "Better model found at epoch 1 with jaccard_coeff value: 0.6993816934026432.\n",
      "Better model found at epoch 2 with jaccard_coeff value: 0.7059357559553108.\n",
      "Epoch 3: reducing lr to 0.0005\n",
      "Epoch 4: reducing lr to 0.0005\n",
      "Epoch 5: reducing lr to 0.00030704729772520426\n",
      "Better model found at epoch 6 with jaccard_coeff value: 0.7132382023239158.\n",
      "models/maya_J041_platform3.pkl\n",
      "--- fold complete # 3\n"
     ]
    },
    {
     "data": {
      "text/html": [],
      "text/plain": [
       "<IPython.core.display.HTML object>"
      ]
     },
     "metadata": {},
     "output_type": "display_data"
    },
    {
     "name": "stdout",
     "output_type": "stream",
     "text": [
      "[0.007355962879955769, 0.8326200073713583, 0.7132382023239158]\n",
      "-----------------\n"
     ]
    },
    {
     "data": {
      "text/html": [
       "<table border=\"1\" class=\"dataframe\">\n",
       "  <thead>\n",
       "    <tr style=\"text-align: left;\">\n",
       "      <th>epoch</th>\n",
       "      <th>train_loss</th>\n",
       "      <th>valid_loss</th>\n",
       "      <th>dice</th>\n",
       "      <th>jaccard_coeff</th>\n",
       "      <th>time</th>\n",
       "    </tr>\n",
       "  </thead>\n",
       "  <tbody>\n",
       "    <tr>\n",
       "      <td>0</td>\n",
       "      <td>0.003544</td>\n",
       "      <td>0.008113</td>\n",
       "      <td>0.785121</td>\n",
       "      <td>0.646254</td>\n",
       "      <td>02:00</td>\n",
       "    </tr>\n",
       "    <tr>\n",
       "      <td>1</td>\n",
       "      <td>0.003328</td>\n",
       "      <td>0.008733</td>\n",
       "      <td>0.774175</td>\n",
       "      <td>0.631555</td>\n",
       "      <td>02:00</td>\n",
       "    </tr>\n",
       "    <tr>\n",
       "      <td>2</td>\n",
       "      <td>0.003132</td>\n",
       "      <td>0.007314</td>\n",
       "      <td>0.776229</td>\n",
       "      <td>0.634293</td>\n",
       "      <td>01:59</td>\n",
       "    </tr>\n",
       "    <tr>\n",
       "      <td>3</td>\n",
       "      <td>0.003177</td>\n",
       "      <td>0.006489</td>\n",
       "      <td>0.782146</td>\n",
       "      <td>0.642233</td>\n",
       "      <td>02:00</td>\n",
       "    </tr>\n",
       "    <tr>\n",
       "      <td>4</td>\n",
       "      <td>0.003195</td>\n",
       "      <td>0.009051</td>\n",
       "      <td>0.779710</td>\n",
       "      <td>0.638954</td>\n",
       "      <td>02:00</td>\n",
       "    </tr>\n",
       "    <tr>\n",
       "      <td>5</td>\n",
       "      <td>0.003134</td>\n",
       "      <td>0.008066</td>\n",
       "      <td>0.772147</td>\n",
       "      <td>0.628860</td>\n",
       "      <td>02:00</td>\n",
       "    </tr>\n",
       "  </tbody>\n",
       "</table>"
      ],
      "text/plain": [
       "<IPython.core.display.HTML object>"
      ]
     },
     "metadata": {},
     "output_type": "display_data"
    },
    {
     "name": "stderr",
     "output_type": "stream",
     "text": [
      "/home/ju/miniconda3/envs/fastai/lib/python3.7/site-packages/torch/nn/functional.py:3613: UserWarning: Default upsampling behavior when mode=bilinear is changed to align_corners=False since 0.4.0. Please specify align_corners=True if the old behavior is desired. See the documentation of nn.Upsample for details.\n",
      "  \"See the documentation of nn.Upsample for details.\".format(mode)\n"
     ]
    },
    {
     "name": "stdout",
     "output_type": "stream",
     "text": [
      "Better model found at epoch 0 with jaccard_coeff value: 0.6462540454246296.\n",
      "Epoch 1: reducing lr to 0.001\n",
      "Epoch 2: reducing lr to 0.001\n",
      "Epoch 3: reducing lr to 0.001\n",
      "Epoch 4: reducing lr to 0.001\n",
      "Epoch 5: reducing lr to 7.1707479625385265e-06\n"
     ]
    },
    {
     "data": {
      "text/html": [
       "<table border=\"1\" class=\"dataframe\">\n",
       "  <thead>\n",
       "    <tr style=\"text-align: left;\">\n",
       "      <th>epoch</th>\n",
       "      <th>train_loss</th>\n",
       "      <th>valid_loss</th>\n",
       "      <th>dice</th>\n",
       "      <th>jaccard_coeff</th>\n",
       "      <th>time</th>\n",
       "    </tr>\n",
       "  </thead>\n",
       "  <tbody>\n",
       "    <tr>\n",
       "      <td>0</td>\n",
       "      <td>0.003098</td>\n",
       "      <td>0.009155</td>\n",
       "      <td>0.751127</td>\n",
       "      <td>0.601444</td>\n",
       "      <td>03:54</td>\n",
       "    </tr>\n",
       "    <tr>\n",
       "      <td>1</td>\n",
       "      <td>0.003349</td>\n",
       "      <td>0.008431</td>\n",
       "      <td>0.780200</td>\n",
       "      <td>0.639613</td>\n",
       "      <td>03:54</td>\n",
       "    </tr>\n",
       "    <tr>\n",
       "      <td>2</td>\n",
       "      <td>0.003000</td>\n",
       "      <td>0.009858</td>\n",
       "      <td>0.742658</td>\n",
       "      <td>0.590657</td>\n",
       "      <td>03:54</td>\n",
       "    </tr>\n",
       "    <tr>\n",
       "      <td>3</td>\n",
       "      <td>0.003198</td>\n",
       "      <td>0.007747</td>\n",
       "      <td>0.774138</td>\n",
       "      <td>0.631505</td>\n",
       "      <td>03:54</td>\n",
       "    </tr>\n",
       "    <tr>\n",
       "      <td>4</td>\n",
       "      <td>0.002820</td>\n",
       "      <td>0.008579</td>\n",
       "      <td>0.774079</td>\n",
       "      <td>0.631426</td>\n",
       "      <td>03:54</td>\n",
       "    </tr>\n",
       "    <tr>\n",
       "      <td>5</td>\n",
       "      <td>0.002735</td>\n",
       "      <td>0.006355</td>\n",
       "      <td>0.790990</td>\n",
       "      <td>0.654245</td>\n",
       "      <td>03:54</td>\n",
       "    </tr>\n",
       "    <tr>\n",
       "      <td>6</td>\n",
       "      <td>0.002232</td>\n",
       "      <td>0.006618</td>\n",
       "      <td>0.799164</td>\n",
       "      <td>0.665506</td>\n",
       "      <td>03:54</td>\n",
       "    </tr>\n",
       "  </tbody>\n",
       "</table>"
      ],
      "text/plain": [
       "<IPython.core.display.HTML object>"
      ]
     },
     "metadata": {},
     "output_type": "display_data"
    },
    {
     "name": "stdout",
     "output_type": "stream",
     "text": [
      "Better model found at epoch 0 with jaccard_coeff value: 0.6014438701581883.\n",
      "Better model found at epoch 1 with jaccard_coeff value: 0.6396127817952123.\n",
      "Epoch 2: reducing lr to 0.0005\n",
      "Epoch 3: reducing lr to 0.0005\n",
      "Epoch 4: reducing lr to 0.0005\n",
      "Better model found at epoch 5 with jaccard_coeff value: 0.6542454972938027.\n",
      "Better model found at epoch 6 with jaccard_coeff value: 0.6655063644692055.\n",
      "models/maya_J041_platform4.pkl\n",
      "--- fold complete # 4\n"
     ]
    },
    {
     "data": {
      "text/html": [],
      "text/plain": [
       "<IPython.core.display.HTML object>"
      ]
     },
     "metadata": {},
     "output_type": "display_data"
    },
    {
     "name": "stdout",
     "output_type": "stream",
     "text": [
      "[0.0066177393309772015, 0.7991640004105315, 0.6655063644692055]\n",
      "-----------------\n"
     ]
    },
    {
     "data": {
      "image/png": "[encoded data removed]",
      "text/plain": [
       "<Figure size 432x288 with 1 Axes>"
      ]
     },
     "metadata": {
      "needs_background": "light"
     },
     "output_type": "display_data"
    }
   ],
   "source": [
    "# we iterate over each fold\n",
    "for fold in range(n_folds):\n",
    "    dls = get_data(mydf, fold, n_folds, codes, bs, item_tfms, batch_tfms) # get dataloaders\n",
    "    learn = load_learner('models/stage-1 ' + myclass + str(fold)) # re-load the learner\n",
    "    learn.dls = dls # and insert the new dataloaders\n",
    "    learn.to_fp16() # switch into fp16 training (half precision)\n",
    "    learn.loss_func = myloss_func # set loss function\n",
    "    # note that we now fine tune again but 2nd cycle with full precision (tofp32)\n",
    "    learn.fine_tune_flat(epochs, lr, freeze_epochs, first_callbacks=callbacks, second_callbacks=callbacks, tofp32=True)\n",
    "    learn.recorder.plot_loss()\n",
    "    MYMODEL = \"models/maya_\"+VERSION+\"_\"+myclass+str(fold)+\".pkl\"\n",
    "    print (MYMODEL)\n",
    "    print (\"--- fold complete #\", fold)\n",
    "    print (learn.validate())\n",
    "    print (\"-----------------\")\n",
    "    learn.export(MYMODEL)\n",
    "    del dls, learn\n",
    "    if TESTRUN: break"
   ]
  },
  {
   "cell_type": "code",
   "execution_count": 42,
   "metadata": {},
   "outputs": [],
   "source": [
    "#from jarviscloud import jarviscloud\n",
    "#jarviscloud.pause()"
   ]
  },
  {
   "cell_type": "markdown",
   "metadata": {},
   "source": [
    "# END"
   ]
  },
  {
   "cell_type": "code",
   "execution_count": null,
   "metadata": {},
   "outputs": [],
   "source": []
  }
 ],
 "metadata": {
  "accelerator": "GPU",
  "colab": {
   "collapsed_sections": [
    "IgfhU0zObiTq",
    "6z8pe1eqbiTv",
    "QeePnewEbiTy"
   ],
   "name": "Segmentation_010.ipynb",
   "provenance": []
  },
  "kernelspec": {
   "display_name": "Python 3",
   "language": "python",
   "name": "python3"
  },
  "language_info": {
   "codemirror_mode": {
    "name": "ipython",
    "version": 3
   },
   "file_extension": ".py",
   "mimetype": "text/x-python",
   "name": "python",
   "nbconvert_exporter": "python",
   "pygments_lexer": "ipython3",
   "version": "3.7.7"
  }
 },
 "nbformat": 4,
 "nbformat_minor": 4
}
